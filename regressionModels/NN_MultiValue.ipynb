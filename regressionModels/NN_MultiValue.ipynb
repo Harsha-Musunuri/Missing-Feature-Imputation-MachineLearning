{
 "cells": [
  {
   "cell_type": "code",
   "execution_count": 12,
   "metadata": {
    "colab": {
     "base_uri": "https://localhost:8080/"
    },
    "id": "iy1a5kVehY6X",
    "outputId": "da87b62f-518d-4390-a435-337a139d4691"
   },
   "outputs": [
    {
     "name": "stdout",
     "output_type": "stream",
     "text": [
      "Mounted at /content/drive\n"
     ]
    }
   ],
   "source": [
    "from google.colab import drive\n",
    "drive.mount('/content/drive')"
   ]
  },
  {
   "cell_type": "markdown",
   "metadata": {
    "id": "viVefdvcN69F"
   },
   "source": [
    "#**IMPORT REQUIRED PACKAGES**\n",
    "\n",
    "\n",
    "\n",
    "\n",
    "\n",
    "\n",
    "\n"
   ]
  },
  {
   "cell_type": "code",
   "execution_count": 265,
   "metadata": {
    "id": "GtUemp3HN35X"
   },
   "outputs": [],
   "source": [
    "import numpy as np\n",
    "import pandas as pd\n",
    "import matplotlib.pyplot as plt\n",
    "from scipy import stats"
   ]
  },
  {
   "cell_type": "markdown",
   "metadata": {
    "id": "fLiHm83vOV8R"
   },
   "source": [
    "#**DEEP NEURAL NETWORK CLASS**"
   ]
  },
  {
   "cell_type": "code",
   "execution_count": 2,
   "metadata": {
    "id": "eZRGDIXZQC35"
   },
   "outputs": [],
   "source": [
    "class Deep_Neural_Network :\n",
    "\n",
    "  def create(self,input_size,output_size,hidden_dims,output_type,initializer='random',\n",
    "             seed=None,activation='relu',leaky_relu_slope=0.1):\n",
    "    \"\"\"\n",
    "    The method to define the architecture of Deep Neural Network and initialize weights.\n",
    "\n",
    "    Parameters:\n",
    "\n",
    "    input_size(int)       :   No. of neurons in input layer.\n",
    "    \n",
    "    output_size(int)      :   No. of classes in classification task (2 in case of binary classification,\n",
    "                              modify the dataset accordingly !)\n",
    "                              (or) No. of Target variables in case of regression task.\n",
    "\n",
    "    hidden_dims(int list) :   No. of neurons in hidden layers.\n",
    "\n",
    "    output_type(string)   :   Type of task :\n",
    "                              'classification'  :  Classification (discrete target).\n",
    "                              'regression'      :  Regression (continuous target).\n",
    "\n",
    "    initializer(string)   :   Weight initializer :\n",
    "                              'random'  : Random initialization.\n",
    "                              'xavier'  : Xavier initialization (preferred for tanh activation).\n",
    "                              'he'      : He initialization (preferred for ReLU activation).\n",
    "\n",
    "    seed(int)             :   NumPy seed for random initialization.\n",
    "\n",
    "    activation(string)    :   Activation function for hidden layers. One of the following :\n",
    "                              'linear'  : Linear activation.\n",
    "                              'sigmoid' : Sigmoid activation.\n",
    "                              'tanh'    : Hyberbolic tangent activation.\n",
    "                              'relu'    : Rectified Linear Unit activation.\n",
    "                              'lrelu'   : Leaky Rectified Linear Unit activation.\n",
    "\n",
    "                              Activation function at output layer would be SoftMax for classification\n",
    "                              and Linear for regression.\n",
    "\n",
    "    leaky_relu_slope(int) :   Slope for Leaky ReLU activation.   \n",
    "\n",
    "    \"\"\"\n",
    "    self.layer_dims=[input_size]+hidden_dims+[output_size]\n",
    "    self.W = {}\n",
    "    self.b = {}\n",
    "    self.activation = activation\n",
    "    self.leaky_relu_slope = leaky_relu_slope\n",
    "    self.initializer = initializer\n",
    "    self.output_type = output_type\n",
    "\n",
    "    self.L = len(self.layer_dims)-1\n",
    "\n",
    "    if seed != None:\n",
    "      np.random.seed(seed)\n",
    "\n",
    "    for i in range(self.L):\n",
    "      self.W[i+1] = np.random.randn(self.layer_dims[i+1],self.layer_dims[i])\n",
    "      self.b[i+1] = np.zeros((self.layer_dims[i+1],1))\n",
    "\n",
    "    if self.initializer == 'xavier':\n",
    "      for i in range(self.L):\n",
    "        self.W[i+1] = self.W[i+1]*np.sqrt(1/(self.layer_dims[i]))\n",
    "\n",
    "    elif self.initializer == 'he':\n",
    "      for i in range(self.L):\n",
    "        self.W[i+1] = self.W[i+1]*np.sqrt(2/(self.layer_dims[i]))\n",
    "\n",
    "\n",
    "\n",
    "  def save_weights(self):\n",
    "    \"\"\"\n",
    "    The method to save model weights.\n",
    "\n",
    "    Returns :\n",
    "\n",
    "    params(tuple)   : Tuple containing Model weights and biases in form of dictionaries.\n",
    "\n",
    "    \"\"\"\n",
    "    return (self.W,self.b)\n",
    "\n",
    "  \n",
    "\n",
    "  def load_weights(self,params):\n",
    "    \"\"\"\n",
    "    The method to load model weights.\n",
    "\n",
    "    Parameters :\n",
    "\n",
    "    params(tuple)   : Tuple containing Model weights and biases in form of dictionaries.\n",
    "\n",
    "    \"\"\"\n",
    "    self.W = params[0]\n",
    "    self.b = params[1]\n",
    "\n",
    "\n",
    "\n",
    "  ### ACTIVATION FUNCTIONS AND THEIR GRADIENTS ###\n",
    "\n",
    "  def linear(self,X):\n",
    "    return X\n",
    "\n",
    "  def linear_grad(self,X):\n",
    "    return np.ones(shape=X.shape) \n",
    "\n",
    "  def sigmoid(self,X):\n",
    "    return 1/(1+np.exp(-X))\n",
    "\n",
    "  def sigmoid_grad(self,X):\n",
    "    return self.sigmoid(X)*(1-self.sigmoid(X))\n",
    "\n",
    "  def tanh(self,X):\n",
    "    return np.tanh(X)\n",
    "\n",
    "  def tanh_grad(self,X):\n",
    "    return 1-((self.tanh(X))**2)\n",
    "\n",
    "  def relu(self,X):\n",
    "    return np.maximum(0,X)\n",
    "\n",
    "  def relu_grad(self,X):\n",
    "    return 1.0*(X>0)\n",
    "\n",
    "  def lrelu(self,X):\n",
    "    return np.where(X > 0, X, X * self.leaky_relu_slope)\n",
    "\n",
    "  def lrelu_grad(self,X):\n",
    "    return np.where(X > 0, 1, self.leaky_relu_slope)   \n",
    "\n",
    "  def softmax(self,X):\n",
    "    exps = np.exp(X-np.max(X))\n",
    "    return exps/np.sum(exps,axis=0)\n",
    "\n",
    "\n",
    "\n",
    "  def to_one_hot(self,X):\n",
    "    \"\"\"\n",
    "    The method to convert SoftMax probabilities to label in one hot form.\n",
    "\n",
    "    Parameters :\n",
    "\n",
    "    X(NumPy 2D array of shape (output_size,m))  : Predicted SoftMax probabilities for batch of size m.\n",
    "\n",
    "    Returns :\n",
    "\n",
    "    X_one_hot(NumPy 2D array of shape (output_size,m)) : Predicted labels in one hot form for batch of \n",
    "                                                         size m.\n",
    "\n",
    "    \"\"\"\n",
    "    a = np.argmax(X,axis=0)\n",
    "    b = np.zeros((X.shape[0],a.size))\n",
    "    b[a,np.arange(a.size)] = 1\n",
    "    return b\n",
    "\n",
    "\n",
    "\n",
    "  def accuracy(self,Y_pred,Y_true):\n",
    "    \"\"\"\n",
    "    The method to calculate classification accuracy.\n",
    "\n",
    "    Parameters :\n",
    "\n",
    "    Y_pred(NumPy 2D array of shape (output_size,m))  : Predicted labels for batch of size m.\n",
    "    \n",
    "    Y_true(NumPy 2D array of shape (output_size,m))  : Actual labels for batch of size m.\n",
    "\n",
    "    Returns :\n",
    "\n",
    "    accuracy(float)   : Accuracy in range [0,1].\n",
    "\n",
    "    \"\"\"\n",
    "    a = np.argmax(Y_pred,axis=0)\n",
    "    b = np.argmax(Y_true,axis=0)\n",
    "\n",
    "    correct = np.sum((a==b)*1)\n",
    "    total = a.size\n",
    "\n",
    "    return correct/total\n",
    "\n",
    "\n",
    "\n",
    "  def forward_propagation(self,X,dropout=False):\n",
    "    \"\"\"\n",
    "    The method to forward propagate input data through the network, and calculate activations of \n",
    "    each layer.\n",
    "\n",
    "    Parameters :\n",
    "\n",
    "    X(NumPy 2D array of shape (input_size,m))  : Input data for batch of size m.\n",
    "\n",
    "    dropout(boolean)                           : Perform dropout or not.\n",
    "\n",
    "    Returns :\n",
    "\n",
    "    activations(dictionary)   : Activations of all layers.\n",
    "\n",
    "    \"\"\"\n",
    "    self.Z = {}\n",
    "    self.A = {}\n",
    "\n",
    "    self.A[0] = X\n",
    "\n",
    "    for i in range (len(self.layer_dims)-2):\n",
    "      self.Z[i+1] = np.matmul(self.W[i+1],self.A[i])+self.b[i+1]\n",
    "      _ = \"self.A[i+1] = self.\"+self.activation+\"(self.Z[i+1])\"\n",
    "      exec(_)\n",
    "\n",
    "      if dropout == True:\n",
    "        self.A[i+1] *= ((np.random.rand(self.A[i+1].shape[0],self.A[i+1].shape[1])<self.keep_probs[i])*1)\n",
    "        self.A[i+1].reshape(1,-1)\n",
    "        self.A[i+1] /= self.keep_probs[i]\n",
    "\n",
    "    self.Z[self.L] = np.matmul(self.W[self.L],self.A[len(self.layer_dims)-2])+self.b[self.L]\n",
    "\n",
    "    if self.output_type == 'classification':\n",
    "      self.A[self.L] = self.softmax(self.Z[self.L])\n",
    "\n",
    "    elif self.output_type == 'regression':\n",
    "      self.A[self.L] = self.Z[self.L] \n",
    "\n",
    "    return self.A\n",
    "\n",
    "\n",
    "\n",
    "  def compute_cost(self,Y_pred,Y_true):\n",
    "    \"\"\"\n",
    "    The method to compute cost for the current forward propagated batch.\n",
    "\n",
    "    Parameters :\n",
    "\n",
    "    Y_pred(NumPy 2D array of shape (output_size,m))  : Predicted outputs for current forward propagated \n",
    "                                                       batch of size m.\n",
    "    \n",
    "    Y_true(NumPy 2D array of shape (output_size,m))  : Ground truths for current forward propagated batch\n",
    "                                                       of size m.\n",
    "\n",
    "    Returns :\n",
    "\n",
    "    cost(float)   : Cost for current forward propagated batch.\n",
    "\n",
    "    \"\"\"\n",
    "    if self.output_type=='classification':\n",
    "      cost = (1/Y_true.shape[1])*np.sum(-1*Y_true*np.log(Y_pred))\n",
    "\n",
    "    else:\n",
    "      cost = (1/(2*Y_true.shape[1]))*np.sum((Y_pred-Y_true)**2)\n",
    "\n",
    "    sum=0\n",
    "\n",
    "    if self.regularizer == 'l2':\n",
    "      for i in range(self.L):\n",
    "        sum += np.sum(self.W[i+1]**2)\n",
    "      cost += ((1/(2*Y_true.shape[1]))*sum)      \n",
    "\n",
    "    elif self.regularizer == 'l1':\n",
    "      for i in range(self.L):\n",
    "        sum += np.sum(np.abs(self.W[i+1]))\n",
    "      cost += ((1/Y_true.shape[1])*sum)   \n",
    "    \n",
    "    return cost\n",
    "\n",
    "\n",
    "\n",
    "  def backward_propagation(self,Y):\n",
    "    \"\"\"\n",
    "    The method to compute gradient of cost with respect to weights and biases of each layer.\n",
    "\n",
    "    Parameters :\n",
    "\n",
    "    Y(NumPy 2D array of shape (output_size,m))  : Ground truths for current forward propagated batch \n",
    "                                                  of size m.\n",
    "\n",
    "    Returns :\n",
    "\n",
    "    gradients(tuple)   : Tuple containing gradients of cost with respect to weights and biases of each \n",
    "                         layer in form of dictionaries.\n",
    "\n",
    "    \"\"\"\n",
    "    self.dZ = {}\n",
    "    self.dA = {}\n",
    "    self.dW = {}\n",
    "    self.db = {}\n",
    "\n",
    "    self.dZ[self.L] = self.A[self.L]-Y\n",
    "\n",
    "    for i in range(self.L,0,-1):\n",
    "\n",
    "      self.dW[i] = (1/self.dZ[i].shape[1])*np.matmul(self.dZ[i],self.A[i-1].T)\n",
    "\n",
    "      if self.regularizer == 'l2':\n",
    "        self.dW[i] += self.regularizer_lambda*self.W[i]\n",
    "      elif self.regularizer == 'l1':\n",
    "        self.dW[i] += self.regularizer_lambda*np.where(self.W[i]>0,1,-1) \n",
    "        \n",
    "      self.db[i] = (1/self.dZ[i].shape[1])*np.sum(self.dZ[i],axis=1,keepdims=True)\n",
    "      _ = \"self.dZ[i-1] = np.matmul(self.W[i].T,self.dZ[i])*self.\"+self.activation+\"_grad(self.A[i-1])\"\n",
    "      exec(_) \n",
    "      \n",
    "    return (self.dW,self.db)\n",
    "  \n",
    "\n",
    "\n",
    "  def train(self,X_train,Y_train,X_val,Y_val,optimizer='vanilla',regularizer=None,regularizer_lambda=0.02,\n",
    "            keep_probs=[],mini_batch_size=32,epochs=100,learning_rate=0.01,beta=0.9,beta1=0.9,beta2=0.99,\n",
    "            print_loss_freq=100,plot_loss=True):\n",
    "    \"\"\"\n",
    "    The method to train the weights and biases of each layer for the provided training data with \n",
    "    ground truths.\n",
    "\n",
    "    Parameters :\n",
    "\n",
    "    X_train(NumPy 2D array of shape(input_size,m))   :  Input data(for batch of size m) for training.\n",
    "\n",
    "    Y_train(NumPy 2D array of shape(output_size,m))  :  Ground truths(for batch of size m) for training.\n",
    "\n",
    "    X_val(NumPy 2D array of shape(input_size,m))     :  Input data(for batch of size m) for validation.\n",
    "\n",
    "    Y_val(NumPy 2D array of shape(output_size,m))    :  Ground truths(for batch of size m) for validation.\n",
    "\n",
    "    optimizer(string)             :   Optimizer for training process, one of the following :\n",
    "                                      'vanilla'     : Original gradient decsent.\n",
    "                                      'momentum'    : Gradient descent with momentum.\n",
    "                                      'rmsprop'     : Root mean square propagation.\n",
    "                                      'adam'        : Adaptive moments estimation.\n",
    "    \n",
    "    regularizer(string)           :   Regularizer for weights of network, one of the following :\n",
    "                                      'l1'      : L1 regularization.\n",
    "                                      'l2'      : L2 regularization.\n",
    "                                      'dropout' : Dropout regularization.\n",
    "                                      None      : No regularizer.\n",
    "\n",
    "    regularizer_lambda(float)     :   Regularization parameter lambda for L1 or L2 regularization.\n",
    "\n",
    "    keep_probs(float[0,1] list)   :   Keeping probabilities for hidden layers in Dropout regularization.\n",
    "\n",
    "    mini_batch_size(int)          :   Mini Batch size (1 for Stochastic gradient descent).\n",
    "\n",
    "    epochs(int)                   :   No. of iterations over training set.\n",
    "\n",
    "    learning_rate(float)          :   Learning rate aplha.\n",
    "\n",
    "    beta(float)                   :   Optimizer parameter beta for 'momentum' and 'rmsprop' optimizers.\n",
    "\n",
    "    beta1(float)                  :   Optimizer parameter beta2 for 'adam' optimizer.\n",
    "\n",
    "    beta2(float)                  :   Optimizer parameter beta2 for 'adam' optimizer.\n",
    "\n",
    "    print_loss_freq(int)          :   Frequency of printing metrics.\n",
    "\n",
    "    plot_loss(boolean)            :   Plot learning curves or not.\n",
    "\n",
    "    Returns :\n",
    "\n",
    "    Metrics_history(tuple)        :   History of metrics in form of lists\n",
    "\n",
    "    \"\"\"\n",
    "    self.regularizer_lambda = regularizer_lambda\n",
    "    self.regularizer = regularizer\n",
    "\n",
    "    if keep_probs != []:\n",
    "      self.keep_probs = keep_probs\n",
    "    else:\n",
    "      self.keep_probs = [1]*(len(self.layer_dims)-2)\n",
    "\n",
    "    self.print_loss_freq = print_loss_freq  \n",
    "\n",
    "    self.Mw = {}\n",
    "    self.Mb = {}\n",
    "    self.Vw = {}\n",
    "    self.Vb = {}\n",
    "\n",
    "    for i in range(self.L):\n",
    "      self.Mw[i+1] = np.zeros(shape=self.W[i+1].shape)\n",
    "      self.Mb[i+1] = np.zeros(shape=self.b[i+1].shape)\n",
    "      self.Vw[i+1] = np.zeros(shape=self.W[i+1].shape)\n",
    "      self.Vb[i+1] = np.zeros(shape=self.b[i+1].shape)\n",
    "\n",
    "    train_cost = []\n",
    "    val_cost = []\n",
    "    train_acc = []\n",
    "    val_acc = []\n",
    "    m = X_train.shape[1]\n",
    "\n",
    "    drop = False\n",
    "    if(self.regularizer == 'dropout'):\n",
    "      drop = True\n",
    "\n",
    "    t = 1\n",
    "    \n",
    "    for e in range(epochs):\n",
    "\n",
    "      mask = np.random.permutation(m)\n",
    "\n",
    "      X_train = X_train[:,mask]\n",
    "      Y_train = Y_train[:,mask]\n",
    "\n",
    "      if optimizer == 'vanilla':\n",
    "\n",
    "        for i in range(0,m,mini_batch_size):\n",
    "\n",
    "          _ = self.forward_propagation(X_train[:,i:(i+mini_batch_size)],drop)\n",
    "          _ = self.backward_propagation(Y_train[:,i:(i+mini_batch_size)])\n",
    "          \n",
    "          for i in range(self.L):\n",
    "            self.W[i+1] -= learning_rate*self.dW[i+1]\n",
    "            self.b[i+1] -= learning_rate*self.db[i+1]\n",
    "\n",
    "      elif optimizer == 'momentum':\n",
    "\n",
    "        for i in range(0,m,mini_batch_size):\n",
    "\n",
    "          _ = self.forward_propagation(X_train[:,i:(i+mini_batch_size)],drop)\n",
    "          _ = self.backward_propagation(Y_train[:,i:(i+mini_batch_size)])\n",
    "\n",
    "          for i in range(self.L):\n",
    "            self.Mw[i+1] = (beta*self.Mw[i+1])+(1-beta)*self.dW[i+1]\n",
    "            self.Mb[i+1] = (beta*self.Mb[i+1])+(1-beta)*self.db[i+1]\n",
    "          \n",
    "          \n",
    "          for i in range(self.L):\n",
    "            self.W[i+1] -= learning_rate*self.Mw[i+1]\n",
    "            self.b[i+1] -= learning_rate*self.Mb[i+1]\n",
    "\n",
    "      elif optimizer == 'rmsprop':\n",
    "\n",
    "        for i in range(0,m,mini_batch_size):\n",
    "\n",
    "          _ = self.forward_propagation(X_train[:,i:(i+mini_batch_size)],drop)\n",
    "          _ = self.backward_propagation(Y_train[:,i:(i+mini_batch_size)])\n",
    "\n",
    "          for i in range(self.L):\n",
    "            self.Vw[i+1] = (beta*self.Vw[i+1])+(1-beta)*(self.dW[i+1]**2)\n",
    "            self.Vb[i+1] = (beta*self.Vb[i+1])+(1-beta)*(self.db[i+1]**2)\n",
    "          \n",
    "          for i in range(self.L):\n",
    "            \n",
    "            self.W[i+1] -= learning_rate*(self.dW[i+1]/(np.sqrt(self.Vw[i+1])+10e-8))\n",
    "            self.b[i+1] -= learning_rate*(self.db[i+1]/(np.sqrt(self.Vb[i+1])+10e-8))\n",
    "\n",
    "      elif optimizer == 'adam':\n",
    "        \n",
    "        for i in range(0,m,mini_batch_size):\n",
    "\n",
    "          _ = self.forward_propagation(X_train[:,i:(i+mini_batch_size)],drop)\n",
    "          _ = self.backward_propagation(Y_train[:,i:(i+mini_batch_size)])\n",
    "\n",
    "          for i in range(self.L):\n",
    "\n",
    "            self.Mw[i+1] = (beta1*self.Mw[i+1])+(1-beta1)*self.dW[i+1]\n",
    "            #self.Mw[i+1] /= (1-np.power(beta1,t))\n",
    "            self.Mb[i+1] = (beta1*self.Mb[i+1])+(1-beta1)*self.db[i+1]\n",
    "            #self.Mb[i+1] /= (1-np.power(beta1,t))\n",
    "\n",
    "          for i in range(self.L):\n",
    "            self.Vw[i+1] = (beta2*self.Vw[i+1])+(1-beta2)*(self.dW[i+1]**2)\n",
    "            #self.Vw[i+1] /= (1-np.power(beta2,t))\n",
    "            self.Vb[i+1] = (beta2*self.Vb[i+1])+(1-beta2)*(self.db[i+1]**2)\n",
    "            #self.Vb[i+1] /= (1-np.power(beta2,t))\n",
    "\n",
    "          t += 1  \n",
    "\n",
    "          for i in range(self.L):\n",
    "            self.W[i+1] -= learning_rate*(self.Mw[i+1]/(np.sqrt(self.Vw[i+1])+10e-8))\n",
    "            self.b[i+1] -= learning_rate*(self.Mb[i+1]/(np.sqrt(self.Vb[i+1])+10e-8))\n",
    "\n",
    "      Y_pred_train = self.forward_propagation(X_train)[self.L]\n",
    "      Y_pred_val = self.forward_propagation(X_val)[self.L]\n",
    "                                   \n",
    "      train_cost.append(self.compute_cost(Y_pred_train,Y_train))\n",
    "      val_cost.append(self.compute_cost(Y_pred_val,Y_val))\n",
    "\n",
    "      train_acc.append(self.accuracy(self.to_one_hot(Y_pred_train),Y_train))\n",
    "      val_acc.append(self.accuracy(self.to_one_hot(Y_pred_val),Y_val))\n",
    "\n",
    "      if (e+1)%self.print_loss_freq==0:\n",
    "        if self.output_type == 'classification':\n",
    "          print(\"After \"+str(e+1)+\" epochs :    Training Loss = \"+str(train_cost[e]) +\n",
    "                \"    Validation Loss = \"+str(val_cost[e]) + \"\\n\\n\\t\\t \" +\n",
    "                \"    Training Accuracy = \"+str(train_acc[e]) +\n",
    "                \"    Validation Accuracy = \"+str(val_acc[e])+'\\n')\n",
    "        else:\n",
    "          print(\"After \"+str(e+1)+\" epochs :    Training Loss = \"+str(train_cost[e]) + \n",
    "                \"    Validation Loss = \"+str(val_cost[e])+'\\n')  \n",
    "\n",
    "    if plot_loss == True:\n",
    "\n",
    "      r = list(range(1,epochs+1))\n",
    "      plt.plot(r,train_cost,'r',label=\"Training Loss\")\n",
    "      plt.plot(r,val_cost,'b',label=\"Validation Loss\")\n",
    "      plt.xlabel('Epochs')\n",
    "      if self.output_type == 'regression':\n",
    "        plt.ylabel('L2 Loss')\n",
    "      else:\n",
    "        plt.ylabel('Categorical Cross Entropy Loss') \n",
    "      plt.legend()\n",
    "      plt.show()\n",
    "\n",
    "      print(\"\\nTraining Loss : \",train_cost[-1])\n",
    "      print(\"\\nValidation Loss : \",val_cost[-1]) \n",
    "\n",
    "      if self.output_type == 'classification':\n",
    "        print(\"\\nTraining Accuracy : \",train_acc[-1])\n",
    "        print(\"\\nValidation Accuracy : \",val_acc[-1]) \n",
    "\n",
    "    return (train_cost,val_cost,train_acc,val_acc)       \n",
    "\n",
    "\n",
    "\n",
    "  def predict(self,X):\n",
    "    \"\"\"\n",
    "    The method to predict outputs for given unknown input data.\n",
    "\n",
    "    Parameters :\n",
    "\n",
    "    X(NumPy 2D array of shape (input_size,m))  : Input data for batch of size m.\n",
    "\n",
    "    Returns :\n",
    "\n",
    "    Y_pred(NumPy 2D array of shape (output_size_size,m))  : Predicted output for batch of size m.\n",
    "\n",
    "    \"\"\"\n",
    "\n",
    "    A = self.forward_propagation(X)\n",
    "\n",
    "    if self.output_type == 'regression':\n",
    "      return A[self.L]\n",
    "    else:\n",
    "      return self.to_one_hot(A[self.L])\n"
   ]
  },
  {
   "cell_type": "markdown",
   "metadata": {
    "id": "ysV7czsasUB_"
   },
   "source": [
    "#**REGRESSION on Human Perception dataset**"
   ]
  },
  {
   "cell_type": "code",
   "execution_count": 26,
   "metadata": {
    "colab": {
     "base_uri": "https://localhost:8080/"
    },
    "id": "Kfr_R0iliFNE",
    "outputId": "eae079dc-c069-4dd7-b18f-3a68205ec1b4"
   },
   "outputs": [
    {
     "data": {
      "text/plain": [
       "((132506, 26), (132506, 1))"
      ]
     },
     "execution_count": 26,
     "metadata": {},
     "output_type": "execute_result"
    }
   ],
   "source": [
    "X=pd.read_csv('/Users/harsha/Desktop/myProjects/Fall2020-Local/ML/CS536FinalProject/ML-FinalProject/Datasets/Train_data_x1.csv', encoding = 'ISO-8859-1')\n",
    "selectF=['age', 'how_tall_in_meters', 'weight', 'body_mass_index', 'y1', 'z1',\n",
    "       'x2', 'y2', 'z2', 'x3', 'y3', 'z3', 'x4', 'y4', 'z4', 'user_debora',\n",
    "       'user_katia', 'user_wallace', 'user_jose_carlos', 'gender_Woman',\n",
    "       'gender_Man', 'class_sitting', 'class_sittingdown', 'class_standing',\n",
    "       'class_standingup', 'class_walking']\n",
    "Xtrain = X[selectF]\n",
    "ytrain = X['x1']\n",
    "ytrain = ytrain.values.reshape(-1,1)\n",
    "Xtrain.shape,ytrain.shape"
   ]
  },
  {
   "cell_type": "code",
   "execution_count": 27,
   "metadata": {
    "id": "svjp4QtljJQW"
   },
   "outputs": [],
   "source": [
    "X=Xtrain\n",
    "Y=ytrain"
   ]
  },
  {
   "cell_type": "code",
   "execution_count": 28,
   "metadata": {
    "colab": {
     "base_uri": "https://localhost:8080/"
    },
    "id": "cqbgAEIwkV8l",
    "outputId": "c902046a-19d1-4378-a401-ae4f1f98f8d1"
   },
   "outputs": [
    {
     "data": {
      "text/plain": [
       "numpy.ndarray"
      ]
     },
     "execution_count": 28,
     "metadata": {},
     "output_type": "execute_result"
    }
   ],
   "source": [
    "X=X.to_numpy()\n",
    "type(Y)"
   ]
  },
  {
   "cell_type": "code",
   "execution_count": 29,
   "metadata": {
    "id": "fBuQlyAqlqAu"
   },
   "outputs": [],
   "source": [
    "X=X[:10000,:]\n",
    "Y=Y[:10000,:]"
   ]
  },
  {
   "cell_type": "code",
   "execution_count": 30,
   "metadata": {
    "colab": {
     "base_uri": "https://localhost:8080/"
    },
    "id": "d3fBVOrRhRsc",
    "outputId": "c8ec85ca-acb1-4f16-b55d-51f59d7401ac"
   },
   "outputs": [
    {
     "data": {
      "text/plain": [
       "((10000, 26), (10000, 1))"
      ]
     },
     "execution_count": 30,
     "metadata": {},
     "output_type": "execute_result"
    }
   ],
   "source": [
    "X.shape, Y.shape"
   ]
  },
  {
   "cell_type": "code",
   "execution_count": 31,
   "metadata": {
    "id": "if_inQKLk9AB"
   },
   "outputs": [],
   "source": [
    "from sklearn.model_selection import train_test_split\n",
    "X, X_test, Y, Y_test = train_test_split(X, Y, test_size = 0.25)"
   ]
  },
  {
   "cell_type": "code",
   "execution_count": 32,
   "metadata": {
    "colab": {
     "base_uri": "https://localhost:8080/"
    },
    "id": "Yz6KGgETjXn8",
    "outputId": "7cc7db60-2e04-4c63-9527-92463f85b544"
   },
   "outputs": [
    {
     "data": {
      "text/plain": [
       "(7500, 26)"
      ]
     },
     "execution_count": 32,
     "metadata": {},
     "output_type": "execute_result"
    }
   ],
   "source": [
    "X.shape"
   ]
  },
  {
   "cell_type": "code",
   "execution_count": 33,
   "metadata": {
    "id": "buBHUTjXr7ga"
   },
   "outputs": [],
   "source": [
    "# Normalize, reshape and split into train, test and validation datasets.\n",
    "\n",
    "X_train,X_val,Y_train,Y_val = train_test_split(X,Y,test_size=0.1)\n",
    "\n",
    "Y_train = Y_train.reshape(1,Y_train.shape[0])\n",
    "Y_val = Y_val.reshape(1,Y_val.shape[0])\n",
    "\n",
    "X_train = (X_train-np.mean(X_train,axis=0))/np.std(X_train,axis=0)\n",
    "X_val = (X_val-np.mean(X_val,axis=0))/np.std(X_val,axis=0)\n",
    "X_test = (X_test-np.mean(X_test,axis=0))/np.std(X_test,axis=0)"
   ]
  },
  {
   "cell_type": "code",
   "execution_count": 36,
   "metadata": {},
   "outputs": [
    {
     "name": "stdout",
     "output_type": "stream",
     "text": [
      "(6750, 26) \n",
      " (750, 26) \n",
      " (1, 6750) \n",
      " (1, 750) \n",
      "\n",
      "<class 'numpy.ndarray'> \n",
      " <class 'numpy.ndarray'> \n",
      " <class 'numpy.ndarray'> \n",
      " <class 'numpy.ndarray'> \n",
      "\n"
     ]
    }
   ],
   "source": [
    "print(X_train.shape, \"\\n\",X_val.shape, \"\\n\", Y_train.shape,\"\\n\",Y_val.shape,\"\\n\")\n",
    "print(type(X_train), \"\\n\",type(X_val), \"\\n\", type(Y_train),\"\\n\",type(Y_val),\"\\n\")"
   ]
  },
  {
   "cell_type": "markdown",
   "metadata": {},
   "source": [
    "## Train Data for the new method"
   ]
  },
  {
   "cell_type": "code",
   "execution_count": 85,
   "metadata": {},
   "outputs": [],
   "source": [
    "X=pd.read_csv('/Users/harsha/Desktop/myProjects/Fall2020-Local/ML/CS536FinalProject/ML-FinalProject/Datasets/Train_data.csv', encoding = 'ISO-8859-1')\n",
    "selFeat=['x1', 'y1', 'z1',\n",
    "       'x2', 'y2', 'z2', 'x3', 'y3', 'z3', 'x4', 'y4', 'z4']\n",
    "X=X[selFeat]\n",
    "Xarr=X.to_numpy()\n",
    "arr = np.random.binomial(1, 0.5, X.shape)\n",
    "indices=np.where(arr==0)\n",
    "Xtransformed=Xarr.astype('float')\n",
    "Xtransformed[indices]=np.nan\n",
    "XtransDataframe=pd.DataFrame(Xtransformed,columns=['x1', 'y1', 'z1',\n",
    "       'x2', 'y2', 'z2', 'x3', 'y3', 'z3', 'x4', 'y4', 'z4'])\n",
    "Xtrain = XtransDataframe\n",
    "ytrain=pd.DataFrame(Xarr,columns=['x1', 'y1', 'z1',\n",
    "       'x2', 'y2', 'z2', 'x3', 'y3', 'z3', 'x4', 'y4', 'z4'])"
   ]
  },
  {
   "cell_type": "code",
   "execution_count": 86,
   "metadata": {},
   "outputs": [],
   "source": [
    "Xtrain=Xtrain.to_numpy()\n",
    "ytrain=ytrain.to_numpy()"
   ]
  },
  {
   "cell_type": "code",
   "execution_count": 87,
   "metadata": {},
   "outputs": [
    {
     "data": {
      "text/plain": [
       "array([ 7., 91., nan, 26., 39., nan, 15., nan, nan, nan, nan, nan])"
      ]
     },
     "execution_count": 87,
     "metadata": {},
     "output_type": "execute_result"
    }
   ],
   "source": [
    "Xtrain[0]"
   ]
  },
  {
   "cell_type": "code",
   "execution_count": 88,
   "metadata": {},
   "outputs": [
    {
     "data": {
      "text/plain": [
       "array([   7,   91,  -87,   26,   39, -124,   15,  108,  -88, -179, -106,\n",
       "       -173])"
      ]
     },
     "execution_count": 88,
     "metadata": {},
     "output_type": "execute_result"
    }
   ],
   "source": [
    "ytrain[0]"
   ]
  },
  {
   "cell_type": "code",
   "execution_count": 89,
   "metadata": {},
   "outputs": [],
   "source": [
    "Xtrain_orig_nan=Xtrain.copy()\n",
    "ytrain_orig_nan=ytrain.copy()"
   ]
  },
  {
   "cell_type": "code",
   "execution_count": 59,
   "metadata": {},
   "outputs": [],
   "source": [
    "X_train_nan=Xtrain_orig_nan[:99379,:].copy()\n",
    "X_test_nan=Xtrain_orig_nan[99380:132000,:].copy()\n",
    "X_val_nan=Xtrain_orig_nan[132001:132507,:].copy()"
   ]
  },
  {
   "cell_type": "code",
   "execution_count": 90,
   "metadata": {},
   "outputs": [],
   "source": [
    "Y_train_nan=ytrain_orig_nan[:99379,:].copy()\n",
    "Y_test_nan=ytrain_orig_nan[99380:132000,:].copy()\n",
    "Y_val_nan=ytrain_orig_nan[132001:132507,:].copy()"
   ]
  },
  {
   "cell_type": "code",
   "execution_count": 91,
   "metadata": {},
   "outputs": [],
   "source": [
    "X_train=X_train_nan.copy()\n",
    "X_test=X_test_nan.copy()\n",
    "X_val=X_val_nan.copy()"
   ]
  },
  {
   "cell_type": "code",
   "execution_count": 92,
   "metadata": {},
   "outputs": [],
   "source": [
    "Y_train=Y_train_nan.copy()\n",
    "Y_test=Y_test_nan.copy()\n",
    "Y_val=Y_val_nan.copy()"
   ]
  },
  {
   "cell_type": "code",
   "execution_count": 93,
   "metadata": {},
   "outputs": [
    {
     "data": {
      "text/plain": [
       "array([   7.,   nan,   nan,   nan,   39., -124.,   15.,  108.,  -88.,\n",
       "         nan, -106., -173.])"
      ]
     },
     "execution_count": 93,
     "metadata": {},
     "output_type": "execute_result"
    }
   ],
   "source": [
    "X_train[0]"
   ]
  },
  {
   "cell_type": "code",
   "execution_count": 94,
   "metadata": {},
   "outputs": [
    {
     "data": {
      "text/plain": [
       "array([   7,   91,  -87,   26,   39, -124,   15,  108,  -88, -179, -106,\n",
       "       -173])"
      ]
     },
     "execution_count": 94,
     "metadata": {},
     "output_type": "execute_result"
    }
   ],
   "source": [
    "Y_train[0]"
   ]
  },
  {
   "cell_type": "code",
   "execution_count": 95,
   "metadata": {},
   "outputs": [
    {
     "data": {
      "text/plain": [
       "array([  -7.,   nan,  -90.,   nan,   nan,   nan,   nan,   nan,   nan,\n",
       "         nan,  -99., -156.])"
      ]
     },
     "execution_count": 95,
     "metadata": {},
     "output_type": "execute_result"
    }
   ],
   "source": [
    "X_test[0]"
   ]
  },
  {
   "cell_type": "code",
   "execution_count": 96,
   "metadata": {},
   "outputs": [
    {
     "data": {
      "text/plain": [
       "array([  -7,   95,  -90,    3,   71, -118,   22,  104,  -84, -160,  -99,\n",
       "       -156])"
      ]
     },
     "execution_count": 96,
     "metadata": {},
     "output_type": "execute_result"
    }
   ],
   "source": [
    "Y_test[0]"
   ]
  },
  {
   "cell_type": "code",
   "execution_count": 97,
   "metadata": {},
   "outputs": [
    {
     "data": {
      "text/plain": [
       "array([   7.,   68.,  -65.,  -20.,   nan,  -25.,   84.,   76.,  -98.,\n",
       "        -89., -126., -169.])"
      ]
     },
     "execution_count": 97,
     "metadata": {},
     "output_type": "execute_result"
    }
   ],
   "source": [
    "X_val[0]"
   ]
  },
  {
   "cell_type": "code",
   "execution_count": 98,
   "metadata": {},
   "outputs": [
    {
     "data": {
      "text/plain": [
       "array([   7,   68,  -65,  -20,  -34,  -25,   84,   76,  -98,  -89, -126,\n",
       "       -169])"
      ]
     },
     "execution_count": 98,
     "metadata": {},
     "output_type": "execute_result"
    }
   ],
   "source": [
    "Y_val[0]"
   ]
  },
  {
   "cell_type": "code",
   "execution_count": 99,
   "metadata": {},
   "outputs": [
    {
     "data": {
      "text/plain": [
       "array([   7.        ,   88.38737993,  -93.07633955,  -87.05963201,\n",
       "         39.        , -124.        ,   15.        ,  108.        ,\n",
       "        -88.        , -167.76386487, -106.        , -173.        ])"
      ]
     },
     "execution_count": 99,
     "metadata": {},
     "output_type": "execute_result"
    }
   ],
   "source": [
    "col_mean = np.nanmean(X_train, axis=0)\n",
    "# print(col_mean)\n",
    "#Find indices that you need to replace\n",
    "inds = np.where(np.isnan(X_train))\n",
    "#Place column means in the indices. Align the arrays using take\n",
    "X_train[inds] = np.take(col_mean, inds[1])\n",
    "X_train[0]"
   ]
  },
  {
   "cell_type": "code",
   "execution_count": 100,
   "metadata": {},
   "outputs": [
    {
     "data": {
      "text/plain": [
       "array([  -7.        ,   88.33870771,  -90.        ,  -88.36235453,\n",
       "        -54.8398524 , -175.34202313,   17.70285257,  104.34612537,\n",
       "        -93.72059649, -168.02803911,  -99.        , -156.        ])"
      ]
     },
     "execution_count": 100,
     "metadata": {},
     "output_type": "execute_result"
    }
   ],
   "source": [
    "col_mean = np.nanmean(X_test, axis=0)\n",
    "# print(col_mean)\n",
    "#Find indices that you need to replace\n",
    "inds = np.where(np.isnan(X_test))\n",
    "#Place column means in the indices. Align the arrays using take\n",
    "X_test[inds] = np.take(col_mean, inds[1])\n",
    "# print(X_train)\n",
    "X_test[0]"
   ]
  },
  {
   "cell_type": "code",
   "execution_count": 101,
   "metadata": {},
   "outputs": [
    {
     "data": {
      "text/plain": [
       "array([   7.       ,   68.       ,  -65.       ,  -20.       ,\n",
       "        -65.9626556,  -25.       ,   84.       ,   76.       ,\n",
       "        -98.       ,  -89.       , -126.       , -169.       ])"
      ]
     },
     "execution_count": 101,
     "metadata": {},
     "output_type": "execute_result"
    }
   ],
   "source": [
    "col_mean = np.nanmean(X_val, axis=0)\n",
    "# print(col_mean)\n",
    "#Find indices that you need to replace\n",
    "inds = np.where(np.isnan(X_val))\n",
    "#Place column means in the indices. Align the arrays using take\n",
    "X_val[inds] = np.take(col_mean, inds[1])\n",
    "# print(X_train)\n",
    "X_val[0]"
   ]
  },
  {
   "cell_type": "code",
   "execution_count": 102,
   "metadata": {},
   "outputs": [
    {
     "name": "stdout",
     "output_type": "stream",
     "text": [
      "(99379, 12) \n",
      " (99379, 12) \n",
      " (32620, 12) \n",
      " (32620, 12) \n",
      " (505, 12) \n",
      " (505, 12)\n"
     ]
    }
   ],
   "source": [
    "print(X_train.shape, \"\\n\",Y_train.shape,\"\\n\",\\\n",
    "      X_test.shape,\"\\n\",Y_test.shape, \"\\n\",\\\n",
    "      X_val.shape,\"\\n\",Y_val.shape)"
   ]
  },
  {
   "cell_type": "code",
   "execution_count": 103,
   "metadata": {},
   "outputs": [],
   "source": [
    "# Normalize, reshape and split into train, test and validation datasets.\n",
    "Y_train = Y_train.T.copy()\n",
    "Y_val = Y_val.T.copy()\n",
    "Y_test = Y_test.T.copy()\n",
    "\n",
    "# X_train = (X_train-np.mean(X_train,axis=0))/np.std(X_train,axis=0).copy()\n",
    "# X_val = (X_val-np.mean(X_val,axis=0))/np.std(X_val,axis=0).copy()\n",
    "# X_test = (X_test-np.mean(X_test,axis=0))/np.std(X_test,axis=0).copy()"
   ]
  },
  {
   "cell_type": "code",
   "execution_count": 104,
   "metadata": {},
   "outputs": [
    {
     "name": "stdout",
     "output_type": "stream",
     "text": [
      "(99379, 12) \n",
      " (12, 99379) \n",
      " (32620, 12) \n",
      " (12, 32620) \n",
      " (505, 12) \n",
      " (12, 505)\n"
     ]
    }
   ],
   "source": [
    "print(X_train.shape, \"\\n\",Y_train.shape,\"\\n\",\\\n",
    "      X_test.shape,\"\\n\",Y_test.shape, \"\\n\",\\\n",
    "      X_val.shape,\"\\n\",Y_val.shape)"
   ]
  },
  {
   "cell_type": "code",
   "execution_count": 105,
   "metadata": {},
   "outputs": [
    {
     "data": {
      "text/plain": [
       "array([   7.,   nan,   nan,   nan,   39., -124.,   15.,  108.,  -88.,\n",
       "         nan, -106., -173.])"
      ]
     },
     "execution_count": 105,
     "metadata": {},
     "output_type": "execute_result"
    }
   ],
   "source": [
    "X_train_nan[0]"
   ]
  },
  {
   "cell_type": "code",
   "execution_count": 178,
   "metadata": {},
   "outputs": [
    {
     "data": {
      "text/plain": [
       "array([   7.        ,   88.38737993,  -93.07633955,  -87.05963201,\n",
       "         39.        , -124.        ,   15.        ,  108.        ,\n",
       "        -88.        , -167.76386487, -106.        , -173.        ])"
      ]
     },
     "execution_count": 178,
     "metadata": {},
     "output_type": "execute_result"
    }
   ],
   "source": [
    "X_train[0]"
   ]
  },
  {
   "cell_type": "code",
   "execution_count": 107,
   "metadata": {},
   "outputs": [
    {
     "data": {
      "text/plain": [
       "array([   7,   91,  -87,   26,   39, -124,   15,  108,  -88, -179, -106,\n",
       "       -173])"
      ]
     },
     "execution_count": 107,
     "metadata": {},
     "output_type": "execute_result"
    }
   ],
   "source": [
    "Y_train[:,0]"
   ]
  },
  {
   "cell_type": "code",
   "execution_count": 199,
   "metadata": {
    "colab": {
     "base_uri": "https://localhost:8080/",
     "height": 517
    },
    "id": "IlL1ndJdxutV",
    "outputId": "2bb045fb-119d-414e-ccc1-dfcb40d7c42c"
   },
   "outputs": [
    {
     "name": "stdout",
     "output_type": "stream",
     "text": [
      "After 10 epochs :    Training Loss = 10062.541834183685    Validation Loss = 10140.378316487862\n",
      "\n",
      "After 20 epochs :    Training Loss = 9645.449216278861    Validation Loss = 10530.420689955046\n",
      "\n",
      "After 30 epochs :    Training Loss = 9611.03438415265    Validation Loss = 10246.464872801205\n",
      "\n",
      "After 40 epochs :    Training Loss = 9702.35519766487    Validation Loss = 12463.866486098268\n",
      "\n",
      "After 50 epochs :    Training Loss = 9467.799785506319    Validation Loss = 10360.413948420764\n",
      "\n",
      "After 60 epochs :    Training Loss = 9066.912677814493    Validation Loss = 10347.886626599138\n",
      "\n",
      "After 70 epochs :    Training Loss = 9303.35709643927    Validation Loss = 10486.942283821547\n",
      "\n",
      "After 80 epochs :    Training Loss = 9437.548239643262    Validation Loss = 11942.74651044944\n",
      "\n",
      "After 90 epochs :    Training Loss = 9233.35996940946    Validation Loss = 11251.94265598156\n",
      "\n",
      "After 100 epochs :    Training Loss = 9042.57775964132    Validation Loss = 10369.515390118047\n",
      "\n"
     ]
    },
    {
     "data": {
      "image/png": "[encoded data removed]",
      "text/plain": [
       "<Figure size 432x288 with 1 Axes>"
      ]
     },
     "metadata": {
      "needs_background": "light"
     },
     "output_type": "display_data"
    },
    {
     "name": "stdout",
     "output_type": "stream",
     "text": [
      "\n",
      "Training Loss :  9042.57775964132\n",
      "\n",
      "Validation Loss :  10369.515390118047\n"
     ]
    }
   ],
   "source": [
    "# Define and train the Deep Neural Network.\n",
    "model = Deep_Neural_Network()\n",
    "\n",
    "model.create(12,12,[120,120,120],output_type='regression',activation='relu',initializer='he')\n",
    "\n",
    "costs = model.train(X_train.T,Y_train,X_val.T,Y_val,optimizer='adam',regularizer='l2',\n",
    "                    regularizer_lambda=0.1,mini_batch_size=50,epochs=100,print_loss_freq=10,\n",
    "                    learning_rate=0.02)"
   ]
  },
  {
   "cell_type": "code",
   "execution_count": 200,
   "metadata": {
    "id": "n6yomL6R3J6j"
   },
   "outputs": [],
   "source": [
    "# Predict output for test dataset.\n",
    "\n",
    "Y_p = model.predict(X_test.T)"
   ]
  },
  {
   "cell_type": "code",
   "execution_count": 201,
   "metadata": {
    "colab": {
     "base_uri": "https://localhost:8080/"
    },
    "id": "zo8aMknOmEcI",
    "outputId": "a23df8d7-45c5-4f10-c140-1ca8f6597dd2"
   },
   "outputs": [
    {
     "data": {
      "text/plain": [
       "(12, 32620)"
      ]
     },
     "execution_count": 201,
     "metadata": {},
     "output_type": "execute_result"
    }
   ],
   "source": [
    "Y_test.shape"
   ]
  },
  {
   "cell_type": "code",
   "execution_count": 130,
   "metadata": {
    "colab": {
     "base_uri": "https://localhost:8080/"
    },
    "id": "DWWtN0nL3Sfn",
    "outputId": "515baadf-48cb-4e4d-8e1d-e3c7c9f0d362"
   },
   "outputs": [],
   "source": [
    "# Calculate Loss for test dataset\n",
    "\n",
    "print(model.compute_cost(Y_p,Y_test.reshape(1,33127)))"
   ]
  },
  {
   "cell_type": "code",
   "execution_count": 202,
   "metadata": {
    "colab": {
     "base_uri": "https://localhost:8080/"
    },
    "id": "WH6bJCE3l_4r",
    "outputId": "17cbdd34-cc59-44fd-aeb9-9e2ac4cb62b6"
   },
   "outputs": [],
   "source": [
    "Y_p=Y_p.T"
   ]
  },
  {
   "cell_type": "code",
   "execution_count": 203,
   "metadata": {
    "colab": {
     "base_uri": "https://localhost:8080/"
    },
    "id": "NkyNUdaQmdEv",
    "outputId": "f18d854f-bb46-4f62-c475-5744a81912c6"
   },
   "outputs": [
    {
     "data": {
      "text/plain": [
       "array([[  -7,   -4,  -40, ...,    3,    4,  -15],\n",
       "       [  95,   75,   60, ...,   69,   71,   95],\n",
       "       [ -90,  -34, -143, ...,  -62,  -63, -147],\n",
       "       ...,\n",
       "       [-160, -153, -224, ...,  -96,  -94, -176],\n",
       "       [ -99, -109,  -61, ..., -127, -127,  -74],\n",
       "       [-156, -166, -177, ..., -166, -147, -158]])"
      ]
     },
     "execution_count": 203,
     "metadata": {},
     "output_type": "execute_result"
    }
   ],
   "source": [
    "Y_test"
   ]
  },
  {
   "cell_type": "code",
   "execution_count": 204,
   "metadata": {
    "colab": {
     "base_uri": "https://localhost:8080/"
    },
    "id": "etHiK3yGmzKw",
    "outputId": "ec05d780-9653-4c28-8ee0-224af5199509"
   },
   "outputs": [
    {
     "data": {
      "text/plain": [
       "(32620, 12)"
      ]
     },
     "execution_count": 204,
     "metadata": {},
     "output_type": "execute_result"
    }
   ],
   "source": [
    "Y_p.shape"
   ]
  },
  {
   "cell_type": "code",
   "execution_count": 205,
   "metadata": {
    "colab": {
     "base_uri": "https://localhost:8080/"
    },
    "id": "K3J2tAS8nGUc",
    "outputId": "895b225a-57e5-463b-a4b7-d7ee2ff80e64"
   },
   "outputs": [],
   "source": [
    "Y_tes=Y_test.T"
   ]
  },
  {
   "cell_type": "code",
   "execution_count": 206,
   "metadata": {},
   "outputs": [
    {
     "data": {
      "text/plain": [
       "(32620, 12)"
      ]
     },
     "execution_count": 206,
     "metadata": {},
     "output_type": "execute_result"
    }
   ],
   "source": [
    "Y_tes.shape"
   ]
  },
  {
   "cell_type": "code",
   "execution_count": 207,
   "metadata": {},
   "outputs": [
    {
     "data": {
      "text/html": [
       "<div>\n",
       "<style scoped>\n",
       "    .dataframe tbody tr th:only-of-type {\n",
       "        vertical-align: middle;\n",
       "    }\n",
       "\n",
       "    .dataframe tbody tr th {\n",
       "        vertical-align: top;\n",
       "    }\n",
       "\n",
       "    .dataframe thead th {\n",
       "        text-align: right;\n",
       "    }\n",
       "</style>\n",
       "<table border=\"1\" class=\"dataframe\">\n",
       "  <thead>\n",
       "    <tr style=\"text-align: right;\">\n",
       "      <th></th>\n",
       "      <th>predicted</th>\n",
       "      <th>fullFilledValues</th>\n",
       "      <th>MisingValueInput</th>\n",
       "      <th>withNan</th>\n",
       "    </tr>\n",
       "  </thead>\n",
       "  <tbody>\n",
       "    <tr>\n",
       "      <th>0</th>\n",
       "      <td>-7.743809</td>\n",
       "      <td>-7</td>\n",
       "      <td>-7.000000</td>\n",
       "      <td>-7.0</td>\n",
       "    </tr>\n",
       "    <tr>\n",
       "      <th>1</th>\n",
       "      <td>73.988565</td>\n",
       "      <td>95</td>\n",
       "      <td>88.338708</td>\n",
       "      <td>NaN</td>\n",
       "    </tr>\n",
       "    <tr>\n",
       "      <th>2</th>\n",
       "      <td>-63.720395</td>\n",
       "      <td>-90</td>\n",
       "      <td>-90.000000</td>\n",
       "      <td>-90.0</td>\n",
       "    </tr>\n",
       "    <tr>\n",
       "      <th>3</th>\n",
       "      <td>-54.625107</td>\n",
       "      <td>3</td>\n",
       "      <td>-88.362355</td>\n",
       "      <td>NaN</td>\n",
       "    </tr>\n",
       "    <tr>\n",
       "      <th>4</th>\n",
       "      <td>-26.140254</td>\n",
       "      <td>71</td>\n",
       "      <td>-54.839852</td>\n",
       "      <td>NaN</td>\n",
       "    </tr>\n",
       "    <tr>\n",
       "      <th>5</th>\n",
       "      <td>-121.001316</td>\n",
       "      <td>-118</td>\n",
       "      <td>-175.342023</td>\n",
       "      <td>NaN</td>\n",
       "    </tr>\n",
       "    <tr>\n",
       "      <th>6</th>\n",
       "      <td>19.684914</td>\n",
       "      <td>22</td>\n",
       "      <td>17.702853</td>\n",
       "      <td>NaN</td>\n",
       "    </tr>\n",
       "    <tr>\n",
       "      <th>7</th>\n",
       "      <td>100.521785</td>\n",
       "      <td>104</td>\n",
       "      <td>104.346125</td>\n",
       "      <td>NaN</td>\n",
       "    </tr>\n",
       "    <tr>\n",
       "      <th>8</th>\n",
       "      <td>-89.990656</td>\n",
       "      <td>-84</td>\n",
       "      <td>-93.720596</td>\n",
       "      <td>NaN</td>\n",
       "    </tr>\n",
       "    <tr>\n",
       "      <th>9</th>\n",
       "      <td>-157.554841</td>\n",
       "      <td>-160</td>\n",
       "      <td>-168.028039</td>\n",
       "      <td>NaN</td>\n",
       "    </tr>\n",
       "    <tr>\n",
       "      <th>10</th>\n",
       "      <td>-93.987930</td>\n",
       "      <td>-99</td>\n",
       "      <td>-99.000000</td>\n",
       "      <td>-99.0</td>\n",
       "    </tr>\n",
       "    <tr>\n",
       "      <th>11</th>\n",
       "      <td>-159.906705</td>\n",
       "      <td>-156</td>\n",
       "      <td>-156.000000</td>\n",
       "      <td>-156.0</td>\n",
       "    </tr>\n",
       "  </tbody>\n",
       "</table>\n",
       "</div>"
      ],
      "text/plain": [
       "     predicted  fullFilledValues  MisingValueInput  withNan\n",
       "0    -7.743809                -7         -7.000000     -7.0\n",
       "1    73.988565                95         88.338708      NaN\n",
       "2   -63.720395               -90        -90.000000    -90.0\n",
       "3   -54.625107                 3        -88.362355      NaN\n",
       "4   -26.140254                71        -54.839852      NaN\n",
       "5  -121.001316              -118       -175.342023      NaN\n",
       "6    19.684914                22         17.702853      NaN\n",
       "7   100.521785               104        104.346125      NaN\n",
       "8   -89.990656               -84        -93.720596      NaN\n",
       "9  -157.554841              -160       -168.028039      NaN\n",
       "10  -93.987930               -99        -99.000000    -99.0\n",
       "11 -159.906705              -156       -156.000000   -156.0"
      ]
     },
     "execution_count": 207,
     "metadata": {},
     "output_type": "execute_result"
    }
   ],
   "source": [
    "df = pd.DataFrame(data=Y_p[0], columns=[\"predicted\"])\n",
    "df[\"fullFilledValues\"]=Y_tes[0]\n",
    "df[\"MisingValueInput\"]=X_test[0]\n",
    "df[\"withNan\"]=X_test_nan[0]\n",
    "df.head(20)"
   ]
  },
  {
   "cell_type": "code",
   "execution_count": 208,
   "metadata": {},
   "outputs": [
    {
     "data": {
      "text/html": [
       "<div>\n",
       "<style scoped>\n",
       "    .dataframe tbody tr th:only-of-type {\n",
       "        vertical-align: middle;\n",
       "    }\n",
       "\n",
       "    .dataframe tbody tr th {\n",
       "        vertical-align: top;\n",
       "    }\n",
       "\n",
       "    .dataframe thead th {\n",
       "        text-align: right;\n",
       "    }\n",
       "</style>\n",
       "<table border=\"1\" class=\"dataframe\">\n",
       "  <thead>\n",
       "    <tr style=\"text-align: right;\">\n",
       "      <th></th>\n",
       "      <th>predicted</th>\n",
       "      <th>fullFilledValues</th>\n",
       "      <th>MisingValueInput</th>\n",
       "      <th>withNan</th>\n",
       "    </tr>\n",
       "  </thead>\n",
       "  <tbody>\n",
       "    <tr>\n",
       "      <th>0</th>\n",
       "      <td>-0.997182</td>\n",
       "      <td>-4</td>\n",
       "      <td>-6.472209</td>\n",
       "      <td>NaN</td>\n",
       "    </tr>\n",
       "    <tr>\n",
       "      <th>1</th>\n",
       "      <td>82.776237</td>\n",
       "      <td>75</td>\n",
       "      <td>88.338708</td>\n",
       "      <td>NaN</td>\n",
       "    </tr>\n",
       "    <tr>\n",
       "      <th>2</th>\n",
       "      <td>-50.439289</td>\n",
       "      <td>-34</td>\n",
       "      <td>-34.000000</td>\n",
       "      <td>-34.0</td>\n",
       "    </tr>\n",
       "    <tr>\n",
       "      <th>3</th>\n",
       "      <td>-15.706669</td>\n",
       "      <td>-2</td>\n",
       "      <td>-88.362355</td>\n",
       "      <td>NaN</td>\n",
       "    </tr>\n",
       "    <tr>\n",
       "      <th>4</th>\n",
       "      <td>10.241936</td>\n",
       "      <td>22</td>\n",
       "      <td>22.000000</td>\n",
       "      <td>22.0</td>\n",
       "    </tr>\n",
       "    <tr>\n",
       "      <th>5</th>\n",
       "      <td>-25.477554</td>\n",
       "      <td>-32</td>\n",
       "      <td>-175.342023</td>\n",
       "      <td>NaN</td>\n",
       "    </tr>\n",
       "    <tr>\n",
       "      <th>6</th>\n",
       "      <td>14.799395</td>\n",
       "      <td>2</td>\n",
       "      <td>2.000000</td>\n",
       "      <td>2.0</td>\n",
       "    </tr>\n",
       "    <tr>\n",
       "      <th>7</th>\n",
       "      <td>94.289443</td>\n",
       "      <td>94</td>\n",
       "      <td>104.346125</td>\n",
       "      <td>NaN</td>\n",
       "    </tr>\n",
       "    <tr>\n",
       "      <th>8</th>\n",
       "      <td>-82.993945</td>\n",
       "      <td>-72</td>\n",
       "      <td>-72.000000</td>\n",
       "      <td>-72.0</td>\n",
       "    </tr>\n",
       "    <tr>\n",
       "      <th>9</th>\n",
       "      <td>-147.188130</td>\n",
       "      <td>-153</td>\n",
       "      <td>-153.000000</td>\n",
       "      <td>-153.0</td>\n",
       "    </tr>\n",
       "    <tr>\n",
       "      <th>10</th>\n",
       "      <td>-104.274092</td>\n",
       "      <td>-109</td>\n",
       "      <td>-92.641116</td>\n",
       "      <td>NaN</td>\n",
       "    </tr>\n",
       "    <tr>\n",
       "      <th>11</th>\n",
       "      <td>-158.823737</td>\n",
       "      <td>-166</td>\n",
       "      <td>-166.000000</td>\n",
       "      <td>-166.0</td>\n",
       "    </tr>\n",
       "  </tbody>\n",
       "</table>\n",
       "</div>"
      ],
      "text/plain": [
       "     predicted  fullFilledValues  MisingValueInput  withNan\n",
       "0    -0.997182                -4         -6.472209      NaN\n",
       "1    82.776237                75         88.338708      NaN\n",
       "2   -50.439289               -34        -34.000000    -34.0\n",
       "3   -15.706669                -2        -88.362355      NaN\n",
       "4    10.241936                22         22.000000     22.0\n",
       "5   -25.477554               -32       -175.342023      NaN\n",
       "6    14.799395                 2          2.000000      2.0\n",
       "7    94.289443                94        104.346125      NaN\n",
       "8   -82.993945               -72        -72.000000    -72.0\n",
       "9  -147.188130              -153       -153.000000   -153.0\n",
       "10 -104.274092              -109        -92.641116      NaN\n",
       "11 -158.823737              -166       -166.000000   -166.0"
      ]
     },
     "execution_count": 208,
     "metadata": {},
     "output_type": "execute_result"
    }
   ],
   "source": [
    "df = pd.DataFrame(data=Y_p[1], columns=[\"predicted\"])\n",
    "df[\"fullFilledValues\"]=Y_tes[1]\n",
    "df[\"MisingValueInput\"]=X_test[1]\n",
    "df[\"withNan\"]=X_test_nan[1]\n",
    "df.head(20)"
   ]
  },
  {
   "cell_type": "markdown",
   "metadata": {
    "id": "aNnoP-tXngZP"
   },
   "source": [
    "## Validations"
   ]
  },
  {
   "cell_type": "code",
   "execution_count": 224,
   "metadata": {},
   "outputs": [],
   "source": [
    "X_Val=pd.read_csv('/Users/harsha/Desktop/myProjects/Fall2020-Local/ML/CS536FinalProject/ML-FinalProject/Datasets/Test_data.csv', encoding = 'ISO-8859-1')"
   ]
  },
  {
   "cell_type": "code",
   "execution_count": 225,
   "metadata": {},
   "outputs": [],
   "source": [
    "selFeat=['x1', 'y1', 'z1',\n",
    "       'x2', 'y2', 'z2', 'x3', 'y3', 'z3', 'x4', 'y4', 'z4']"
   ]
  },
  {
   "cell_type": "code",
   "execution_count": 226,
   "metadata": {},
   "outputs": [],
   "source": [
    "X_Val=X_Val[selFeat]"
   ]
  },
  {
   "cell_type": "code",
   "execution_count": 227,
   "metadata": {},
   "outputs": [],
   "source": [
    "Xarr_val=X_Val.to_numpy()"
   ]
  },
  {
   "cell_type": "code",
   "execution_count": 228,
   "metadata": {},
   "outputs": [],
   "source": [
    "arr = np.random.binomial(1, 0.5, Xarr_val.shape)"
   ]
  },
  {
   "cell_type": "code",
   "execution_count": 229,
   "metadata": {},
   "outputs": [],
   "source": [
    "indices=np.where(arr==0)"
   ]
  },
  {
   "cell_type": "code",
   "execution_count": 230,
   "metadata": {},
   "outputs": [],
   "source": [
    "trueVals=Xarr_val[indices]"
   ]
  },
  {
   "cell_type": "code",
   "execution_count": 231,
   "metadata": {},
   "outputs": [],
   "source": [
    "Xtransformed=Xarr_val.astype('float')\n",
    "Xtransformed[indices]=np.nan"
   ]
  },
  {
   "cell_type": "code",
   "execution_count": 232,
   "metadata": {},
   "outputs": [],
   "source": [
    "Xtest=Xtransformed.copy()"
   ]
  },
  {
   "cell_type": "code",
   "execution_count": 258,
   "metadata": {},
   "outputs": [
    {
     "data": {
      "text/plain": [
       "array([[  -4.,   80.,  -82., ..., -179.,  -91., -178.],\n",
       "       [ -14.,   nan,   nan, ...,   nan,  -81., -173.],\n",
       "       [  -1.,   69.,  -66., ..., -102.,   nan,   nan],\n",
       "       ...,\n",
       "       [  nan,   nan,   nan, ..., -161., -109.,   nan],\n",
       "       [   0.,   nan, -149., ...,   nan,  -94.,   nan],\n",
       "       [  nan,  105.,   nan, ...,   nan,  -89.,   nan]])"
      ]
     },
     "execution_count": 258,
     "metadata": {},
     "output_type": "execute_result"
    }
   ],
   "source": [
    "Xtransformed"
   ]
  },
  {
   "cell_type": "code",
   "execution_count": 259,
   "metadata": {},
   "outputs": [],
   "source": [
    "XtestMode=Xtransformed.copy()"
   ]
  },
  {
   "cell_type": "markdown",
   "metadata": {},
   "source": [
    "## Mode as BaseCompletion Agent"
   ]
  },
  {
   "cell_type": "code",
   "execution_count": 270,
   "metadata": {},
   "outputs": [
    {
     "data": {
      "text/plain": [
       "array([[  -4.,   80.,  -82., ..., -179.,  -91., -178.],\n",
       "       [ -14.,   95.,  -98., ..., -164.,  -81., -173.],\n",
       "       [  -1.,   69.,  -66., ..., -102.,  -94., -163.],\n",
       "       ...,\n",
       "       [  -1.,   95.,  -98., ..., -161., -109., -163.],\n",
       "       [   0.,   95., -149., ..., -164.,  -94., -163.],\n",
       "       [  -1.,  105.,  -98., ..., -164.,  -89., -163.]])"
      ]
     },
     "execution_count": 270,
     "metadata": {},
     "output_type": "execute_result"
    }
   ],
   "source": [
    "col_mode = stats.mode(Xarr_val)\n",
    "\n",
    "# print(col_mean)\n",
    "#Find indices that you need to replace\n",
    "inds = np.where(np.isnan(XtestMode))\n",
    "#Place column means in the indices. Align the arrays using take\n",
    "XtestMode[inds] = np.take(col_mode[0], inds[1])\n",
    "# print(X_train)\n",
    "XtestMode"
   ]
  },
  {
   "cell_type": "markdown",
   "metadata": {},
   "source": [
    "## Mean as BaseCompletion Agent"
   ]
  },
  {
   "cell_type": "code",
   "execution_count": 264,
   "metadata": {},
   "outputs": [
    {
     "data": {
      "text/plain": [
       "array([  -6.78296355,   88.14229225,  -93.03267855,  -88.87716737,\n",
       "        -53.10002412, -175.43574273,   17.54884729,  105.42623547,\n",
       "        -94.12995996, -167.4319605 ,  -92.64127482, -159.61786361])"
      ]
     },
     "execution_count": 264,
     "metadata": {},
     "output_type": "execute_result"
    }
   ],
   "source": []
  },
  {
   "cell_type": "code",
   "execution_count": 234,
   "metadata": {},
   "outputs": [
    {
     "data": {
      "text/plain": [
       "array([[  -4.        ,   80.        ,  -82.        , ..., -179.        ,\n",
       "         -91.        , -178.        ],\n",
       "       [ -14.        ,   88.14229225,  -93.03267855, ..., -167.4319605 ,\n",
       "         -81.        , -173.        ],\n",
       "       [  -1.        ,   69.        ,  -66.        , ..., -102.        ,\n",
       "         -92.64127482, -159.61786361],\n",
       "       ...,\n",
       "       [  -6.78296355,   88.14229225,  -93.03267855, ..., -161.        ,\n",
       "        -109.        , -159.61786361],\n",
       "       [   0.        ,   88.14229225, -149.        , ..., -167.4319605 ,\n",
       "         -94.        , -159.61786361],\n",
       "       [  -6.78296355,  105.        ,  -93.03267855, ..., -167.4319605 ,\n",
       "         -89.        , -159.61786361]])"
      ]
     },
     "execution_count": 234,
     "metadata": {},
     "output_type": "execute_result"
    }
   ],
   "source": [
    "col_mean = np.nanmean(Xtest, axis=0)\n",
    "# print(col_mean)\n",
    "#Find indices that you need to replace\n",
    "inds = np.where(np.isnan(Xtest))\n",
    "#Place column means in the indices. Align the arrays using take\n",
    "Xtest[inds] = np.take(col_mean, inds[1])\n",
    "# print(X_train)\n",
    "Xtest"
   ]
  },
  {
   "cell_type": "code",
   "execution_count": 235,
   "metadata": {},
   "outputs": [
    {
     "data": {
      "text/plain": [
       "(33127, 12)"
      ]
     },
     "execution_count": 235,
     "metadata": {},
     "output_type": "execute_result"
    }
   ],
   "source": [
    "Xtest.shape"
   ]
  },
  {
   "cell_type": "code",
   "execution_count": 222,
   "metadata": {},
   "outputs": [],
   "source": [
    "Xtest=pd.DataFrame(Xtransformed,columns=['x1', 'y1', 'z1',\n",
    "       'x2', 'y2', 'z2', 'x3', 'y3', 'z3', 'x4', 'y4', 'z4'])\n",
    "ytest=pd.DataFrame(Xarr_val,columns=['x1', 'y1', 'z1',\n",
    "       'x2', 'y2', 'z2', 'x3', 'y3', 'z3', 'x4', 'y4', 'z4'])"
   ]
  },
  {
   "cell_type": "code",
   "execution_count": 236,
   "metadata": {},
   "outputs": [],
   "source": [
    "yPredict = model.predict(Xtest.T)"
   ]
  },
  {
   "cell_type": "code",
   "execution_count": 237,
   "metadata": {},
   "outputs": [
    {
     "data": {
      "text/plain": [
       "(12, 33127)"
      ]
     },
     "execution_count": 237,
     "metadata": {},
     "output_type": "execute_result"
    }
   ],
   "source": [
    "yPredict.shape"
   ]
  },
  {
   "cell_type": "code",
   "execution_count": 238,
   "metadata": {},
   "outputs": [],
   "source": [
    "yPredict=yPredict.T"
   ]
  },
  {
   "cell_type": "code",
   "execution_count": 239,
   "metadata": {},
   "outputs": [],
   "source": [
    "predict=yPredict[indices]"
   ]
  },
  {
   "cell_type": "code",
   "execution_count": 256,
   "metadata": {},
   "outputs": [],
   "source": [
    "means=Xtest[indices]"
   ]
  },
  {
   "cell_type": "code",
   "execution_count": null,
   "metadata": {},
   "outputs": [],
   "source": [
    "df = pd.DataFrame(data=predict, columns=[\"predicted\"])\n",
    "df[\"trueVals\"]=trueVals\n",
    "df[\"means\"]=Xtest[indices]\n",
    "df.head(20)"
   ]
  },
  {
   "cell_type": "markdown",
   "metadata": {},
   "source": [
    "## True Vals vs Predicted Score"
   ]
  },
  {
   "cell_type": "code",
   "execution_count": 245,
   "metadata": {},
   "outputs": [
    {
     "data": {
      "text/plain": [
       "0.1490350456311631"
      ]
     },
     "execution_count": 245,
     "metadata": {},
     "output_type": "execute_result"
    }
   ],
   "source": [
    "score = (((trueVals - predict) ** 2).sum() / ((trueVals - trueVals.mean()) ** 2).sum())\n",
    "score"
   ]
  },
  {
   "cell_type": "markdown",
   "metadata": {},
   "source": [
    "## True Vals vs Mean Score"
   ]
  },
  {
   "cell_type": "code",
   "execution_count": 257,
   "metadata": {},
   "outputs": [
    {
     "data": {
      "text/plain": [
       "0.5531200837473889"
      ]
     },
     "execution_count": 257,
     "metadata": {},
     "output_type": "execute_result"
    }
   ],
   "source": [
    "score = (((trueVals - means) ** 2).sum() / ((trueVals - trueVals.mean()) ** 2).sum())\n",
    "score"
   ]
  },
  {
   "cell_type": "code",
   "execution_count": 247,
   "metadata": {},
   "outputs": [
    {
     "data": {
      "text/plain": [
       "0       81.145737\n",
       "1      -88.156935\n",
       "2       92.393259\n",
       "3     -124.098511\n",
       "4     -121.162296\n",
       "          ...    \n",
       "995    -85.630863\n",
       "996     -1.534365\n",
       "997    -56.128092\n",
       "998    -13.779224\n",
       "999    -34.518084\n",
       "Name: predicted, Length: 1000, dtype: float64"
      ]
     },
     "execution_count": 247,
     "metadata": {},
     "output_type": "execute_result"
    }
   ],
   "source": [
    "df['predicted'].iloc[:1000]"
   ]
  },
  {
   "cell_type": "code",
   "execution_count": 255,
   "metadata": {},
   "outputs": [],
   "source": [
    "df.to_csv('results_NN_regression.csv',index=False)"
   ]
  },
  {
   "cell_type": "code",
   "execution_count": 254,
   "metadata": {},
   "outputs": [
    {
     "data": {
      "image/png": "[encoded data removed]",
      "text/plain": [
       "<Figure size 432x288 with 1 Axes>"
      ]
     },
     "metadata": {
      "needs_background": "light"
     },
     "output_type": "display_data"
    }
   ],
   "source": [
    "import matplotlib.pyplot as plt\n",
    "\n",
    "\n",
    "x = df['predicted'].iloc[:1000].to_numpy()\n",
    "y = df['trueVals'].iloc[:1000].to_numpy()\n",
    "# s = np.random.rand(*x.shape) * 800 + 500\n",
    "\n",
    "plt.scatter(x, y, c=\"g\", alpha=0.5, marker=r'$\\clubsuit$',\n",
    "            label=\"Luck\")\n",
    "plt.xlabel(\"Leprechauns\")\n",
    "plt.ylabel(\"Gold\")\n",
    "plt.legend(loc='upper left')\n",
    "plt.show()"
   ]
  },
  {
   "cell_type": "markdown",
   "metadata": {},
   "source": [
    "## Saving the model"
   ]
  },
  {
   "cell_type": "code",
   "execution_count": 272,
   "metadata": {},
   "outputs": [],
   "source": [
    "import pickle"
   ]
  },
  {
   "cell_type": "code",
   "execution_count": 274,
   "metadata": {},
   "outputs": [],
   "source": [
    "pickle.dump(model, open('NN_MultiImpute.pkl','wb'))"
   ]
  },
  {
   "cell_type": "markdown",
   "metadata": {},
   "source": [
    "## open Pkl"
   ]
  },
  {
   "cell_type": "code",
   "execution_count": 277,
   "metadata": {},
   "outputs": [],
   "source": [
    "modelNews=pickle.load(open('NN_MultiImpute.pkl','rb'))"
   ]
  },
  {
   "cell_type": "code",
   "execution_count": 278,
   "metadata": {},
   "outputs": [
    {
     "data": {
      "text/plain": [
       "<__main__.Deep_Neural_Network at 0x7f9ef9985190>"
      ]
     },
     "execution_count": 278,
     "metadata": {},
     "output_type": "execute_result"
    }
   ],
   "source": [
    "modelNews"
   ]
  },
  {
   "cell_type": "code",
   "execution_count": 279,
   "metadata": {},
   "outputs": [],
   "source": [
    "yPredictNew = modelNews.predict(Xtest.T)"
   ]
  },
  {
   "cell_type": "code",
   "execution_count": 280,
   "metadata": {},
   "outputs": [
    {
     "data": {
      "text/plain": [
       "array([[  -6.41487588,   -5.14255314,    0.28788274, ...,   -1.06358375,\n",
       "          -6.61952374,   -6.41487588],\n",
       "       [  97.41935123,   92.39325915,   62.83298498, ...,   82.9557099 ,\n",
       "          96.83167333,   97.41935123],\n",
       "       [-107.81302742, -124.09851144,  -54.67609033, ...,  -51.142489  ,\n",
       "        -114.64658481, -107.81302742],\n",
       "       ...,\n",
       "       [-179.01187994, -179.43280522,  -87.83410631, ..., -147.57817678,\n",
       "        -184.64288236, -179.01187994],\n",
       "       [ -85.54267913,  -61.05057724, -127.05328072, ..., -104.04451061,\n",
       "         -86.00587761,  -85.54267913],\n",
       "       [-158.23510144, -165.94879193, -168.20409301, ..., -158.81652235,\n",
       "        -156.42596096, -158.23510144]])"
      ]
     },
     "execution_count": 280,
     "metadata": {},
     "output_type": "execute_result"
    }
   ],
   "source": [
    "yPredictNew"
   ]
  },
  {
   "cell_type": "code",
   "execution_count": null,
   "metadata": {},
   "outputs": [],
   "source": []
  }
 ],
 "metadata": {
  "accelerator": "TPU",
  "colab": {
   "collapsed_sections": [],
   "name": "NN_reg_class.ipynb",
   "provenance": []
  },
  "kernelspec": {
   "display_name": "Python 3",
   "language": "python",
   "name": "python3"
  },
  "language_info": {
   "codemirror_mode": {
    "name": "ipython",
    "version": 3
   },
   "file_extension": ".py",
   "mimetype": "text/x-python",
   "name": "python",
   "nbconvert_exporter": "python",
   "pygments_lexer": "ipython3",
   "version": "3.8.5"
  }
 },
 "nbformat": 4,
 "nbformat_minor": 1
}
