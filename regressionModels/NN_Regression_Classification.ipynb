{
  "nbformat": 4,
  "nbformat_minor": 0,
  "metadata": {
    "colab": {
      "name": "NN_reg_class.ipynb",
      "provenance": [],
      "collapsed_sections": []
    },
    "kernelspec": {
      "name": "python3",
      "display_name": "Python 3"
    },
    "accelerator": "TPU"
  },
  "cells": [
    {
      "cell_type": "code",
      "metadata": {
        "colab": {
          "base_uri": "https://localhost:8080/"
        },
        "id": "iy1a5kVehY6X",
        "outputId": "da87b62f-518d-4390-a435-337a139d4691"
      },
      "source": [
        "from google.colab import drive\n",
        "drive.mount('/content/drive')"
      ],
      "execution_count": 12,
      "outputs": [
        {
          "output_type": "stream",
          "text": [
            "Mounted at /content/drive\n"
          ],
          "name": "stdout"
        }
      ]
    },
    {
      "cell_type": "markdown",
      "metadata": {
        "id": "viVefdvcN69F"
      },
      "source": [
        "#**IMPORT REQUIRED PACKAGES**\n",
        "\n",
        "\n",
        "\n",
        "\n",
        "\n",
        "\n",
        "\n"
      ]
    },
    {
      "cell_type": "code",
      "metadata": {
        "id": "GtUemp3HN35X"
      },
      "source": [
        "import numpy as np\n",
        "import pandas as pd\n",
        "import matplotlib.pyplot as plt"
      ],
      "execution_count": 14,
      "outputs": []
    },
    {
      "cell_type": "markdown",
      "metadata": {
        "id": "fLiHm83vOV8R"
      },
      "source": [
        "#**DEEP NEURAL NETWORK CLASS**"
      ]
    },
    {
      "cell_type": "code",
      "metadata": {
        "id": "eZRGDIXZQC35"
      },
      "source": [
        "class Deep_Neural_Network :\n",
        "\n",
        "  def create(self,input_size,output_size,hidden_dims,output_type,initializer='random',\n",
        "             seed=None,activation='relu',leaky_relu_slope=0.1):\n",
        "    \"\"\"\n",
        "    The method to define the architecture of Deep Neural Network and initialize weights.\n",
        "\n",
        "    Parameters:\n",
        "\n",
        "    input_size(int)       :   No. of neurons in input layer.\n",
        "    \n",
        "    output_size(int)      :   No. of classes in classification task (2 in case of binary classification,\n",
        "                              modify the dataset accordingly !)\n",
        "                              (or) No. of Target variables in case of regression task.\n",
        "\n",
        "    hidden_dims(int list) :   No. of neurons in hidden layers.\n",
        "\n",
        "    output_type(string)   :   Type of task :\n",
        "                              'classification'  :  Classification (discrete target).\n",
        "                              'regression'      :  Regression (continuous target).\n",
        "\n",
        "    initializer(string)   :   Weight initializer :\n",
        "                              'random'  : Random initialization.\n",
        "                              'xavier'  : Xavier initialization (preferred for tanh activation).\n",
        "                              'he'      : He initialization (preferred for ReLU activation).\n",
        "\n",
        "    seed(int)             :   NumPy seed for random initialization.\n",
        "\n",
        "    activation(string)    :   Activation function for hidden layers. One of the following :\n",
        "                              'linear'  : Linear activation.\n",
        "                              'sigmoid' : Sigmoid activation.\n",
        "                              'tanh'    : Hyberbolic tangent activation.\n",
        "                              'relu'    : Rectified Linear Unit activation.\n",
        "                              'lrelu'   : Leaky Rectified Linear Unit activation.\n",
        "\n",
        "                              Activation function at output layer would be SoftMax for classification\n",
        "                              and Linear for regression.\n",
        "\n",
        "    leaky_relu_slope(int) :   Slope for Leaky ReLU activation.   \n",
        "\n",
        "    \"\"\"\n",
        "    self.layer_dims=[input_size]+hidden_dims+[output_size]\n",
        "    self.W = {}\n",
        "    self.b = {}\n",
        "    self.activation = activation\n",
        "    self.leaky_relu_slope = leaky_relu_slope\n",
        "    self.initializer = initializer\n",
        "    self.output_type = output_type\n",
        "\n",
        "    self.L = len(self.layer_dims)-1\n",
        "\n",
        "    if seed != None:\n",
        "      np.random.seed(seed)\n",
        "\n",
        "    for i in range(self.L):\n",
        "      self.W[i+1] = np.random.randn(self.layer_dims[i+1],self.layer_dims[i])\n",
        "      self.b[i+1] = np.zeros((self.layer_dims[i+1],1))\n",
        "\n",
        "    if self.initializer == 'xavier':\n",
        "      for i in range(self.L):\n",
        "        self.W[i+1] = self.W[i+1]*np.sqrt(1/(self.layer_dims[i]))\n",
        "\n",
        "    elif self.initializer == 'he':\n",
        "      for i in range(self.L):\n",
        "        self.W[i+1] = self.W[i+1]*np.sqrt(2/(self.layer_dims[i]))\n",
        "\n",
        "\n",
        "\n",
        "  def save_weights(self):\n",
        "    \"\"\"\n",
        "    The method to save model weights.\n",
        "\n",
        "    Returns :\n",
        "\n",
        "    params(tuple)   : Tuple containing Model weights and biases in form of dictionaries.\n",
        "\n",
        "    \"\"\"\n",
        "    return (self.W,self.b)\n",
        "\n",
        "  \n",
        "\n",
        "  def load_weights(self,params):\n",
        "    \"\"\"\n",
        "    The method to load model weights.\n",
        "\n",
        "    Parameters :\n",
        "\n",
        "    params(tuple)   : Tuple containing Model weights and biases in form of dictionaries.\n",
        "\n",
        "    \"\"\"\n",
        "    self.W = params[0]\n",
        "    self.b = params[1]\n",
        "\n",
        "\n",
        "\n",
        "  ### ACTIVATION FUNCTIONS AND THEIR GRADIENTS ###\n",
        "\n",
        "  def linear(self,X):\n",
        "    return X\n",
        "\n",
        "  def linear_grad(self,X):\n",
        "    return np.ones(shape=X.shape) \n",
        "\n",
        "  def sigmoid(self,X):\n",
        "    return 1/(1+np.exp(-X))\n",
        "\n",
        "  def sigmoid_grad(self,X):\n",
        "    return self.sigmoid(X)*(1-self.sigmoid(X))\n",
        "\n",
        "  def tanh(self,X):\n",
        "    return np.tanh(X)\n",
        "\n",
        "  def tanh_grad(self,X):\n",
        "    return 1-((self.tanh(X))**2)\n",
        "\n",
        "  def relu(self,X):\n",
        "    return np.maximum(0,X)\n",
        "\n",
        "  def relu_grad(self,X):\n",
        "    return 1.0*(X>0)\n",
        "\n",
        "  def lrelu(self,X):\n",
        "    return np.where(X > 0, X, X * self.leaky_relu_slope)\n",
        "\n",
        "  def lrelu_grad(self,X):\n",
        "    return np.where(X > 0, 1, self.leaky_relu_slope)   \n",
        "\n",
        "  def softmax(self,X):\n",
        "    exps = np.exp(X-np.max(X))\n",
        "    return exps/np.sum(exps,axis=0)\n",
        "\n",
        "\n",
        "\n",
        "  def to_one_hot(self,X):\n",
        "    \"\"\"\n",
        "    The method to convert SoftMax probabilities to label in one hot form.\n",
        "\n",
        "    Parameters :\n",
        "\n",
        "    X(NumPy 2D array of shape (output_size,m))  : Predicted SoftMax probabilities for batch of size m.\n",
        "\n",
        "    Returns :\n",
        "\n",
        "    X_one_hot(NumPy 2D array of shape (output_size,m)) : Predicted labels in one hot form for batch of \n",
        "                                                         size m.\n",
        "\n",
        "    \"\"\"\n",
        "    a = np.argmax(X,axis=0)\n",
        "    b = np.zeros((X.shape[0],a.size))\n",
        "    b[a,np.arange(a.size)] = 1\n",
        "    return b\n",
        "\n",
        "\n",
        "\n",
        "  def accuracy(self,Y_pred,Y_true):\n",
        "    \"\"\"\n",
        "    The method to calculate classification accuracy.\n",
        "\n",
        "    Parameters :\n",
        "\n",
        "    Y_pred(NumPy 2D array of shape (output_size,m))  : Predicted labels for batch of size m.\n",
        "    \n",
        "    Y_true(NumPy 2D array of shape (output_size,m))  : Actual labels for batch of size m.\n",
        "\n",
        "    Returns :\n",
        "\n",
        "    accuracy(float)   : Accuracy in range [0,1].\n",
        "\n",
        "    \"\"\"\n",
        "    a = np.argmax(Y_pred,axis=0)\n",
        "    b = np.argmax(Y_true,axis=0)\n",
        "\n",
        "    correct = np.sum((a==b)*1)\n",
        "    total = a.size\n",
        "\n",
        "    return correct/total\n",
        "\n",
        "\n",
        "\n",
        "  def forward_propagation(self,X,dropout=False):\n",
        "    \"\"\"\n",
        "    The method to forward propagate input data through the network, and calculate activations of \n",
        "    each layer.\n",
        "\n",
        "    Parameters :\n",
        "\n",
        "    X(NumPy 2D array of shape (input_size,m))  : Input data for batch of size m.\n",
        "\n",
        "    dropout(boolean)                           : Perform dropout or not.\n",
        "\n",
        "    Returns :\n",
        "\n",
        "    activations(dictionary)   : Activations of all layers.\n",
        "\n",
        "    \"\"\"\n",
        "    self.Z = {}\n",
        "    self.A = {}\n",
        "\n",
        "    self.A[0] = X\n",
        "\n",
        "    for i in range (len(self.layer_dims)-2):\n",
        "      self.Z[i+1] = np.matmul(self.W[i+1],self.A[i])+self.b[i+1]\n",
        "      _ = \"self.A[i+1] = self.\"+self.activation+\"(self.Z[i+1])\"\n",
        "      exec(_)\n",
        "\n",
        "      if dropout == True:\n",
        "        self.A[i+1] *= ((np.random.rand(self.A[i+1].shape[0],self.A[i+1].shape[1])<self.keep_probs[i])*1)\n",
        "        self.A[i+1].reshape(1,-1)\n",
        "        self.A[i+1] /= self.keep_probs[i]\n",
        "\n",
        "    self.Z[self.L] = np.matmul(self.W[self.L],self.A[len(self.layer_dims)-2])+self.b[self.L]\n",
        "\n",
        "    if self.output_type == 'classification':\n",
        "      self.A[self.L] = self.softmax(self.Z[self.L])\n",
        "\n",
        "    elif self.output_type == 'regression':\n",
        "      self.A[self.L] = self.Z[self.L] \n",
        "\n",
        "    return self.A\n",
        "\n",
        "\n",
        "\n",
        "  def compute_cost(self,Y_pred,Y_true):\n",
        "    \"\"\"\n",
        "    The method to compute cost for the current forward propagated batch.\n",
        "\n",
        "    Parameters :\n",
        "\n",
        "    Y_pred(NumPy 2D array of shape (output_size,m))  : Predicted outputs for current forward propagated \n",
        "                                                       batch of size m.\n",
        "    \n",
        "    Y_true(NumPy 2D array of shape (output_size,m))  : Ground truths for current forward propagated batch\n",
        "                                                       of size m.\n",
        "\n",
        "    Returns :\n",
        "\n",
        "    cost(float)   : Cost for current forward propagated batch.\n",
        "\n",
        "    \"\"\"\n",
        "    if self.output_type=='classification':\n",
        "      cost = (1/Y_true.shape[1])*np.sum(-1*Y_true*np.log(Y_pred))\n",
        "\n",
        "    else:\n",
        "      cost = (1/(2*Y_true.shape[1]))*np.sum((Y_pred-Y_true)**2)\n",
        "\n",
        "    sum=0\n",
        "\n",
        "    if self.regularizer == 'l2':\n",
        "      for i in range(self.L):\n",
        "        sum += np.sum(self.W[i+1]**2)\n",
        "      cost += ((1/(2*Y_true.shape[1]))*sum)      \n",
        "\n",
        "    elif self.regularizer == 'l1':\n",
        "      for i in range(self.L):\n",
        "        sum += np.sum(np.abs(self.W[i+1]))\n",
        "      cost += ((1/Y_true.shape[1])*sum)   \n",
        "    \n",
        "    return cost\n",
        "\n",
        "\n",
        "\n",
        "  def backward_propagation(self,Y):\n",
        "    \"\"\"\n",
        "    The method to compute gradient of cost with respect to weights and biases of each layer.\n",
        "\n",
        "    Parameters :\n",
        "\n",
        "    Y(NumPy 2D array of shape (output_size,m))  : Ground truths for current forward propagated batch \n",
        "                                                  of size m.\n",
        "\n",
        "    Returns :\n",
        "\n",
        "    gradients(tuple)   : Tuple containing gradients of cost with respect to weights and biases of each \n",
        "                         layer in form of dictionaries.\n",
        "\n",
        "    \"\"\"\n",
        "    self.dZ = {}\n",
        "    self.dA = {}\n",
        "    self.dW = {}\n",
        "    self.db = {}\n",
        "\n",
        "    self.dZ[self.L] = self.A[self.L]-Y\n",
        "\n",
        "    for i in range(self.L,0,-1):\n",
        "\n",
        "      self.dW[i] = (1/self.dZ[i].shape[1])*np.matmul(self.dZ[i],self.A[i-1].T)\n",
        "\n",
        "      if self.regularizer == 'l2':\n",
        "        self.dW[i] += self.regularizer_lambda*self.W[i]\n",
        "      elif self.regularizer == 'l1':\n",
        "        self.dW[i] += self.regularizer_lambda*np.where(self.W[i]>0,1,-1) \n",
        "        \n",
        "      self.db[i] = (1/self.dZ[i].shape[1])*np.sum(self.dZ[i],axis=1,keepdims=True)\n",
        "      _ = \"self.dZ[i-1] = np.matmul(self.W[i].T,self.dZ[i])*self.\"+self.activation+\"_grad(self.A[i-1])\"\n",
        "      exec(_) \n",
        "      \n",
        "    return (self.dW,self.db)\n",
        "  \n",
        "\n",
        "\n",
        "  def train(self,X_train,Y_train,X_val,Y_val,optimizer='vanilla',regularizer=None,regularizer_lambda=0.02,\n",
        "            keep_probs=[],mini_batch_size=32,epochs=100,learning_rate=0.01,beta=0.9,beta1=0.9,beta2=0.99,\n",
        "            print_loss_freq=100,plot_loss=True):\n",
        "    \"\"\"\n",
        "    The method to train the weights and biases of each layer for the provided training data with \n",
        "    ground truths.\n",
        "\n",
        "    Parameters :\n",
        "\n",
        "    X_train(NumPy 2D array of shape(input_size,m))   :  Input data(for batch of size m) for training.\n",
        "\n",
        "    Y_train(NumPy 2D array of shape(output_size,m))  :  Ground truths(for batch of size m) for training.\n",
        "\n",
        "    X_val(NumPy 2D array of shape(input_size,m))     :  Input data(for batch of size m) for validation.\n",
        "\n",
        "    Y_val(NumPy 2D array of shape(output_size,m))    :  Ground truths(for batch of size m) for validation.\n",
        "\n",
        "    optimizer(string)             :   Optimizer for training process, one of the following :\n",
        "                                      'vanilla'     : Original gradient decsent.\n",
        "                                      'momentum'    : Gradient descent with momentum.\n",
        "                                      'rmsprop'     : Root mean square propagation.\n",
        "                                      'adam'        : Adaptive moments estimation.\n",
        "    \n",
        "    regularizer(string)           :   Regularizer for weights of network, one of the following :\n",
        "                                      'l1'      : L1 regularization.\n",
        "                                      'l2'      : L2 regularization.\n",
        "                                      'dropout' : Dropout regularization.\n",
        "                                      None      : No regularizer.\n",
        "\n",
        "    regularizer_lambda(float)     :   Regularization parameter lambda for L1 or L2 regularization.\n",
        "\n",
        "    keep_probs(float[0,1] list)   :   Keeping probabilities for hidden layers in Dropout regularization.\n",
        "\n",
        "    mini_batch_size(int)          :   Mini Batch size (1 for Stochastic gradient descent).\n",
        "\n",
        "    epochs(int)                   :   No. of iterations over training set.\n",
        "\n",
        "    learning_rate(float)          :   Learning rate aplha.\n",
        "\n",
        "    beta(float)                   :   Optimizer parameter beta for 'momentum' and 'rmsprop' optimizers.\n",
        "\n",
        "    beta1(float)                  :   Optimizer parameter beta2 for 'adam' optimizer.\n",
        "\n",
        "    beta2(float)                  :   Optimizer parameter beta2 for 'adam' optimizer.\n",
        "\n",
        "    print_loss_freq(int)          :   Frequency of printing metrics.\n",
        "\n",
        "    plot_loss(boolean)            :   Plot learning curves or not.\n",
        "\n",
        "    Returns :\n",
        "\n",
        "    Metrics_history(tuple)        :   History of metrics in form of lists\n",
        "\n",
        "    \"\"\"\n",
        "    self.regularizer_lambda = regularizer_lambda\n",
        "    self.regularizer = regularizer\n",
        "\n",
        "    if keep_probs != []:\n",
        "      self.keep_probs = keep_probs\n",
        "    else:\n",
        "      self.keep_probs = [1]*(len(self.layer_dims)-2)\n",
        "\n",
        "    self.print_loss_freq = print_loss_freq  \n",
        "\n",
        "    self.Mw = {}\n",
        "    self.Mb = {}\n",
        "    self.Vw = {}\n",
        "    self.Vb = {}\n",
        "\n",
        "    for i in range(self.L):\n",
        "      self.Mw[i+1] = np.zeros(shape=self.W[i+1].shape)\n",
        "      self.Mb[i+1] = np.zeros(shape=self.b[i+1].shape)\n",
        "      self.Vw[i+1] = np.zeros(shape=self.W[i+1].shape)\n",
        "      self.Vb[i+1] = np.zeros(shape=self.b[i+1].shape)\n",
        "\n",
        "    train_cost = []\n",
        "    val_cost = []\n",
        "    train_acc = []\n",
        "    val_acc = []\n",
        "    m = X_train.shape[1]\n",
        "\n",
        "    drop = False\n",
        "    if(self.regularizer == 'dropout'):\n",
        "      drop = True\n",
        "\n",
        "    t = 1\n",
        "    \n",
        "    for e in range(epochs):\n",
        "\n",
        "      mask = np.random.permutation(m)\n",
        "\n",
        "      X_train = X_train[:,mask]\n",
        "      Y_train = Y_train[:,mask]\n",
        "\n",
        "      if optimizer == 'vanilla':\n",
        "\n",
        "        for i in range(0,m,mini_batch_size):\n",
        "\n",
        "          _ = self.forward_propagation(X_train[:,i:(i+mini_batch_size)],drop)\n",
        "          _ = self.backward_propagation(Y_train[:,i:(i+mini_batch_size)])\n",
        "          \n",
        "          for i in range(self.L):\n",
        "            self.W[i+1] -= learning_rate*self.dW[i+1]\n",
        "            self.b[i+1] -= learning_rate*self.db[i+1]\n",
        "\n",
        "      elif optimizer == 'momentum':\n",
        "\n",
        "        for i in range(0,m,mini_batch_size):\n",
        "\n",
        "          _ = self.forward_propagation(X_train[:,i:(i+mini_batch_size)],drop)\n",
        "          _ = self.backward_propagation(Y_train[:,i:(i+mini_batch_size)])\n",
        "\n",
        "          for i in range(self.L):\n",
        "            self.Mw[i+1] = (beta*self.Mw[i+1])+(1-beta)*self.dW[i+1]\n",
        "            self.Mb[i+1] = (beta*self.Mb[i+1])+(1-beta)*self.db[i+1]\n",
        "          \n",
        "          \n",
        "          for i in range(self.L):\n",
        "            self.W[i+1] -= learning_rate*self.Mw[i+1]\n",
        "            self.b[i+1] -= learning_rate*self.Mb[i+1]\n",
        "\n",
        "      elif optimizer == 'rmsprop':\n",
        "\n",
        "        for i in range(0,m,mini_batch_size):\n",
        "\n",
        "          _ = self.forward_propagation(X_train[:,i:(i+mini_batch_size)],drop)\n",
        "          _ = self.backward_propagation(Y_train[:,i:(i+mini_batch_size)])\n",
        "\n",
        "          for i in range(self.L):\n",
        "            self.Vw[i+1] = (beta*self.Vw[i+1])+(1-beta)*(self.dW[i+1]**2)\n",
        "            self.Vb[i+1] = (beta*self.Vb[i+1])+(1-beta)*(self.db[i+1]**2)\n",
        "          \n",
        "          for i in range(self.L):\n",
        "            \n",
        "            self.W[i+1] -= learning_rate*(self.dW[i+1]/(np.sqrt(self.Vw[i+1])+10e-8))\n",
        "            self.b[i+1] -= learning_rate*(self.db[i+1]/(np.sqrt(self.Vb[i+1])+10e-8))\n",
        "\n",
        "      elif optimizer == 'adam':\n",
        "        \n",
        "        for i in range(0,m,mini_batch_size):\n",
        "\n",
        "          _ = self.forward_propagation(X_train[:,i:(i+mini_batch_size)],drop)\n",
        "          _ = self.backward_propagation(Y_train[:,i:(i+mini_batch_size)])\n",
        "\n",
        "          for i in range(self.L):\n",
        "\n",
        "            self.Mw[i+1] = (beta1*self.Mw[i+1])+(1-beta1)*self.dW[i+1]\n",
        "            #self.Mw[i+1] /= (1-np.power(beta1,t))\n",
        "            self.Mb[i+1] = (beta1*self.Mb[i+1])+(1-beta1)*self.db[i+1]\n",
        "            #self.Mb[i+1] /= (1-np.power(beta1,t))\n",
        "\n",
        "          for i in range(self.L):\n",
        "            self.Vw[i+1] = (beta2*self.Vw[i+1])+(1-beta2)*(self.dW[i+1]**2)\n",
        "            #self.Vw[i+1] /= (1-np.power(beta2,t))\n",
        "            self.Vb[i+1] = (beta2*self.Vb[i+1])+(1-beta2)*(self.db[i+1]**2)\n",
        "            #self.Vb[i+1] /= (1-np.power(beta2,t))\n",
        "\n",
        "          t += 1  \n",
        "\n",
        "          for i in range(self.L):\n",
        "            self.W[i+1] -= learning_rate*(self.Mw[i+1]/(np.sqrt(self.Vw[i+1])+10e-8))\n",
        "            self.b[i+1] -= learning_rate*(self.Mb[i+1]/(np.sqrt(self.Vb[i+1])+10e-8))\n",
        "\n",
        "      Y_pred_train = self.forward_propagation(X_train)[self.L]\n",
        "      Y_pred_val = self.forward_propagation(X_val)[self.L]\n",
        "                                   \n",
        "      train_cost.append(self.compute_cost(Y_pred_train,Y_train))\n",
        "      val_cost.append(self.compute_cost(Y_pred_val,Y_val))\n",
        "\n",
        "      train_acc.append(self.accuracy(self.to_one_hot(Y_pred_train),Y_train))\n",
        "      val_acc.append(self.accuracy(self.to_one_hot(Y_pred_val),Y_val))\n",
        "\n",
        "      if (e+1)%self.print_loss_freq==0:\n",
        "        if self.output_type == 'classification':\n",
        "          print(\"After \"+str(e+1)+\" epochs :    Training Loss = \"+str(train_cost[e]) +\n",
        "                \"    Validation Loss = \"+str(val_cost[e]) + \"\\n\\n\\t\\t \" +\n",
        "                \"    Training Accuracy = \"+str(train_acc[e]) +\n",
        "                \"    Validation Accuracy = \"+str(val_acc[e])+'\\n')\n",
        "        else:\n",
        "          print(\"After \"+str(e+1)+\" epochs :    Training Loss = \"+str(train_cost[e]) + \n",
        "                \"    Validation Loss = \"+str(val_cost[e])+'\\n')  \n",
        "\n",
        "    if plot_loss == True:\n",
        "\n",
        "      r = list(range(1,epochs+1))\n",
        "      plt.plot(r,train_cost,'r',label=\"Training Loss\")\n",
        "      plt.plot(r,val_cost,'b',label=\"Validation Loss\")\n",
        "      plt.xlabel('Epochs')\n",
        "      if self.output_type == 'regression':\n",
        "        plt.ylabel('L2 Loss')\n",
        "      else:\n",
        "        plt.ylabel('Categorical Cross Entropy Loss') \n",
        "      plt.legend()\n",
        "      plt.show()\n",
        "\n",
        "      print(\"\\nTraining Loss : \",train_cost[-1])\n",
        "      print(\"\\nValidation Loss : \",val_cost[-1]) \n",
        "\n",
        "      if self.output_type == 'classification':\n",
        "        print(\"\\nTraining Accuracy : \",train_acc[-1])\n",
        "        print(\"\\nValidation Accuracy : \",val_acc[-1]) \n",
        "\n",
        "    return (train_cost,val_cost,train_acc,val_acc)       \n",
        "\n",
        "\n",
        "\n",
        "  def predict(self,X):\n",
        "    \"\"\"\n",
        "    The method to predict outputs for given unknown input data.\n",
        "\n",
        "    Parameters :\n",
        "\n",
        "    X(NumPy 2D array of shape (input_size,m))  : Input data for batch of size m.\n",
        "\n",
        "    Returns :\n",
        "\n",
        "    Y_pred(NumPy 2D array of shape (output_size_size,m))  : Predicted output for batch of size m.\n",
        "\n",
        "    \"\"\"\n",
        "\n",
        "    A = self.forward_propagation(X)\n",
        "\n",
        "    if self.output_type == 'regression':\n",
        "      return A[self.L]\n",
        "    else:\n",
        "      return self.to_one_hot(A[self.L])\n"
      ],
      "execution_count": 10,
      "outputs": []
    },
    {
      "cell_type": "markdown",
      "metadata": {
        "id": "hRcJBBFr8ux2"
      },
      "source": [
        "#**Classification on HumanPerception Dataset**"
      ]
    },
    {
      "cell_type": "markdown",
      "metadata": {
        "id": "w5JBbrZL701M"
      },
      "source": [
        "## My Data"
      ]
    },
    {
      "cell_type": "code",
      "metadata": {
        "id": "AW_KGptO77DV"
      },
      "source": [
        "X=pd.read_csv('/content/drive/MyDrive/Colab Notebooks/ML_FinalProject/NN-Regression-PurePython/Train_data_x1.csv', encoding = 'ISO-8859-1')\n",
        "#X.head(1)\n",
        "X.loc[(X.class_sitting == 1),'class_sitting']=1\n",
        "X.loc[(X.class_sittingdown == 1),'class_sittingdown']=2\n",
        "X.loc[(X.class_standing == 1),'class_standing']=3\n",
        "X.loc[(X.class_standingup == 1),'class_standingup']=4\n",
        "X.loc[(X.class_walking == 1),'class_walking']=5\n",
        "X['class'] = X['class_sitting'] + X['class_sittingdown']+X['class_standing']+X['class_standingup']+X['class_walking']\n",
        "X.drop(['class_sitting', 'class_sittingdown', 'class_standing',\n",
        "       'class_standingup', 'class_walking'], axis=1, inplace=True)\n",
        "X['class']=X['class'] - 1"
      ],
      "execution_count": 162,
      "outputs": []
    },
    {
      "cell_type": "code",
      "metadata": {
        "colab": {
          "base_uri": "https://localhost:8080/",
          "height": 100
        },
        "id": "XIRx3fM7AAMO",
        "outputId": "a84d2d81-cb38-4970-a810-b43367044ce3"
      },
      "source": [
        "X.head(1)"
      ],
      "execution_count": 163,
      "outputs": [
        {
          "output_type": "execute_result",
          "data": {
            "text/html": [
              "<div>\n",
              "<style scoped>\n",
              "    .dataframe tbody tr th:only-of-type {\n",
              "        vertical-align: middle;\n",
              "    }\n",
              "\n",
              "    .dataframe tbody tr th {\n",
              "        vertical-align: top;\n",
              "    }\n",
              "\n",
              "    .dataframe thead th {\n",
              "        text-align: right;\n",
              "    }\n",
              "</style>\n",
              "<table border=\"1\" class=\"dataframe\">\n",
              "  <thead>\n",
              "    <tr style=\"text-align: right;\">\n",
              "      <th></th>\n",
              "      <th>age</th>\n",
              "      <th>how_tall_in_meters</th>\n",
              "      <th>weight</th>\n",
              "      <th>body_mass_index</th>\n",
              "      <th>y1</th>\n",
              "      <th>z1</th>\n",
              "      <th>x2</th>\n",
              "      <th>y2</th>\n",
              "      <th>z2</th>\n",
              "      <th>x3</th>\n",
              "      <th>y3</th>\n",
              "      <th>z3</th>\n",
              "      <th>x4</th>\n",
              "      <th>y4</th>\n",
              "      <th>z4</th>\n",
              "      <th>user_debora</th>\n",
              "      <th>user_katia</th>\n",
              "      <th>user_wallace</th>\n",
              "      <th>user_jose_carlos</th>\n",
              "      <th>gender_Woman</th>\n",
              "      <th>gender_Man</th>\n",
              "      <th>x1</th>\n",
              "      <th>class</th>\n",
              "    </tr>\n",
              "  </thead>\n",
              "  <tbody>\n",
              "    <tr>\n",
              "      <th>0</th>\n",
              "      <td>46</td>\n",
              "      <td>162</td>\n",
              "      <td>75</td>\n",
              "      <td>28.6</td>\n",
              "      <td>91</td>\n",
              "      <td>-87</td>\n",
              "      <td>26</td>\n",
              "      <td>39</td>\n",
              "      <td>-124</td>\n",
              "      <td>15</td>\n",
              "      <td>108</td>\n",
              "      <td>-88</td>\n",
              "      <td>-179</td>\n",
              "      <td>-106</td>\n",
              "      <td>-173</td>\n",
              "      <td>1</td>\n",
              "      <td>0</td>\n",
              "      <td>0</td>\n",
              "      <td>0</td>\n",
              "      <td>1</td>\n",
              "      <td>0</td>\n",
              "      <td>7</td>\n",
              "      <td>4</td>\n",
              "    </tr>\n",
              "  </tbody>\n",
              "</table>\n",
              "</div>"
            ],
            "text/plain": [
              "   age  how_tall_in_meters  weight  ...  gender_Man  x1  class\n",
              "0   46                 162      75  ...           0   7      4\n",
              "\n",
              "[1 rows x 23 columns]"
            ]
          },
          "metadata": {
            "tags": []
          },
          "execution_count": 163
        }
      ]
    },
    {
      "cell_type": "code",
      "metadata": {
        "id": "Mc55sFTOARME"
      },
      "source": [
        "selFeat=['age', 'how_tall_in_meters', 'weight', 'body_mass_index', 'y1', 'z1',\n",
        "       'x2', 'y2', 'z2', 'x3', 'y3', 'z3', 'x4', 'y4', 'z4', 'user_debora',\n",
        "       'user_katia', 'user_wallace', 'user_jose_carlos', 'gender_Woman',\n",
        "       'gender_Man', 'x1']\n",
        "Xtrain = X[selFeat]\n",
        "ytrain = X['class']"
      ],
      "execution_count": 164,
      "outputs": []
    },
    {
      "cell_type": "code",
      "metadata": {
        "colab": {
          "base_uri": "https://localhost:8080/"
        },
        "id": "SCiQYdRj-0Xh",
        "outputId": "13868699-072f-4920-f6a1-079e7f17911d"
      },
      "source": [
        "Xtrain.shape,ytrain.shape"
      ],
      "execution_count": 165,
      "outputs": [
        {
          "output_type": "execute_result",
          "data": {
            "text/plain": [
              "((132506, 22), (132506,))"
            ]
          },
          "metadata": {
            "tags": []
          },
          "execution_count": 165
        }
      ]
    },
    {
      "cell_type": "code",
      "metadata": {
        "id": "1XgplJUW-0Fq"
      },
      "source": [
        "from sklearn.model_selection import train_test_split\n",
        "X, X_test, Y, Y_test = train_test_split(Xtrain, ytrain, test_size = 0.25)"
      ],
      "execution_count": 166,
      "outputs": []
    },
    {
      "cell_type": "code",
      "metadata": {
        "id": "aeijlUB5_SMD"
      },
      "source": [
        "X_train,X_val,Y_train,Y_val = train_test_split(X,Y,test_size=0.01)"
      ],
      "execution_count": 167,
      "outputs": []
    },
    {
      "cell_type": "code",
      "metadata": {
        "id": "ZMVvszpyDH96"
      },
      "source": [
        "Y_train = to_categorical(Y_train).T\n",
        "X_train =(X_train.T-np.mean(X_train.T,axis=0))/np.std(X_train.T,axis=0)\n",
        "Y_val = to_categorical(Y_val).T\n",
        "X_val =(X_val.T-np.mean(X_val.T,axis=0))/np.std(X_val.T,axis=0)\n",
        "Y_test = to_categorical(Y_test).T\n",
        "X_test =(X_test.T-np.mean(X_test.T,axis=0))/np.std(X_test.T,axis=0)\n",
        "X_train=X_train.to_numpy()\n",
        "X_test=X_test.to_numpy()\n",
        "X_val=X_val.to_numpy()"
      ],
      "execution_count": 168,
      "outputs": []
    },
    {
      "cell_type": "code",
      "metadata": {
        "colab": {
          "base_uri": "https://localhost:8080/"
        },
        "id": "lxVA3WHcDiYE",
        "outputId": "b618ff4c-6e79-4255-f9da-e16c286bda57"
      },
      "source": [
        "Y_train.shape, X_train.shape #y is numClass X numSamples; x is numFeatures X numSamples"
      ],
      "execution_count": 169,
      "outputs": [
        {
          "output_type": "execute_result",
          "data": {
            "text/plain": [
              "((5, 98385), (22, 98385))"
            ]
          },
          "metadata": {
            "tags": []
          },
          "execution_count": 169
        }
      ]
    },
    {
      "cell_type": "code",
      "metadata": {
        "colab": {
          "base_uri": "https://localhost:8080/"
        },
        "id": "f8B7T1U8Dh5R",
        "outputId": "87d9cfa1-4e73-4910-fff7-71318a69d37a"
      },
      "source": [
        "X_train=X_train[:, :10000]\n",
        "Y_train=Y_train[:,:10000]\n",
        "X_train.shape, Y_train.shape"
      ],
      "execution_count": 157,
      "outputs": [
        {
          "output_type": "execute_result",
          "data": {
            "text/plain": [
              "((22, 10000), (5, 10000))"
            ]
          },
          "metadata": {
            "tags": []
          },
          "execution_count": 157
        }
      ]
    },
    {
      "cell_type": "markdown",
      "metadata": {
        "id": "h5MlxwWBI4fA"
      },
      "source": [
        "## The Neural Net"
      ]
    },
    {
      "cell_type": "code",
      "metadata": {
        "id": "yUFwHTvMmFVm",
        "colab": {
          "base_uri": "https://localhost:8080/",
          "height": 687
        },
        "outputId": "e6d9c04f-59dd-4cfe-e059-aa4f79ed2525"
      },
      "source": [
        "# Define and train the Deep Neural Network.\n",
        "\n",
        "model = Deep_Neural_Network()\n",
        "model.create(22,5,[800],output_type='classification',activation='lrelu',initializer='he',\n",
        "             leaky_relu_slope=0.1)\n",
        "\n",
        "costs = model.train(X_train,Y_train,X_val,Y_val,optimizer='adam',regularizer='dropout',keep_probs=[0.75],\n",
        "                    mini_batch_size=128,epochs=20,print_loss_freq=5,learning_rate=0.0002)"
      ],
      "execution_count": 170,
      "outputs": [
        {
          "output_type": "stream",
          "text": [
            "After 5 epochs :    Training Loss = 0.25990485591151846    Validation Loss = 0.248339416911688\n",
            "\n",
            "\t\t     Training Accuracy = 0.917812674696346    Validation Accuracy = 0.9265593561368209\n",
            "\n",
            "After 10 epochs :    Training Loss = 0.18251712119861352    Validation Loss = 0.17432669161585398\n",
            "\n",
            "\t\t     Training Accuracy = 0.9468211617624638    Validation Accuracy = 0.937625754527163\n",
            "\n",
            "After 15 epochs :    Training Loss = 0.1407852896241465    Validation Loss = 0.13795254966952103\n",
            "\n",
            "\t\t     Training Accuracy = 0.9597499618844336    Validation Accuracy = 0.9496981891348089\n",
            "\n",
            "After 20 epochs :    Training Loss = 0.11625299018170028    Validation Loss = 0.1141561612838588\n",
            "\n",
            "\t\t     Training Accuracy = 0.9661127204350257    Validation Accuracy = 0.959758551307847\n",
            "\n"
          ],
          "name": "stdout"
        },
        {
          "output_type": "display_data",
          "data": {
            "image/png": "[encoded data removed]",
            "text/plain": [
              "<Figure size 432x288 with 1 Axes>"
            ]
          },
          "metadata": {
            "tags": [],
            "needs_background": "light"
          }
        },
        {
          "output_type": "stream",
          "text": [
            "\n",
            "Training Loss :  0.11625299018170028\n",
            "\n",
            "Validation Loss :  0.1141561612838588\n",
            "\n",
            "Training Accuracy :  0.9661127204350257\n",
            "\n",
            "Validation Accuracy :  0.959758551307847\n"
          ],
          "name": "stdout"
        }
      ]
    },
    {
      "cell_type": "code",
      "metadata": {
        "id": "6BL0a_jRrmMG"
      },
      "source": [
        "# Predict labels for test set.\n",
        "\n",
        "Y_pred = model.predict(X_test)"
      ],
      "execution_count": 171,
      "outputs": []
    },
    {
      "cell_type": "code",
      "metadata": {
        "colab": {
          "base_uri": "https://localhost:8080/"
        },
        "id": "-WXlzEVOUP8g",
        "outputId": "ed57568a-de0b-4ab0-ea94-a41d9d827d5a"
      },
      "source": [
        "Y_test.shape, Y_pred.shape"
      ],
      "execution_count": 173,
      "outputs": [
        {
          "output_type": "execute_result",
          "data": {
            "text/plain": [
              "((5, 33127), (5, 33127))"
            ]
          },
          "metadata": {
            "tags": []
          },
          "execution_count": 173
        }
      ]
    },
    {
      "cell_type": "code",
      "metadata": {
        "id": "FBh66Utetu9e",
        "colab": {
          "base_uri": "https://localhost:8080/"
        },
        "outputId": "a7716b60-6bf5-4da5-e0ad-9eb58dd5a1d2"
      },
      "source": [
        "# Calculate Model Accuracy.\n",
        "\n",
        "print(model.accuracy(Y_pred,Y_test))"
      ],
      "execution_count": 172,
      "outputs": [
        {
          "output_type": "stream",
          "text": [
            "0.9667038971231926\n"
          ],
          "name": "stdout"
        }
      ]
    },
    {
      "cell_type": "code",
      "metadata": {
        "colab": {
          "base_uri": "https://localhost:8080/"
        },
        "id": "Fu6x9od6Ug0U",
        "outputId": "a472f5f9-2231-4254-a2d4-f9635f862de2"
      },
      "source": [
        "Y_test"
      ],
      "execution_count": 176,
      "outputs": [
        {
          "output_type": "execute_result",
          "data": {
            "text/plain": [
              "array([[0., 1., 0., ..., 1., 0., 0.],\n",
              "       [1., 0., 0., ..., 0., 0., 0.],\n",
              "       [0., 0., 0., ..., 0., 1., 0.],\n",
              "       [0., 0., 0., ..., 0., 0., 0.],\n",
              "       [0., 0., 1., ..., 0., 0., 1.]], dtype=float32)"
            ]
          },
          "metadata": {
            "tags": []
          },
          "execution_count": 176
        }
      ]
    },
    {
      "cell_type": "code",
      "metadata": {
        "colab": {
          "base_uri": "https://localhost:8080/"
        },
        "id": "QyWAxrnZU5Cl",
        "outputId": "24853df9-68a0-4d43-a039-85c63f9fd5e0"
      },
      "source": [
        "Y_pred"
      ],
      "execution_count": 177,
      "outputs": [
        {
          "output_type": "execute_result",
          "data": {
            "text/plain": [
              "array([[0., 1., 0., ..., 1., 0., 0.],\n",
              "       [1., 0., 0., ..., 0., 0., 0.],\n",
              "       [0., 0., 0., ..., 0., 1., 0.],\n",
              "       [0., 0., 0., ..., 0., 0., 0.],\n",
              "       [0., 0., 1., ..., 0., 0., 1.]])"
            ]
          },
          "metadata": {
            "tags": []
          },
          "execution_count": 177
        }
      ]
    },
    {
      "cell_type": "markdown",
      "metadata": {
        "id": "ysV7czsasUB_"
      },
      "source": [
        "#**REGRESSION on Human Perception dataset**"
      ]
    },
    {
      "cell_type": "code",
      "metadata": {
        "colab": {
          "base_uri": "https://localhost:8080/"
        },
        "id": "Kfr_R0iliFNE",
        "outputId": "eae079dc-c069-4dd7-b18f-3a68205ec1b4"
      },
      "source": [
        "X=pd.read_csv('/content/drive/MyDrive/Colab Notebooks/ML_FinalProject/NN-Regression-PurePython/Train_data_x1.csv', encoding = 'ISO-8859-1')\n",
        "selectF=['age', 'how_tall_in_meters', 'weight', 'body_mass_index', 'y1', 'z1',\n",
        "       'x2', 'y2', 'z2', 'x3', 'y3', 'z3', 'x4', 'y4', 'z4', 'user_debora',\n",
        "       'user_katia', 'user_wallace', 'user_jose_carlos', 'gender_Woman',\n",
        "       'gender_Man', 'class_sitting', 'class_sittingdown', 'class_standing',\n",
        "       'class_standingup', 'class_walking']\n",
        "Xtrain = X[selectF]\n",
        "ytrain = X['x1']\n",
        "ytrain = ytrain.values.reshape(-1,1)\n",
        "Xtrain.shape,ytrain.shape"
      ],
      "execution_count": 195,
      "outputs": [
        {
          "output_type": "execute_result",
          "data": {
            "text/plain": [
              "((132506, 26), (132506, 1))"
            ]
          },
          "metadata": {
            "tags": []
          },
          "execution_count": 195
        }
      ]
    },
    {
      "cell_type": "code",
      "metadata": {
        "id": "svjp4QtljJQW"
      },
      "source": [
        "X=Xtrain\n",
        "Y=ytrain"
      ],
      "execution_count": 196,
      "outputs": []
    },
    {
      "cell_type": "code",
      "metadata": {
        "colab": {
          "base_uri": "https://localhost:8080/"
        },
        "id": "cqbgAEIwkV8l",
        "outputId": "c902046a-19d1-4378-a401-ae4f1f98f8d1"
      },
      "source": [
        "X=X.to_numpy()\n",
        "type(Y)"
      ],
      "execution_count": 197,
      "outputs": [
        {
          "output_type": "execute_result",
          "data": {
            "text/plain": [
              "numpy.ndarray"
            ]
          },
          "metadata": {
            "tags": []
          },
          "execution_count": 197
        }
      ]
    },
    {
      "cell_type": "code",
      "metadata": {
        "id": "fBuQlyAqlqAu"
      },
      "source": [
        "X=X[:10000,:]\n",
        "Y=Y[:10000,:]"
      ],
      "execution_count": 158,
      "outputs": []
    },
    {
      "cell_type": "code",
      "metadata": {
        "colab": {
          "base_uri": "https://localhost:8080/"
        },
        "id": "d3fBVOrRhRsc",
        "outputId": "c8ec85ca-acb1-4f16-b55d-51f59d7401ac"
      },
      "source": [
        "X.shape, Y.shape"
      ],
      "execution_count": 198,
      "outputs": [
        {
          "output_type": "execute_result",
          "data": {
            "text/plain": [
              "((132506, 26), (132506, 1))"
            ]
          },
          "metadata": {
            "tags": []
          },
          "execution_count": 198
        }
      ]
    },
    {
      "cell_type": "code",
      "metadata": {
        "id": "if_inQKLk9AB"
      },
      "source": [
        "from sklearn.model_selection import train_test_split\n",
        "X, X_test, Y, Y_test = train_test_split(X, Y, test_size = 0.25)"
      ],
      "execution_count": 199,
      "outputs": []
    },
    {
      "cell_type": "code",
      "metadata": {
        "colab": {
          "base_uri": "https://localhost:8080/"
        },
        "id": "Yz6KGgETjXn8",
        "outputId": "7cc7db60-2e04-4c63-9527-92463f85b544"
      },
      "source": [
        "X.shape"
      ],
      "execution_count": 200,
      "outputs": [
        {
          "output_type": "execute_result",
          "data": {
            "text/plain": [
              "(99379, 26)"
            ]
          },
          "metadata": {
            "tags": []
          },
          "execution_count": 200
        }
      ]
    },
    {
      "cell_type": "code",
      "metadata": {
        "id": "buBHUTjXr7ga"
      },
      "source": [
        "# Normalize, reshape and split into train, test and validation datasets.\n",
        "\n",
        "X_train,X_val,Y_train,Y_val = train_test_split(X,Y,test_size=0.1)\n",
        "\n",
        "Y_train = Y_train.reshape(1,Y_train.shape[0])\n",
        "Y_val = Y_val.reshape(1,Y_val.shape[0])\n",
        "\n",
        "X_train = (X_train-np.mean(X_train,axis=0))/np.std(X_train,axis=0)\n",
        "X_val = (X_val-np.mean(X_val,axis=0))/np.std(X_val,axis=0)\n",
        "X_test = (X_test-np.mean(X_test,axis=0))/np.std(X_test,axis=0)"
      ],
      "execution_count": 201,
      "outputs": []
    },
    {
      "cell_type": "code",
      "metadata": {
        "id": "IlL1ndJdxutV",
        "colab": {
          "base_uri": "https://localhost:8080/",
          "height": 517
        },
        "outputId": "2bb045fb-119d-414e-ccc1-dfcb40d7c42c"
      },
      "source": [
        "# Define and train the Deep Neural Network.\n",
        "\n",
        "model = Deep_Neural_Network()\n",
        "\n",
        "model.create(26,1,[10,20],output_type='regression',activation='relu',initializer='he')\n",
        "\n",
        "costs = model.train(X_train.T,Y_train,X_val.T,Y_val,optimizer='rmsprop',regularizer='l2',\n",
        "                    regularizer_lambda=0.1,mini_batch_size=32,epochs=50,print_loss_freq=10,\n",
        "                    learning_rate=0.002)"
      ],
      "execution_count": 202,
      "outputs": [
        {
          "output_type": "stream",
          "text": [
            "After 10 epochs :    Training Loss = 23.47011514758323    Validation Loss = 23.046050514385403\n",
            "\n",
            "After 20 epochs :    Training Loss = 22.840894424520087    Validation Loss = 22.47142757888437\n",
            "\n",
            "After 30 epochs :    Training Loss = 22.85062261349631    Validation Loss = 22.50943674200394\n",
            "\n",
            "After 40 epochs :    Training Loss = 22.556383434752146    Validation Loss = 22.228524665970177\n",
            "\n",
            "After 50 epochs :    Training Loss = 22.172984621057402    Validation Loss = 22.01305210727692\n",
            "\n"
          ],
          "name": "stdout"
        },
        {
          "output_type": "display_data",
          "data": {
            "image/png": "[encoded data removed]",
            "text/plain": [
              "<Figure size 432x288 with 1 Axes>"
            ]
          },
          "metadata": {
            "tags": [],
            "needs_background": "light"
          }
        },
        {
          "output_type": "stream",
          "text": [
            "\n",
            "Training Loss :  22.172984621057402\n",
            "\n",
            "Validation Loss :  22.01305210727692\n"
          ],
          "name": "stdout"
        }
      ]
    },
    {
      "cell_type": "code",
      "metadata": {
        "id": "n6yomL6R3J6j"
      },
      "source": [
        "# Predict output for test dataset.\n",
        "\n",
        "Y_p = model.predict(X_test.T)"
      ],
      "execution_count": 203,
      "outputs": []
    },
    {
      "cell_type": "code",
      "metadata": {
        "colab": {
          "base_uri": "https://localhost:8080/"
        },
        "id": "zo8aMknOmEcI",
        "outputId": "a23df8d7-45c5-4f10-c140-1ca8f6597dd2"
      },
      "source": [
        "Y_test.shape"
      ],
      "execution_count": 204,
      "outputs": [
        {
          "output_type": "execute_result",
          "data": {
            "text/plain": [
              "(33127, 1)"
            ]
          },
          "metadata": {
            "tags": []
          },
          "execution_count": 204
        }
      ]
    },
    {
      "cell_type": "code",
      "metadata": {
        "id": "DWWtN0nL3Sfn",
        "colab": {
          "base_uri": "https://localhost:8080/"
        },
        "outputId": "515baadf-48cb-4e4d-8e1d-e3c7c9f0d362"
      },
      "source": [
        "# Calculate Loss for test dataset\n",
        "\n",
        "print(model.compute_cost(Y_p,Y_test.reshape(1,33127)))"
      ],
      "execution_count": 205,
      "outputs": [
        {
          "output_type": "stream",
          "text": [
            "22.783452642238053\n"
          ],
          "name": "stdout"
        }
      ]
    },
    {
      "cell_type": "code",
      "metadata": {
        "colab": {
          "base_uri": "https://localhost:8080/"
        },
        "id": "WH6bJCE3l_4r",
        "outputId": "17cbdd34-cc59-44fd-aeb9-9e2ac4cb62b6"
      },
      "source": [
        "Y_p"
      ],
      "execution_count": 206,
      "outputs": [
        {
          "output_type": "execute_result",
          "data": {
            "text/plain": [
              "array([[ -1.08797534,   0.56388931,  -9.41917011, ...,  -5.00760048,\n",
              "        -23.44653632, -26.16121558]])"
            ]
          },
          "metadata": {
            "tags": []
          },
          "execution_count": 206
        }
      ]
    },
    {
      "cell_type": "code",
      "metadata": {
        "colab": {
          "base_uri": "https://localhost:8080/"
        },
        "id": "NkyNUdaQmdEv",
        "outputId": "f18d854f-bb46-4f62-c475-5744a81912c6"
      },
      "source": [
        "Y_test"
      ],
      "execution_count": 207,
      "outputs": [
        {
          "output_type": "execute_result",
          "data": {
            "text/plain": [
              "array([[-32],\n",
              "       [  1],\n",
              "       [-10],\n",
              "       ...,\n",
              "       [ -4],\n",
              "       [-24],\n",
              "       [-23]])"
            ]
          },
          "metadata": {
            "tags": []
          },
          "execution_count": 207
        }
      ]
    },
    {
      "cell_type": "code",
      "metadata": {
        "colab": {
          "base_uri": "https://localhost:8080/"
        },
        "id": "etHiK3yGmzKw",
        "outputId": "ec05d780-9653-4c28-8ee0-224af5199509"
      },
      "source": [
        "Y_p.shape"
      ],
      "execution_count": 208,
      "outputs": [
        {
          "output_type": "execute_result",
          "data": {
            "text/plain": [
              "(1, 33127)"
            ]
          },
          "metadata": {
            "tags": []
          },
          "execution_count": 208
        }
      ]
    },
    {
      "cell_type": "code",
      "metadata": {
        "id": "ViccC-XOm6xl"
      },
      "source": [
        "Y_pred=Y_p.T"
      ],
      "execution_count": 209,
      "outputs": []
    },
    {
      "cell_type": "code",
      "metadata": {
        "colab": {
          "base_uri": "https://localhost:8080/"
        },
        "id": "KsUvSI6bnOjM",
        "outputId": "cb5cde71-3d54-48d7-fcc8-6a67774bf4ab"
      },
      "source": [
        "Y_pred.shape"
      ],
      "execution_count": 210,
      "outputs": [
        {
          "output_type": "execute_result",
          "data": {
            "text/plain": [
              "(33127, 1)"
            ]
          },
          "metadata": {
            "tags": []
          },
          "execution_count": 210
        }
      ]
    },
    {
      "cell_type": "code",
      "metadata": {
        "id": "DQiqTmo2m-lj"
      },
      "source": [
        "Y_Test=Y_test"
      ],
      "execution_count": 211,
      "outputs": []
    },
    {
      "cell_type": "code",
      "metadata": {
        "colab": {
          "base_uri": "https://localhost:8080/"
        },
        "id": "K3J2tAS8nGUc",
        "outputId": "895b225a-57e5-463b-a4b7-d7ee2ff80e64"
      },
      "source": [
        "Y_Test.shape"
      ],
      "execution_count": 212,
      "outputs": [
        {
          "output_type": "execute_result",
          "data": {
            "text/plain": [
              "(33127, 1)"
            ]
          },
          "metadata": {
            "tags": []
          },
          "execution_count": 212
        }
      ]
    },
    {
      "cell_type": "code",
      "metadata": {
        "id": "Fo7y5ks_meyU"
      },
      "source": [
        "df = pd.DataFrame(data=Y_pred, columns=[\"p\"])\n",
        "df[\"a\"]=Y_Test"
      ],
      "execution_count": 213,
      "outputs": []
    },
    {
      "cell_type": "code",
      "metadata": {
        "colab": {
          "base_uri": "https://localhost:8080/",
          "height": 359
        },
        "id": "7S3Usghgmsuj",
        "outputId": "775e1294-7b9e-4207-91fe-3f5cb5fd9e1f"
      },
      "source": [
        "df.head(10)"
      ],
      "execution_count": 214,
      "outputs": [
        {
          "output_type": "execute_result",
          "data": {
            "text/html": [
              "<div>\n",
              "<style scoped>\n",
              "    .dataframe tbody tr th:only-of-type {\n",
              "        vertical-align: middle;\n",
              "    }\n",
              "\n",
              "    .dataframe tbody tr th {\n",
              "        vertical-align: top;\n",
              "    }\n",
              "\n",
              "    .dataframe thead th {\n",
              "        text-align: right;\n",
              "    }\n",
              "</style>\n",
              "<table border=\"1\" class=\"dataframe\">\n",
              "  <thead>\n",
              "    <tr style=\"text-align: right;\">\n",
              "      <th></th>\n",
              "      <th>p</th>\n",
              "      <th>a</th>\n",
              "    </tr>\n",
              "  </thead>\n",
              "  <tbody>\n",
              "    <tr>\n",
              "      <th>0</th>\n",
              "      <td>-1.087975</td>\n",
              "      <td>-32</td>\n",
              "    </tr>\n",
              "    <tr>\n",
              "      <th>1</th>\n",
              "      <td>0.563889</td>\n",
              "      <td>1</td>\n",
              "    </tr>\n",
              "    <tr>\n",
              "      <th>2</th>\n",
              "      <td>-9.419170</td>\n",
              "      <td>-10</td>\n",
              "    </tr>\n",
              "    <tr>\n",
              "      <th>3</th>\n",
              "      <td>-13.922032</td>\n",
              "      <td>-10</td>\n",
              "    </tr>\n",
              "    <tr>\n",
              "      <th>4</th>\n",
              "      <td>-8.990098</td>\n",
              "      <td>-4</td>\n",
              "    </tr>\n",
              "    <tr>\n",
              "      <th>5</th>\n",
              "      <td>7.079346</td>\n",
              "      <td>9</td>\n",
              "    </tr>\n",
              "    <tr>\n",
              "      <th>6</th>\n",
              "      <td>7.508252</td>\n",
              "      <td>13</td>\n",
              "    </tr>\n",
              "    <tr>\n",
              "      <th>7</th>\n",
              "      <td>-23.210058</td>\n",
              "      <td>-22</td>\n",
              "    </tr>\n",
              "    <tr>\n",
              "      <th>8</th>\n",
              "      <td>-22.546630</td>\n",
              "      <td>-37</td>\n",
              "    </tr>\n",
              "    <tr>\n",
              "      <th>9</th>\n",
              "      <td>-6.024490</td>\n",
              "      <td>-5</td>\n",
              "    </tr>\n",
              "  </tbody>\n",
              "</table>\n",
              "</div>"
            ],
            "text/plain": [
              "           p   a\n",
              "0  -1.087975 -32\n",
              "1   0.563889   1\n",
              "2  -9.419170 -10\n",
              "3 -13.922032 -10\n",
              "4  -8.990098  -4\n",
              "5   7.079346   9\n",
              "6   7.508252  13\n",
              "7 -23.210058 -22\n",
              "8 -22.546630 -37\n",
              "9  -6.024490  -5"
            ]
          },
          "metadata": {
            "tags": []
          },
          "execution_count": 214
        }
      ]
    },
    {
      "cell_type": "code",
      "metadata": {
        "colab": {
          "base_uri": "https://localhost:8080/",
          "height": 296
        },
        "id": "4heKZ1oanRf3",
        "outputId": "08773276-4e17-4cc5-dc2b-02fdfaefec71"
      },
      "source": [
        "plt.plot(Y_Test, Y_pred, \"o\", color = 'r')\n",
        "plt.xlabel( 'Predictions')\n",
        "plt.ylabel('True')"
      ],
      "execution_count": 215,
      "outputs": [
        {
          "output_type": "execute_result",
          "data": {
            "text/plain": [
              "Text(0, 0.5, 'True')"
            ]
          },
          "metadata": {
            "tags": []
          },
          "execution_count": 215
        },
        {
          "output_type": "display_data",
          "data": {
            "image/png": "[encoded data removed]",
            "text/plain": [
              "<Figure size 432x288 with 1 Axes>"
            ]
          },
          "metadata": {
            "tags": [],
            "needs_background": "light"
          }
        }
      ]
    },
    {
      "cell_type": "code",
      "metadata": {
        "id": "aNnoP-tXngZP"
      },
      "source": [
        ""
      ],
      "execution_count": null,
      "outputs": []
    }
  ]
}