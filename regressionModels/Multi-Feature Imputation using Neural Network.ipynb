{
 "cells": [
  {
   "cell_type": "markdown",
   "metadata": {
    "id": "viVefdvcN69F"
   },
   "source": [
    "## IMPORT REQUIRED PACKAGES {-}\n",
    "\n",
    "\n",
    "\n",
    "\n",
    "\n",
    "\n",
    "\n"
   ]
  },
  {
   "cell_type": "code",
   "execution_count": 1,
   "metadata": {
    "id": "GtUemp3HN35X"
   },
   "outputs": [],
   "source": [
    "import numpy as np\n",
    "import pandas as pd\n",
    "import matplotlib.pyplot as plt\n",
    "from scipy import stats"
   ]
  },
  {
   "cell_type": "markdown",
   "metadata": {
    "id": "ysV7czsasUB_"
   },
   "source": [
    "## Preprocessing Data {-}\n",
    "\n",
    "- From the dataset choosen, it is clear that X1 to Z4 are the accelerometer readings and the remaining are categorical and are specific to the individual on which the accelerometer readings are taken like gender, age, etc. So, we decided to use a Deep Neural Network to predict the probable value to any of the X1 to Z4 variables based on the knowledge of training data. "
   ]
  },
  {
   "cell_type": "markdown",
   "metadata": {},
   "source": [
    "## ReadData & Preprocess {-}"
   ]
  },
  {
   "cell_type": "code",
   "execution_count": 65,
   "metadata": {
    "colab": {
     "base_uri": "https://localhost:8080/"
    },
    "id": "Kfr_R0iliFNE",
    "outputId": "eae079dc-c069-4dd7-b18f-3a68205ec1b4"
   },
   "outputs": [],
   "source": [
    "X=pd.read_csv('/Users/harsha/Desktop/myProjects/Fall2020-Local/ML/CS536FinalProject/ML-FinalProject/Datasets/Train_data.csv', encoding = 'ISO-8859-1')\n",
    "selFeat=['x1', 'y1', 'z1',\n",
    "       'x2', 'y2', 'z2', 'x3', 'y3', 'z3', 'x4', 'y4', 'z4']\n",
    "X=X[selFeat]\n",
    "Xarr=X.to_numpy()\n",
    "arr = np.random.binomial(1, 0.5, X.shape)\n",
    "indices=np.where(arr==0)\n",
    "Xtransformed=Xarr.astype('float')\n",
    "Xtransformed[indices]=np.nan\n",
    "XtransDataframe=pd.DataFrame(Xtransformed,columns=['x1', 'y1', 'z1',\n",
    "       'x2', 'y2', 'z2', 'x3', 'y3', 'z3', 'x4', 'y4', 'z4'])\n",
    "Xtrain = XtransDataframe\n",
    "ytrain=pd.DataFrame(Xarr,columns=['x1', 'y1', 'z1',\n",
    "       'x2', 'y2', 'z2', 'x3', 'y3', 'z3', 'x4', 'y4', 'z4'])\n",
    "Xtrain=Xtrain.to_numpy()\n",
    "ytrain=ytrain.to_numpy()\n",
    "Xtrain_orig_nan=Xtrain.copy()\n",
    "ytrain_orig_nan=ytrain.copy()\n",
    "X_train_nan=Xtrain_orig_nan[:99379,:].copy()\n",
    "X_test_nan=Xtrain_orig_nan[99380:132000,:].copy()\n",
    "X_val_nan=Xtrain_orig_nan[132001:132507,:].copy()\n",
    "Y_train_nan=ytrain_orig_nan[:99379,:].copy()\n",
    "Y_test_nan=ytrain_orig_nan[99380:132000,:].copy()\n",
    "Y_val_nan=ytrain_orig_nan[132001:132507,:].copy()\n",
    "X_train=X_train_nan.copy()\n",
    "X_test=X_test_nan.copy()\n",
    "X_val=X_val_nan.copy()\n",
    "Y_train=Y_train_nan.copy()\n",
    "Y_test=Y_test_nan.copy()\n",
    "Y_val=Y_val_nan.copy()\n",
    "\n",
    "col_mean = np.nanmean(X_train, axis=0)\n",
    "# print(col_mean)\n",
    "#Find indices that you need to replace\n",
    "inds = np.where(np.isnan(X_train))\n",
    "#Place column means in the indices. Align the arrays using take\n",
    "X_train[inds] = np.take(col_mean, inds[1])\n",
    "X_train[0]\n",
    "\n",
    "col_mean = np.nanmean(X_test, axis=0)\n",
    "# print(col_mean)\n",
    "#Find indices that you need to replace\n",
    "inds = np.where(np.isnan(X_test))\n",
    "#Place column means in the indices. Align the arrays using take\n",
    "X_test[inds] = np.take(col_mean, inds[1])\n",
    "# print(X_train)\n",
    "X_test[0]\n",
    "\n",
    "col_mean = np.nanmean(X_val, axis=0)\n",
    "# print(col_mean)\n",
    "#Find indices that you need to replace\n",
    "inds = np.where(np.isnan(X_val))\n",
    "#Place column means in the indices. Align the arrays using take\n",
    "X_val[inds] = np.take(col_mean, inds[1])\n",
    "# print(X_train)\n",
    "X_val[0]\n",
    "\n",
    "Y_train = Y_train.T.copy()\n",
    "Y_val = Y_val.T.copy()\n",
    "Y_test = Y_test.T.copy()"
   ]
  },
  {
   "cell_type": "markdown",
   "metadata": {},
   "source": [
    "## Model Description {-}\n",
    "### Input Space {-}\n",
    "- The Feature samples with 50% missing data filled as the column's mean<br>"
   ]
  },
  {
   "cell_type": "markdown",
   "metadata": {},
   "source": [
    "### Output Space {-}\n",
    "- The prediction for all the features close to true values"
   ]
  },
  {
   "cell_type": "markdown",
   "metadata": {},
   "source": [
    "### Algorithm {-}\n",
    "- We are using a Deep Neural Network which learns to impute all the features from X1 through Z4 (accelerometer readings).\n",
    "- We are training the Neural Network by passing X1 through Z4 (say, m samples) with few feature values being missed and the missed values are filled as mean of the column as the input.\n",
    "- One of the main reason to fill in mean values for missing values in the input stage for NN is to make it build a relation between the true value and mean value. We tried an experiment with zero as the replace value for missing data but as it would be same for every missing value, it is just tough for the neural net to make a relation between all zeros and individual true values and as expected the results were not that great. \n",
    "- The results are pretty fascinating when we used mean as the replace value.\n",
    "- The cost function is between the True Values of X1 through Z4 and the True values , mean of X1 through Z4 as explained above. For instance, Let's say we have 3 features a,b,c and for one sample if the feature 'a' has missing value, we fill that the a<sub>mean</sub> and compute <strong>Cost</strong> ((a<sub>mean</sub>,b,c),(a<sub>true</sub>,b,c).\n",
    "- We train the NN to minimise the cost."
   ]
  },
  {
   "cell_type": "markdown",
   "metadata": {},
   "source": [
    "## Deep Neural Network from Scratch {-}"
   ]
  },
  {
   "cell_type": "code",
   "execution_count": 66,
   "metadata": {},
   "outputs": [],
   "source": [
    "class DNN:\n",
    "\n",
    "    def createDNN(self, in_size, out_size, dims_hidden, out_type, initializer='random',\n",
    "                  seed=None, activation='relu', slopeLeakyRelu=0.1):\n",
    "        self.layer_dims = [in_size] + dims_hidden + [out_size]\n",
    "        self.W = {}\n",
    "        self.b = {}\n",
    "        self.activation = activation\n",
    "        self.leaky_relu_slope = slopeLeakyRelu\n",
    "        self.initializer = initializer\n",
    "        self.output_type = out_type\n",
    "\n",
    "        self.L = len(self.layer_dims) - 1\n",
    "\n",
    "        if seed != None:\n",
    "            np.random.seed(seed)\n",
    "\n",
    "        for i in range(self.L):\n",
    "            self.W[i + 1] = np.random.randn(self.layer_dims[i + 1], self.layer_dims[i])\n",
    "            self.b[i + 1] = np.zeros((self.layer_dims[i + 1], 1))\n",
    "\n",
    "        if self.initializer == 'he':\n",
    "            for i in range(self.L):\n",
    "                self.W[i + 1] = self.W[i + 1] * np.sqrt(2 / (self.layer_dims[i]))\n",
    "\n",
    "    def weightsSave(self):\n",
    "        return (self.W, self.b)\n",
    "\n",
    "    def weightsLoad(self, params):\n",
    "        self.W = params[0]\n",
    "        self.b = params[1]\n",
    "\n",
    "    ### Gradients for Various Activation types ###\n",
    "\n",
    "    def linear(self, X):\n",
    "        return X\n",
    "\n",
    "    def linear_grad(self, X):\n",
    "        return np.ones(shape=X.shape)\n",
    "\n",
    "    def relu(self, X):\n",
    "        return np.maximum(0, X)\n",
    "\n",
    "    def relu_grad(self, X):\n",
    "        return 1.0 * (X > 0)\n",
    "\n",
    "    def lrelu(self, X):\n",
    "        return np.where(X > 0, X, X * self.leaky_relu_slope)\n",
    "\n",
    "    def lrelu_grad(self, X):\n",
    "        return np.where(X > 0, 1, self.leaky_relu_slope)\n",
    "\n",
    "    def softmax(self, X):\n",
    "        exps = np.exp(X - np.max(X))\n",
    "        return exps / np.sum(exps, axis=0)\n",
    "\n",
    "    def convertToOneHot(self, X):\n",
    "        a = np.argmax(X, axis=0)\n",
    "        b = np.zeros((X.shape[0], a.size))\n",
    "        b[a, np.arange(a.size)] = 1\n",
    "        return b\n",
    "\n",
    "    def accuracy(self, Y_pred, Y_true):\n",
    "        a = np.argmax(Y_pred, axis=0)\n",
    "        b = np.argmax(Y_true, axis=0)\n",
    "\n",
    "        correct = np.sum((a == b) * 1)\n",
    "        total = a.size\n",
    "\n",
    "        return correct / total\n",
    "\n",
    "    def forwardProp(self, X, dropout=False):\n",
    "        self.Z = {}\n",
    "        self.A = {}\n",
    "\n",
    "        self.A[0] = X\n",
    "\n",
    "        for i in range(len(self.layer_dims) - 2):\n",
    "            self.Z[i + 1] = np.matmul(self.W[i + 1], self.A[i]) + self.b[i + 1]\n",
    "            _ = \"self.A[i+1] = self.\" + self.activation + \"(self.Z[i+1])\"\n",
    "            exec(_)\n",
    "\n",
    "            if dropout == True:\n",
    "                self.A[i + 1] *= (\n",
    "                        (np.random.rand(self.A[i + 1].shape[0], self.A[i + 1].shape[1]) < self.keep_probs[i]) * 1)\n",
    "                self.A[i + 1].reshape(1, -1)\n",
    "                self.A[i + 1] /= self.keep_probs[i]\n",
    "\n",
    "        self.Z[self.L] = np.matmul(self.W[self.L], self.A[len(self.layer_dims) - 2]) + self.b[self.L]\n",
    "\n",
    "        if self.output_type == 'classification':\n",
    "            self.A[self.L] = self.softmax(self.Z[self.L])\n",
    "\n",
    "        elif self.output_type == 'regression':\n",
    "            self.A[self.L] = self.Z[self.L]\n",
    "\n",
    "        return self.A\n",
    "\n",
    "    def LossComputer(self, Y_pred, Y_true):\n",
    "        if self.output_type == 'classification':\n",
    "            cost = (1 / Y_true.shape[1]) * np.sum(-1 * Y_true * np.log(Y_pred))\n",
    "\n",
    "        else:\n",
    "            cost = (1 / (2 * Y_true.shape[1])) * np.sum((Y_pred - Y_true) ** 2)\n",
    "\n",
    "        sum = 0\n",
    "        for i in range(self.L):\n",
    "            sum += np.sum(self.W[i + 1] ** 2)\n",
    "        cost += ((1 / (2 * Y_true.shape[1])) * sum)\n",
    "\n",
    "        return cost\n",
    "\n",
    "    def backwardProp(self, Y):\n",
    "        self.dZ = {}\n",
    "        self.dA = {}\n",
    "        self.dW = {}\n",
    "        self.db = {}\n",
    "\n",
    "        self.dZ[self.L] = self.A[self.L] - Y\n",
    "\n",
    "        for i in range(self.L, 0, -1):\n",
    "\n",
    "            self.dW[i] = (1 / self.dZ[i].shape[1]) * np.matmul(self.dZ[i], self.A[i - 1].T)\n",
    "\n",
    "            if self.regularizer == 'l2':\n",
    "                self.dW[i] += self.regularizer_lambda * self.W[i]\n",
    "\n",
    "            self.db[i] = (1 / self.dZ[i].shape[1]) * np.sum(self.dZ[i], axis=1, keepdims=True)\n",
    "            _ = \"self.dZ[i-1] = np.matmul(self.W[i].T,self.dZ[i])*self.\" + self.activation + \"_grad(self.A[i-1])\"\n",
    "            exec(_)\n",
    "\n",
    "        return (self.dW, self.db)\n",
    "\n",
    "    def trainDNN(self, X_train, Y_train, X_val, Y_val, optim='adam', regularizer=None, regularizer_lambda=0.02,\n",
    "                 keep_probs=[], mini_batch_size=32, epochs=100, l_r=0.01, beta=0.9, beta1=0.9, beta2=0.99,\n",
    "                 print_loss_freq=100, plot_loss=True):\n",
    "\n",
    "        self.regularizer_lambda = regularizer_lambda\n",
    "        self.regularizer = regularizer\n",
    "\n",
    "        if keep_probs != []:\n",
    "            self.keep_probs = keep_probs\n",
    "        else:\n",
    "            self.keep_probs = [1] * (len(self.layer_dims) - 2)\n",
    "\n",
    "        self.print_loss_freq = print_loss_freq\n",
    "\n",
    "        self.Mw = {}\n",
    "        self.Mb = {}\n",
    "        self.Vw = {}\n",
    "        self.Vb = {}\n",
    "\n",
    "        for i in range(self.L):\n",
    "            self.Mw[i + 1] = np.zeros(shape=self.W[i + 1].shape)\n",
    "            self.Mb[i + 1] = np.zeros(shape=self.b[i + 1].shape)\n",
    "            self.Vw[i + 1] = np.zeros(shape=self.W[i + 1].shape)\n",
    "            self.Vb[i + 1] = np.zeros(shape=self.b[i + 1].shape)\n",
    "\n",
    "        train_cost = []\n",
    "        val_cost = []\n",
    "        train_acc = []\n",
    "        val_acc = []\n",
    "        m = X_train.shape[1]\n",
    "\n",
    "        drop = False\n",
    "        if (self.regularizer == 'dropout'):\n",
    "            drop = True\n",
    "\n",
    "        t = 1\n",
    "\n",
    "        for e in range(epochs):\n",
    "\n",
    "            mask = np.random.permutation(m)\n",
    "\n",
    "            X_train = X_train[:, mask]\n",
    "            Y_train = Y_train[:, mask]\n",
    "\n",
    "            for i in range(0, m, mini_batch_size):\n",
    "\n",
    "                _ = self.forwardProp(X_train[:, i:(i + mini_batch_size)], drop)\n",
    "                _ = self.backwardProp(Y_train[:, i:(i + mini_batch_size)])\n",
    "\n",
    "                for i in range(self.L):\n",
    "                    self.Mw[i + 1] = (beta1 * self.Mw[i + 1]) + (1 - beta1) * self.dW[i + 1]\n",
    "                    # self.Mw[i+1] /= (1-np.power(beta1,t))\n",
    "                    self.Mb[i + 1] = (beta1 * self.Mb[i + 1]) + (1 - beta1) * self.db[i + 1]\n",
    "                    # self.Mb[i+1] /= (1-np.power(beta1,t))\n",
    "\n",
    "                for i in range(self.L):\n",
    "                    self.Vw[i + 1] = (beta2 * self.Vw[i + 1]) + (1 - beta2) * (self.dW[i + 1] ** 2)\n",
    "                    # self.Vw[i+1] /= (1-np.power(beta2,t))\n",
    "                    self.Vb[i + 1] = (beta2 * self.Vb[i + 1]) + (1 - beta2) * (self.db[i + 1] ** 2)\n",
    "                    # self.Vb[i+1] /= (1-np.power(beta2,t))\n",
    "\n",
    "                t += 1\n",
    "\n",
    "                for i in range(self.L):\n",
    "                    self.W[i + 1] -= l_r * (self.Mw[i + 1] / (np.sqrt(self.Vw[i + 1]) + 10e-8))\n",
    "                    self.b[i + 1] -= l_r * (self.Mb[i + 1] / (np.sqrt(self.Vb[i + 1]) + 10e-8))\n",
    "\n",
    "            Y_pred_train = self.forwardProp(X_train)[self.L]\n",
    "            Y_pred_val = self.forwardProp(X_val)[self.L]\n",
    "\n",
    "            train_cost.append(self.LossComputer(Y_pred_train, Y_train))\n",
    "            val_cost.append(self.LossComputer(Y_pred_val, Y_val))\n",
    "\n",
    "            train_acc.append(self.accuracy(self.convertToOneHot(Y_pred_train), Y_train))\n",
    "            val_acc.append(self.accuracy(self.convertToOneHot(Y_pred_val), Y_val))\n",
    "\n",
    "            if (e + 1) % self.print_loss_freq == 0:\n",
    "                if self.output_type == 'classification':\n",
    "                    print(\"After \" + str(e + 1) + \" epochs :    Training Loss = \" + str(train_cost[e]) +\n",
    "                          \"    Validation Loss = \" + str(val_cost[e]) + \"\\n\\n\\t\\t \" +\n",
    "                          \"    Training Accuracy = \" + str(train_acc[e]) +\n",
    "                          \"    Validation Accuracy = \" + str(val_acc[e]) + '\\n')\n",
    "                else:\n",
    "                    print(\"After \" + str(e + 1) + \" epochs :    Training Loss = \" + str(train_cost[e]) +\n",
    "                          \"    Validation Loss = \" + str(val_cost[e]) + '\\n')\n",
    "\n",
    "        if plot_loss == True:\n",
    "\n",
    "            r = list(range(1, epochs + 1))\n",
    "            plt.plot(r, train_cost, 'r', label=\"Training Loss\")\n",
    "            plt.plot(r, val_cost, 'b', label=\"Validation Loss\")\n",
    "            plt.xlabel('Epochs')\n",
    "            if self.output_type == 'regression':\n",
    "                plt.ylabel('L2 Loss')\n",
    "            else:\n",
    "                plt.ylabel('Categorical Cross Entropy Loss')\n",
    "            plt.legend()\n",
    "            plt.show()\n",
    "\n",
    "            print(\"\\nTraining Loss : \", train_cost[-1])\n",
    "            print(\"\\nValidation Loss : \", val_cost[-1])\n",
    "\n",
    "            if self.output_type == 'classification':\n",
    "                print(\"\\nTraining Accuracy : \", train_acc[-1])\n",
    "                print(\"\\nValidation Accuracy : \", val_acc[-1])\n",
    "\n",
    "        return (train_cost, val_cost, train_acc, val_acc)\n",
    "\n",
    "    def predict(self, X):\n",
    "        A = self.forwardProp(X)\n",
    "\n",
    "        if self.output_type == 'regression':\n",
    "            return A[self.L]\n",
    "        else:\n",
    "            return self.convertToOneHot(A[self.L])"
   ]
  },
  {
   "cell_type": "markdown",
   "metadata": {},
   "source": [
    "## Training the Neural Network to learn Multi-Imputation {-}"
   ]
  },
  {
   "cell_type": "code",
   "execution_count": 67,
   "metadata": {
    "colab": {
     "base_uri": "https://localhost:8080/",
     "height": 517
    },
    "id": "IlL1ndJdxutV",
    "outputId": "2bb045fb-119d-414e-ccc1-dfcb40d7c42c"
   },
   "outputs": [
    {
     "name": "stdout",
     "output_type": "stream",
     "text": [
      "After 10 epochs :    Training Loss = 9911.524261425073    Validation Loss = 12833.884764695846\n",
      "\n",
      "After 20 epochs :    Training Loss = 10191.511525432954    Validation Loss = 13149.715980385223\n",
      "\n",
      "After 30 epochs :    Training Loss = 9372.734803276944    Validation Loss = 12653.52291936679\n",
      "\n"
     ]
    },
    {
     "data": {
      "image/png": "[encoded data removed]",
      "text/plain": [
       "<Figure size 432x288 with 1 Axes>"
      ]
     },
     "metadata": {
      "needs_background": "light"
     },
     "output_type": "display_data"
    },
    {
     "name": "stdout",
     "output_type": "stream",
     "text": [
      "\n",
      "Training Loss :  9372.734803276944\n",
      "\n",
      "Validation Loss :  12653.52291936679\n"
     ]
    }
   ],
   "source": [
    "# Define and train the Deep Neural Network.\n",
    "MutiValueImputer = DNN()\n",
    "\n",
    "MutiValueImputer.createDNN(12, 12, [120, 120, 120], out_type='regression', activation='relu', initializer='he')\n",
    "\n",
    "costs = MutiValueImputer.trainDNN(X_train.T, Y_train, X_val.T, Y_val, optim='adam', regularizer='l2',\n",
    "                       regularizer_lambda=0.1, mini_batch_size=50, epochs=30, print_loss_freq=10,\n",
    "                       l_r=0.02)\n"
   ]
  },
  {
   "cell_type": "markdown",
   "metadata": {},
   "source": [
    "## Validation {-}"
   ]
  },
  {
   "cell_type": "code",
   "execution_count": 68,
   "metadata": {
    "id": "n6yomL6R3J6j"
   },
   "outputs": [],
   "source": [
    "X_Val=pd.read_csv('/Users/harsha/Desktop/myProjects/Fall2020-Local/ML/CS536FinalProject/ML-FinalProject/Datasets/Test_data.csv', encoding = 'ISO-8859-1')\n",
    "selFeat=['x1', 'y1', 'z1',\n",
    "       'x2', 'y2', 'z2', 'x3', 'y3', 'z3', 'x4', 'y4', 'z4']\n",
    "X_Val=X_Val[selFeat]\n",
    "Xarr_val=X_Val.to_numpy()\n",
    "arr = np.random.binomial(1, 0.5, Xarr_val.shape)\n",
    "indices=np.where(arr==0)\n",
    "trueVals=Xarr_val[indices]\n",
    "Xtransformed=Xarr_val.astype('float')\n",
    "Xtransformed[indices]=np.nan\n",
    "Xtest=Xtransformed.copy()\n",
    "col_mean = np.nanmean(Xtest, axis=0)\n",
    "#Find indices that you need to replace\n",
    "inds = np.where(np.isnan(Xtest))\n",
    "#Place column means in the indices. Align the arrays using take\n",
    "Xtest[inds] = np.take(col_mean, inds[1])"
   ]
  },
  {
   "cell_type": "markdown",
   "metadata": {},
   "source": [
    "## Predictions & Analyse {-}"
   ]
  },
  {
   "cell_type": "code",
   "execution_count": 46,
   "metadata": {},
   "outputs": [
    {
     "data": {
      "text/html": [
       "<div>\n",
       "<style scoped>\n",
       "    .dataframe tbody tr th:only-of-type {\n",
       "        vertical-align: middle;\n",
       "    }\n",
       "\n",
       "    .dataframe tbody tr th {\n",
       "        vertical-align: top;\n",
       "    }\n",
       "\n",
       "    .dataframe thead th {\n",
       "        text-align: right;\n",
       "    }\n",
       "</style>\n",
       "<table border=\"1\" class=\"dataframe\">\n",
       "  <thead>\n",
       "    <tr style=\"text-align: right;\">\n",
       "      <th></th>\n",
       "      <th>Predicted Val</th>\n",
       "      <th>Original Val of the Feature</th>\n",
       "      <th>Mean Val of the Feature</th>\n",
       "    </tr>\n",
       "  </thead>\n",
       "  <tbody>\n",
       "    <tr>\n",
       "      <th>0</th>\n",
       "      <td>-8.612423</td>\n",
       "      <td>-4</td>\n",
       "      <td>-6.725803</td>\n",
       "    </tr>\n",
       "    <tr>\n",
       "      <th>1</th>\n",
       "      <td>74.197810</td>\n",
       "      <td>54</td>\n",
       "      <td>-52.263846</td>\n",
       "    </tr>\n",
       "    <tr>\n",
       "      <th>2</th>\n",
       "      <td>110.164674</td>\n",
       "      <td>108</td>\n",
       "      <td>104.492345</td>\n",
       "    </tr>\n",
       "    <tr>\n",
       "      <th>3</th>\n",
       "      <td>-88.655479</td>\n",
       "      <td>-100</td>\n",
       "      <td>-93.828440</td>\n",
       "    </tr>\n",
       "    <tr>\n",
       "      <th>4</th>\n",
       "      <td>-159.369885</td>\n",
       "      <td>-178</td>\n",
       "      <td>-159.575381</td>\n",
       "    </tr>\n",
       "    <tr>\n",
       "      <th>5</th>\n",
       "      <td>-9.793653</td>\n",
       "      <td>-14</td>\n",
       "      <td>-6.725803</td>\n",
       "    </tr>\n",
       "    <tr>\n",
       "      <th>6</th>\n",
       "      <td>-453.605029</td>\n",
       "      <td>-492</td>\n",
       "      <td>-87.059384</td>\n",
       "    </tr>\n",
       "    <tr>\n",
       "      <th>7</th>\n",
       "      <td>-485.116175</td>\n",
       "      <td>-516</td>\n",
       "      <td>-52.263846</td>\n",
       "    </tr>\n",
       "    <tr>\n",
       "      <th>8</th>\n",
       "      <td>-179.588697</td>\n",
       "      <td>-187</td>\n",
       "      <td>-167.516708</td>\n",
       "    </tr>\n",
       "    <tr>\n",
       "      <th>9</th>\n",
       "      <td>-168.548464</td>\n",
       "      <td>-173</td>\n",
       "      <td>-159.575381</td>\n",
       "    </tr>\n",
       "    <tr>\n",
       "      <th>10</th>\n",
       "      <td>-14.424009</td>\n",
       "      <td>-1</td>\n",
       "      <td>-6.725803</td>\n",
       "    </tr>\n",
       "    <tr>\n",
       "      <th>11</th>\n",
       "      <td>-99.984926</td>\n",
       "      <td>-66</td>\n",
       "      <td>-93.488357</td>\n",
       "    </tr>\n",
       "    <tr>\n",
       "      <th>12</th>\n",
       "      <td>-22.788364</td>\n",
       "      <td>-3</td>\n",
       "      <td>-52.263846</td>\n",
       "    </tr>\n",
       "    <tr>\n",
       "      <th>13</th>\n",
       "      <td>-39.012108</td>\n",
       "      <td>85</td>\n",
       "      <td>17.668908</td>\n",
       "    </tr>\n",
       "    <tr>\n",
       "      <th>14</th>\n",
       "      <td>-138.521168</td>\n",
       "      <td>-141</td>\n",
       "      <td>-159.575381</td>\n",
       "    </tr>\n",
       "    <tr>\n",
       "      <th>15</th>\n",
       "      <td>-57.738115</td>\n",
       "      <td>-33</td>\n",
       "      <td>-87.059384</td>\n",
       "    </tr>\n",
       "    <tr>\n",
       "      <th>16</th>\n",
       "      <td>-29.399960</td>\n",
       "      <td>-21</td>\n",
       "      <td>-52.263846</td>\n",
       "    </tr>\n",
       "    <tr>\n",
       "      <th>17</th>\n",
       "      <td>-126.013215</td>\n",
       "      <td>-23</td>\n",
       "      <td>-176.252220</td>\n",
       "    </tr>\n",
       "    <tr>\n",
       "      <th>18</th>\n",
       "      <td>53.073140</td>\n",
       "      <td>62</td>\n",
       "      <td>104.492345</td>\n",
       "    </tr>\n",
       "    <tr>\n",
       "      <th>19</th>\n",
       "      <td>-105.949529</td>\n",
       "      <td>-109</td>\n",
       "      <td>-93.828440</td>\n",
       "    </tr>\n",
       "  </tbody>\n",
       "</table>\n",
       "</div>"
      ],
      "text/plain": [
       "    Predicted Val  Original Val of the Feature  Mean Val of the Feature\n",
       "0       -8.612423                           -4                -6.725803\n",
       "1       74.197810                           54               -52.263846\n",
       "2      110.164674                          108               104.492345\n",
       "3      -88.655479                         -100               -93.828440\n",
       "4     -159.369885                         -178              -159.575381\n",
       "5       -9.793653                          -14                -6.725803\n",
       "6     -453.605029                         -492               -87.059384\n",
       "7     -485.116175                         -516               -52.263846\n",
       "8     -179.588697                         -187              -167.516708\n",
       "9     -168.548464                         -173              -159.575381\n",
       "10     -14.424009                           -1                -6.725803\n",
       "11     -99.984926                          -66               -93.488357\n",
       "12     -22.788364                           -3               -52.263846\n",
       "13     -39.012108                           85                17.668908\n",
       "14    -138.521168                         -141              -159.575381\n",
       "15     -57.738115                          -33               -87.059384\n",
       "16     -29.399960                          -21               -52.263846\n",
       "17    -126.013215                          -23              -176.252220\n",
       "18      53.073140                           62               104.492345\n",
       "19    -105.949529                         -109               -93.828440"
      ]
     },
     "execution_count": 46,
     "metadata": {},
     "output_type": "execute_result"
    }
   ],
   "source": [
    "yPredict = MutiValueImputer.predict(Xtest.T)\n",
    "yPredict=yPredict.T\n",
    "predict=yPredict[indices]\n",
    "means=Xtest[indices]\n",
    "df = pd.DataFrame(data=predict, columns=[\"Predicted Val\"])\n",
    "df[\"Original Val of the Feature\"]=trueVals\n",
    "df[\"Mean Val of the Feature\"]=Xtest[indices]\n",
    "df.head(20)"
   ]
  },
  {
   "cell_type": "markdown",
   "metadata": {},
   "source": [
    "## Important Notes {-}\n",
    "- The results are pretty fascinating as we can see above although we passed in mean value for the missing value, The imputed value is super close to true value.\n",
    "- Below we measured the accuracy in terms of score, where score 0 is best and 1 is worse\n",
    "- Our Neural Net model could give a score of <strong>0.15</strong>\n",
    "- Basic Completion agent (filling missed values with mean) gives a score of <strong>0.55</strong>, which is not great."
   ]
  },
  {
   "cell_type": "markdown",
   "metadata": {},
   "source": [
    "## Score between Original Val vs Predicted Val {-}"
   ]
  },
  {
   "cell_type": "code",
   "execution_count": 47,
   "metadata": {},
   "outputs": [
    {
     "data": {
      "text/plain": [
       "0.1587487400975421"
      ]
     },
     "execution_count": 47,
     "metadata": {},
     "output_type": "execute_result"
    }
   ],
   "source": [
    "score = (((trueVals - predict) ** 2).sum() / ((trueVals - trueVals.mean()) ** 2).sum())\n",
    "score"
   ]
  },
  {
   "cell_type": "markdown",
   "metadata": {},
   "source": [
    "## Score between Original Val vs Mean Val {-}"
   ]
  },
  {
   "cell_type": "code",
   "execution_count": 48,
   "metadata": {},
   "outputs": [
    {
     "data": {
      "text/plain": [
       "0.552920214301927"
      ]
     },
     "execution_count": 48,
     "metadata": {},
     "output_type": "execute_result"
    }
   ],
   "source": [
    "score = (((trueVals - means) ** 2).sum() / ((trueVals - trueVals.mean()) ** 2).sum())\n",
    "score"
   ]
  },
  {
   "cell_type": "markdown",
   "metadata": {},
   "source": [
    "## Training the Neural Network to Classify the data points {-}\n",
    "- PsuedoCode:\n",
    "    1. Train a Neural Network on train data to classify the 5 classes -> Sitting, Standing, Walking, Sitting Down, Standing Up\n",
    "    2. We read the test data and create a missing value (with missing values filled as mean value of the column) dataset out of that\n",
    "    3. Use the Multiple Imputation model that we trained above to impute missing values from a test dataset\n",
    "    4. Use the classifier network to classify authentic dataset and as well as Imputed value dataset\n",
    "    5. Compare both the predictions and the expectation is we need to see almost same classification accuracy.\n",
    "    "
   ]
  },
  {
   "cell_type": "markdown",
   "metadata": {},
   "source": [
    "## Read the Train Data for Neural Network Classifier {-}"
   ]
  },
  {
   "cell_type": "code",
   "execution_count": 186,
   "metadata": {},
   "outputs": [],
   "source": [
    "X=pd.read_csv('/Users/harsha/Desktop/myProjects/Fall2020-Local/ML/CS536FinalProject/ML-FinalProject/Datasets/Train_data.csv', encoding = 'ISO-8859-1')\n",
    "#X.head(1)\n",
    "X.loc[(X.class_sitting == 1),'class_sitting']=1\n",
    "X.loc[(X.class_sittingdown == 1),'class_sittingdown']=2\n",
    "X.loc[(X.class_standing == 1),'class_standing']=3\n",
    "X.loc[(X.class_standingup == 1),'class_standingup']=4\n",
    "X.loc[(X.class_walking == 1),'class_walking']=5\n",
    "X['class'] = X['class_sitting'] + X['class_sittingdown']+X['class_standing']+X['class_standingup']+X['class_walking']\n",
    "X.drop(['class_sitting', 'class_sittingdown', 'class_standing',\n",
    "       'class_standingup', 'class_walking'], axis=1, inplace=True)\n",
    "X['class']=X['class'] - 1\n",
    "selFeat=['age', 'how_tall_in_meters', 'weight', 'body_mass_index', 'y1', 'z1',\n",
    "       'x2', 'y2', 'z2', 'x3', 'y3', 'z3', 'x4', 'y4', 'z4', 'user_debora',\n",
    "       'user_katia', 'user_wallace', 'user_jose_carlos', 'gender_Woman',\n",
    "       'gender_Man', 'x1']\n",
    "Xtrain = X[selFeat]\n",
    "ytrain = X['class']\n",
    "Xtrain=Xtrain.to_numpy().copy()\n",
    "ytrain=ytrain.to_numpy().copy()\n",
    "# X_train=Xtrain[:99379,:].copy()\n",
    "# X_test=Xtrain[99380:132000,:].copy()\n",
    "# X_val=Xtrain[132001:132507,:].copy()\n",
    "# Y_train=ytrain[:99379].copy()\n",
    "# Y_test=ytrain[99380:132000].copy()\n",
    "# Y_val=ytrain[132001:132507].copy()\n",
    "X, X_test, Y, Y_test = train_test_split(Xtrain, ytrain, test_size = 0.25)\n",
    "X_train,X_val,Y_train,Y_val = train_test_split(X,Y,test_size=0.01)"
   ]
  },
  {
   "cell_type": "code",
   "execution_count": 187,
   "metadata": {},
   "outputs": [],
   "source": [
    "from sklearn.model_selection import train_test_split\n",
    "from tensorflow.keras.utils import to_categorical\n",
    "Y_train = to_categorical(Y_train).T\n",
    "X_train =(X_train.T-np.mean(X_train.T,axis=0))/np.std(X_train.T,axis=0)\n",
    "Y_val = to_categorical(Y_val).T\n",
    "X_val =(X_val.T-np.mean(X_val.T,axis=0))/np.std(X_val.T,axis=0)\n",
    "Y_test = to_categorical(Y_test).T\n",
    "X_test =(X_test.T-np.mean(X_test.T,axis=0))/np.std(X_test.T,axis=0)"
   ]
  },
  {
   "cell_type": "code",
   "execution_count": 131,
   "metadata": {},
   "outputs": [
    {
     "data": {
      "text/plain": [
       "((5, 98385), (22, 98385))"
      ]
     },
     "execution_count": 131,
     "metadata": {},
     "output_type": "execute_result"
    }
   ],
   "source": [
    "Y_train.shape, X_train.shape"
   ]
  },
  {
   "cell_type": "markdown",
   "metadata": {},
   "source": [
    "## Training a Classification Network {-}"
   ]
  },
  {
   "cell_type": "code",
   "execution_count": 132,
   "metadata": {},
   "outputs": [
    {
     "name": "stdout",
     "output_type": "stream",
     "text": [
      "After 5 epochs :    Training Loss = 0.2659053645585235    Validation Loss = 1.1069713153538339\n",
      "\n",
      "\t\t     Training Accuracy = 0.9109315444427504    Validation Accuracy = 0.9074446680080482\n",
      "\n"
     ]
    },
    {
     "data": {
      "image/png": "[encoded data removed]",
      "text/plain": [
       "<Figure size 432x288 with 1 Axes>"
      ]
     },
     "metadata": {
      "needs_background": "light"
     },
     "output_type": "display_data"
    },
    {
     "name": "stdout",
     "output_type": "stream",
     "text": [
      "\n",
      "Training Loss :  0.2659053645585235\n",
      "\n",
      "Validation Loss :  1.1069713153538339\n",
      "\n",
      "Training Accuracy :  0.9109315444427504\n",
      "\n",
      "Validation Accuracy :  0.9074446680080482\n"
     ]
    }
   ],
   "source": [
    "# Define and train the Deep Neural Network.\n",
    "ClassificationNet = DNN()\n",
    "ClassificationNet.createDNN(22, 5, [800], out_type='classification', activation='lrelu', initializer='he',\n",
    "                slopeLeakyRelu=0.1)\n",
    "\n",
    "costs = ClassificationNet.trainDNN(X_train, Y_train, X_val, Y_val, optim='adam', regularizer='dropout', keep_probs=[0.75],\n",
    "                       mini_batch_size=128, epochs=5, print_loss_freq=5, l_r=0.0002)"
   ]
  },
  {
   "cell_type": "markdown",
   "metadata": {},
   "source": [
    "## Evaluation {-}\n",
    "- Read Test Data\n",
    "- Get X1 to Z4 data\n",
    "- Randomly nan it\n",
    "- Impute the nan by above multi Imputer\n",
    "- Replace the columns of original dataset and create a new comparision dataset\n",
    "- Run prediction on both"
   ]
  },
  {
   "cell_type": "markdown",
   "metadata": {},
   "source": [
    "## Read the Test Data {-}"
   ]
  },
  {
   "cell_type": "code",
   "execution_count": 416,
   "metadata": {},
   "outputs": [],
   "source": [
    "X_Val=pd.read_csv('/Users/harsha/Desktop/myProjects/Fall2020-Local/ML/CS536FinalProject/ML-FinalProject/Datasets/Test_data.csv', encoding = 'ISO-8859-1')\n",
    "selFeat=['x1', 'y1', 'z1',\n",
    "       'x2', 'y2', 'z2', 'x3', 'y3', 'z3', 'x4', 'y4', 'z4']\n",
    "X_Val=X_Val[selFeat]\n",
    "Xarr_val=X_Val.to_numpy()\n",
    "arr = np.random.binomial(1, 0.8, Xarr_val.shape)\n",
    "indices=np.where(arr==0)\n",
    "trueVals=Xarr_val[indices]\n",
    "Xtransformed=Xarr_val.astype('float')\n",
    "Xtransformed[indices]=np.nan\n",
    "Xtest=Xtransformed.copy()\n",
    "col_mean = np.nanmean(Xtest, axis=0)\n",
    "#Find indices that you need to replace\n",
    "inds = np.where(np.isnan(Xtest))\n",
    "#Place column means in the indices. Align the arrays using take\n",
    "Xtest[inds] = np.take(col_mean, inds[1])"
   ]
  },
  {
   "cell_type": "markdown",
   "metadata": {},
   "source": [
    "## Using MultiValueImputer imputing values {-}\n",
    "- Note: The MultiValueImputer values are is the <strong>generated realistic data</strong> for the missing values"
   ]
  },
  {
   "cell_type": "code",
   "execution_count": 417,
   "metadata": {},
   "outputs": [],
   "source": [
    "Features_Predict = MutiValueImputer.predict(Xtest.T).T"
   ]
  },
  {
   "cell_type": "code",
   "execution_count": 419,
   "metadata": {},
   "outputs": [
    {
     "data": {
      "text/plain": [
       "array([  -7.96601908,   92.06577922,  -90.0087814 ,    1.98002791,\n",
       "         65.09706742,  -96.56342241,   19.86538019,   93.39111694,\n",
       "        -86.04187349, -159.80602324,  -91.7844986 , -154.57594403])"
      ]
     },
     "execution_count": 419,
     "metadata": {},
     "output_type": "execute_result"
    }
   ],
   "source": [
    "Features_Predict[0]"
   ]
  },
  {
   "cell_type": "code",
   "execution_count": 420,
   "metadata": {},
   "outputs": [],
   "source": [
    "Xarr_val=Xarr_val.astype(float)"
   ]
  },
  {
   "cell_type": "code",
   "execution_count": 421,
   "metadata": {},
   "outputs": [],
   "source": [
    "Xarr_val[indices]=Features_Predict[indices]"
   ]
  },
  {
   "cell_type": "code",
   "execution_count": 422,
   "metadata": {},
   "outputs": [],
   "source": [
    "Features_Predict=Xarr_val"
   ]
  },
  {
   "cell_type": "code",
   "execution_count": 423,
   "metadata": {},
   "outputs": [
    {
     "data": {
      "text/plain": [
       "array([  -4.        ,   80.        ,  -82.        ,    0.        ,\n",
       "         54.        , -132.        ,   21.        ,  108.        ,\n",
       "       -100.        , -159.80602324,  -91.        , -178.        ])"
      ]
     },
     "execution_count": 423,
     "metadata": {},
     "output_type": "execute_result"
    }
   ],
   "source": [
    "Features_Predict[0]"
   ]
  },
  {
   "cell_type": "code",
   "execution_count": 424,
   "metadata": {},
   "outputs": [],
   "source": [
    "Features_Predict=pd.DataFrame(Features_Predict,columns=['x1', 'y1', 'z1','x2', 'y2', 'z2', 'x3', 'y3', 'z3', 'x4', 'y4', 'z4'])"
   ]
  },
  {
   "cell_type": "markdown",
   "metadata": {},
   "source": [
    "## Original Test Data Features"
   ]
  },
  {
   "cell_type": "code",
   "execution_count": 425,
   "metadata": {},
   "outputs": [],
   "source": [
    "X=pd.read_csv('/Users/harsha/Desktop/myProjects/Fall2020-Local/ML/CS536FinalProject/ML-FinalProject/Datasets/Test_data.csv', encoding = 'ISO-8859-1')\n",
    "#X.head(1)\n",
    "X.loc[(X.class_sitting == 1),'class_sitting']=1\n",
    "X.loc[(X.class_sittingdown == 1),'class_sittingdown']=2\n",
    "X.loc[(X.class_standing == 1),'class_standing']=3\n",
    "X.loc[(X.class_standingup == 1),'class_standingup']=4\n",
    "X.loc[(X.class_walking == 1),'class_walking']=5\n",
    "X['class'] = X['class_sitting'] + X['class_sittingdown']+X['class_standing']+X['class_standingup']+X['class_walking']\n",
    "X.drop(['class_sitting', 'class_sittingdown', 'class_standing',\n",
    "       'class_standingup', 'class_walking'], axis=1, inplace=True)\n",
    "X['class']=X['class'] - 1\n",
    "selFeat=['age', 'how_tall_in_meters', 'weight', 'body_mass_index', 'y1', 'z1',\n",
    "       'x2', 'y2', 'z2', 'x3', 'y3', 'z3', 'x4', 'y4', 'z4', 'user_debora',\n",
    "       'user_katia', 'user_wallace', 'user_jose_carlos', 'gender_Woman',\n",
    "       'gender_Man', 'x1']\n",
    "Xtest = X[selFeat]\n",
    "ytest = X['class']"
   ]
  },
  {
   "cell_type": "markdown",
   "metadata": {},
   "source": [
    "## Replacing X1 though Z4 with predicted values and creating a comparision dataset"
   ]
  },
  {
   "cell_type": "code",
   "execution_count": 426,
   "metadata": {},
   "outputs": [],
   "source": [
    "XComparision=Xtest.copy()"
   ]
  },
  {
   "cell_type": "code",
   "execution_count": 427,
   "metadata": {},
   "outputs": [],
   "source": [
    "XComparision[['x1', 'y1', 'z1','x2', 'y2', 'z2', 'x3', 'y3', 'z3', 'x4', 'y4', 'z4']]=Features_Predict[['x1', 'y1', 'z1','x2', 'y2', 'z2', 'x3', 'y3', 'z3', 'x4', 'y4', 'z4']]"
   ]
  },
  {
   "cell_type": "markdown",
   "metadata": {},
   "source": [
    "## Evaluating on Original Dataset"
   ]
  },
  {
   "cell_type": "code",
   "execution_count": 428,
   "metadata": {},
   "outputs": [],
   "source": [
    "XComparision=XComparision.to_numpy().astype(float).copy()"
   ]
  },
  {
   "cell_type": "code",
   "execution_count": 429,
   "metadata": {},
   "outputs": [],
   "source": [
    "Xtest=Xtest.to_numpy().astype(float).copy()"
   ]
  },
  {
   "cell_type": "code",
   "execution_count": 430,
   "metadata": {},
   "outputs": [
    {
     "data": {
      "text/plain": [
       "(33127, 22)"
      ]
     },
     "execution_count": 430,
     "metadata": {},
     "output_type": "execute_result"
    }
   ],
   "source": [
    "Xtest.shape"
   ]
  },
  {
   "cell_type": "code",
   "execution_count": 431,
   "metadata": {},
   "outputs": [
    {
     "data": {
      "text/plain": [
       "array([  46.        ,  162.        ,   75.        ,   28.6       ,\n",
       "         80.        ,  -82.        ,    0.        ,   54.        ,\n",
       "       -132.        ,   21.        ,  108.        , -100.        ,\n",
       "       -159.80602324,  -91.        , -178.        ,    1.        ,\n",
       "          0.        ,    0.        ,    0.        ,    1.        ,\n",
       "          0.        ,   -4.        ])"
      ]
     },
     "execution_count": 431,
     "metadata": {},
     "output_type": "execute_result"
    }
   ],
   "source": [
    "XComparision[0]"
   ]
  },
  {
   "cell_type": "code",
   "execution_count": 432,
   "metadata": {},
   "outputs": [
    {
     "data": {
      "text/plain": [
       "array([  46. ,  162. ,   75. ,   28.6,   80. ,  -82. ,    0. ,   54. ,\n",
       "       -132. ,   21. ,  108. , -100. , -179. ,  -91. , -178. ,    1. ,\n",
       "          0. ,    0. ,    0. ,    1. ,    0. ,   -4. ])"
      ]
     },
     "execution_count": 432,
     "metadata": {},
     "output_type": "execute_result"
    }
   ],
   "source": [
    "Xtest[0]"
   ]
  },
  {
   "cell_type": "code",
   "execution_count": 433,
   "metadata": {},
   "outputs": [],
   "source": [
    "Xtest =(Xtest.T-np.mean(Xtest.T,axis=0))/np.std(Xtest.T,axis=0)"
   ]
  },
  {
   "cell_type": "code",
   "execution_count": 434,
   "metadata": {},
   "outputs": [
    {
     "data": {
      "text/plain": [
       "(22, 33127)"
      ]
     },
     "execution_count": 434,
     "metadata": {},
     "output_type": "execute_result"
    }
   ],
   "source": [
    "Xtest.shape"
   ]
  },
  {
   "cell_type": "code",
   "execution_count": 435,
   "metadata": {},
   "outputs": [],
   "source": [
    "Y_pred = ClassificationNet.predict(Xtest)"
   ]
  },
  {
   "cell_type": "code",
   "execution_count": 436,
   "metadata": {},
   "outputs": [
    {
     "data": {
      "text/plain": [
       "(5, 33127)"
      ]
     },
     "execution_count": 436,
     "metadata": {},
     "output_type": "execute_result"
    }
   ],
   "source": [
    "Y_pred.shape"
   ]
  },
  {
   "cell_type": "code",
   "execution_count": 437,
   "metadata": {},
   "outputs": [],
   "source": [
    "ytest = to_categorical(ytest).T"
   ]
  },
  {
   "cell_type": "code",
   "execution_count": 438,
   "metadata": {},
   "outputs": [
    {
     "data": {
      "text/plain": [
       "(5, 33127)"
      ]
     },
     "execution_count": 438,
     "metadata": {},
     "output_type": "execute_result"
    }
   ],
   "source": [
    "ytest.shape"
   ]
  },
  {
   "cell_type": "code",
   "execution_count": 440,
   "metadata": {},
   "outputs": [
    {
     "name": "stdout",
     "output_type": "stream",
     "text": [
      "Accuracy yield on Original Data:  90.65 %\n"
     ]
    }
   ],
   "source": [
    "print(\"Accuracy yield on Original Data: \",np.round(ClassificationNet.accuracy(Y_pred,ytest)*100,2),\"%\")"
   ]
  },
  {
   "cell_type": "markdown",
   "metadata": {},
   "source": [
    "## Testing on Missing Value Imputed Data"
   ]
  },
  {
   "cell_type": "code",
   "execution_count": 441,
   "metadata": {},
   "outputs": [],
   "source": [
    "XComparision =(XComparision.T-np.mean(XComparision.T,axis=0))/np.std(XComparision.T,axis=0)"
   ]
  },
  {
   "cell_type": "code",
   "execution_count": 442,
   "metadata": {},
   "outputs": [
    {
     "data": {
      "text/plain": [
       "(22, 33127)"
      ]
     },
     "execution_count": 442,
     "metadata": {},
     "output_type": "execute_result"
    }
   ],
   "source": [
    "XComparision.shape"
   ]
  },
  {
   "cell_type": "code",
   "execution_count": 443,
   "metadata": {},
   "outputs": [],
   "source": [
    "Y_pred_synth = ClassificationNet.predict(XComparision)"
   ]
  },
  {
   "cell_type": "code",
   "execution_count": 444,
   "metadata": {},
   "outputs": [
    {
     "name": "stdout",
     "output_type": "stream",
     "text": [
      "Accuracy yield on Synthetic Data:  86.03 %\n"
     ]
    }
   ],
   "source": [
    "print(\"Accuracy yield on Synthetic Data: \",np.round(ClassificationNet.accuracy(Y_pred_synth,ytest)*100,2),\"%\")"
   ]
  },
  {
   "cell_type": "markdown",
   "metadata": {},
   "source": [
    "## Observations {-}\n",
    "- The Classification accuracy with Original data is <strong>90.65%</strong>\n",
    "- The Classification accuracy with Missing Values replaced by the MultiValue Imputer Neural Network is giving an accuracy of <strong>86.3%</strong> which is pretty close to true data's classification accuracy."
   ]
  },
  {
   "cell_type": "markdown",
   "metadata": {},
   "source": [
    "## Saving the model"
   ]
  },
  {
   "cell_type": "code",
   "execution_count": 272,
   "metadata": {},
   "outputs": [],
   "source": [
    "import pickle"
   ]
  },
  {
   "cell_type": "code",
   "execution_count": 274,
   "metadata": {},
   "outputs": [],
   "source": [
    "pickle.dump(model, open('NN_MultiImpute.pkl','wb'))"
   ]
  }
 ],
 "metadata": {
  "accelerator": "TPU",
  "colab": {
   "collapsed_sections": [],
   "name": "NN_reg_class.ipynb",
   "provenance": []
  },
  "kernelspec": {
   "display_name": "Python 3",
   "language": "python",
   "name": "python3"
  },
  "language_info": {
   "codemirror_mode": {
    "name": "ipython",
    "version": 3
   },
   "file_extension": ".py",
   "mimetype": "text/x-python",
   "name": "python",
   "nbconvert_exporter": "python",
   "pygments_lexer": "ipython3",
   "version": "3.8.5"
  }
 },
 "nbformat": 4,
 "nbformat_minor": 1
}
