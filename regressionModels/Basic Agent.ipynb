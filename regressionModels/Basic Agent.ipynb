{
 "cells": [
  {
   "cell_type": "markdown",
   "metadata": {
    "id": "viVefdvcN69F"
   },
   "source": [
    "## Import Libraries {-}"
   ]
  },
  {
   "cell_type": "code",
   "execution_count": 14,
   "metadata": {
    "id": "GtUemp3HN35X"
   },
   "outputs": [],
   "source": [
    "import numpy as np\n",
    "import pandas as pd\n",
    "import matplotlib.pyplot as plt\n",
    "from scipy import stats"
   ]
  },
  {
   "cell_type": "markdown",
   "metadata": {
    "id": "aNnoP-tXngZP"
   },
   "source": [
    "## Read the Dataset"
   ]
  },
  {
   "cell_type": "code",
   "execution_count": 19,
   "metadata": {},
   "outputs": [],
   "source": [
    "Data=pd.read_csv('/Users/harsha/Desktop/myProjects/Fall2020-Local/ML/CS536FinalProject/ML-FinalProject/Datasets/Test_data.csv', encoding = 'ISO-8859-1')\n",
    "selFeat=['x1', 'y1', 'z1','x2', 'y2', 'z2', 'x3', 'y3', 'z3', 'x4', 'y4', 'z4']\n",
    "Data=Data[selFeat]\n",
    "Data_Array=Data.to_numpy()\n",
    "BinomArray = np.random.binomial(1, 0.5, Xarr_val.shape)\n",
    "indices=np.where(BinomArray==0)\n",
    "TrueValues=Data_Array[indices]\n",
    "Data_transformed=Xarr_val.astype('float')\n",
    "Data_transformed[indices]=np.nan\n",
    "Xtest=Data_transformed.copy()"
   ]
  },
  {
   "cell_type": "markdown",
   "metadata": {},
   "source": [
    "## Nan added Dataset"
   ]
  },
  {
   "cell_type": "code",
   "execution_count": 20,
   "metadata": {},
   "outputs": [
    {
     "data": {
      "text/plain": [
       "array([[  nan,   nan,  -82., ..., -179.,   nan, -178.],\n",
       "       [ -14.,  107., -129., ..., -187.,   nan,   nan],\n",
       "       [  nan,   69.,   nan, ...,   nan,   nan,   nan],\n",
       "       ...,\n",
       "       [  nan,   nan,  -55., ...,   nan, -109.,   nan],\n",
       "       [   0.,   94., -149., ..., -216.,   nan, -156.],\n",
       "       [  nan,   nan,  -96., ..., -181.,  -89.,   nan]])"
      ]
     },
     "execution_count": 20,
     "metadata": {},
     "output_type": "execute_result"
    }
   ],
   "source": [
    "Data_transformed"
   ]
  },
  {
   "cell_type": "markdown",
   "metadata": {},
   "source": [
    "## Mode as Basic Completion Agent"
   ]
  },
  {
   "cell_type": "code",
   "execution_count": 24,
   "metadata": {},
   "outputs": [],
   "source": [
    "Data_Mode_Imputation=Data_transformed.copy()"
   ]
  },
  {
   "cell_type": "code",
   "execution_count": 26,
   "metadata": {},
   "outputs": [
    {
     "data": {
      "text/plain": [
       "array([[  -1.,   95.,  -82., ..., -179.,  -94., -178.],\n",
       "       [ -14.,  107., -129., ..., -187.,  -94., -163.],\n",
       "       [  -1.,   69.,  -98., ..., -164.,  -94., -163.],\n",
       "       ...,\n",
       "       [  -1.,   95.,  -55., ..., -164., -109., -163.],\n",
       "       [   0.,   94., -149., ..., -216.,  -94., -156.],\n",
       "       [  -1.,   95.,  -96., ..., -181.,  -89., -163.]])"
      ]
     },
     "execution_count": 26,
     "metadata": {},
     "output_type": "execute_result"
    }
   ],
   "source": [
    "col_mode = stats.mode(Data_Array)\n",
    "#Find indices that you need to replace\n",
    "inds = np.where(np.isnan(Data_Mode_Imputation))\n",
    "#Place column modes in the indices. Align the arrays using take\n",
    "Data_Mode_Imputation[inds] = np.take(col_mode[0], inds[1])\n",
    "# print(X_train)\n",
    "Data_Mode_Imputation"
   ]
  },
  {
   "cell_type": "markdown",
   "metadata": {},
   "source": [
    "## Mean as Basic Completion Agent"
   ]
  },
  {
   "cell_type": "code",
   "execution_count": 28,
   "metadata": {},
   "outputs": [],
   "source": [
    "Data_Mean_Imputation=Data_transformed.copy()"
   ]
  },
  {
   "cell_type": "code",
   "execution_count": 29,
   "metadata": {},
   "outputs": [
    {
     "data": {
      "text/plain": [
       "array([[  -6.74788443,   88.26345372,  -82.        , ..., -179.        ,\n",
       "         -92.52789256, -178.        ],\n",
       "       [ -14.        ,  107.        , -129.        , ..., -187.        ,\n",
       "         -92.52789256, -159.56642212],\n",
       "       [  -6.74788443,   69.        ,  -93.00722848, ..., -167.19905814,\n",
       "         -92.52789256, -159.56642212],\n",
       "       ...,\n",
       "       [  -6.74788443,   88.26345372,  -55.        , ..., -167.19905814,\n",
       "        -109.        , -159.56642212],\n",
       "       [   0.        ,   94.        , -149.        , ..., -216.        ,\n",
       "         -92.52789256, -156.        ],\n",
       "       [  -6.74788443,   88.26345372,  -96.        , ..., -181.        ,\n",
       "         -89.        , -159.56642212]])"
      ]
     },
     "execution_count": 29,
     "metadata": {},
     "output_type": "execute_result"
    }
   ],
   "source": [
    "col_mean = np.nanmean(Xtest, axis=0)\n",
    "# print(col_mean)\n",
    "#Find indices that you need to replace\n",
    "inds = np.where(np.isnan(Xtest))\n",
    "#Place column means in the indices. Align the arrays using take\n",
    "Data_Mean_Imputation[inds] = np.take(col_mean, inds[1])\n",
    "# print(X_train)\n",
    "Data_Mean_Imputation"
   ]
  },
  {
   "cell_type": "markdown",
   "metadata": {},
   "source": [
    "## Score between True Values & Feature Means"
   ]
  },
  {
   "cell_type": "code",
   "execution_count": 30,
   "metadata": {},
   "outputs": [],
   "source": [
    "Means=Data_Mean_Imputation[indices]"
   ]
  },
  {
   "cell_type": "code",
   "execution_count": 31,
   "metadata": {},
   "outputs": [
    {
     "data": {
      "text/plain": [
       "0.5542645175737081"
      ]
     },
     "execution_count": 31,
     "metadata": {},
     "output_type": "execute_result"
    }
   ],
   "source": [
    "score = (((TrueValues - Means) ** 2).sum() / ((TrueValues - TrueValues.mean()) ** 2).sum())\n",
    "score"
   ]
  },
  {
   "cell_type": "markdown",
   "metadata": {},
   "source": [
    "## Score between True Values & Feature Modes"
   ]
  },
  {
   "cell_type": "code",
   "execution_count": 32,
   "metadata": {},
   "outputs": [],
   "source": [
    "Modes=Data_Mode_Imputation[indices]"
   ]
  },
  {
   "cell_type": "code",
   "execution_count": 33,
   "metadata": {},
   "outputs": [
    {
     "data": {
      "text/plain": [
       "3.199443618413495"
      ]
     },
     "execution_count": 33,
     "metadata": {},
     "output_type": "execute_result"
    }
   ],
   "source": [
    "score = (((TrueValues - Modes) ** 2).sum() / ((TrueValues - TrueValues.mean()) ** 2).sum())\n",
    "score"
   ]
  },
  {
   "cell_type": "markdown",
   "metadata": {},
   "source": [
    "## Observations {-}\n",
    "- Mean value imputation has a score of 0.55 and Mode value imputation scores 3.1 as we see both are not good imputation models compared to all other models we built for this problem statement"
   ]
  },
  {
   "cell_type": "code",
   "execution_count": null,
   "metadata": {},
   "outputs": [],
   "source": []
  }
 ],
 "metadata": {
  "accelerator": "TPU",
  "colab": {
   "collapsed_sections": [],
   "name": "NN_reg_class.ipynb",
   "provenance": []
  },
  "kernelspec": {
   "display_name": "Python 3",
   "language": "python",
   "name": "python3"
  },
  "language_info": {
   "codemirror_mode": {
    "name": "ipython",
    "version": 3
   },
   "file_extension": ".py",
   "mimetype": "text/x-python",
   "name": "python",
   "nbconvert_exporter": "python",
   "pygments_lexer": "ipython3",
   "version": "3.8.5"
  }
 },
 "nbformat": 4,
 "nbformat_minor": 1
}
