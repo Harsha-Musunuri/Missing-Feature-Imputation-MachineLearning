{
 "nbformat": 4,
 "nbformat_minor": 0,
 "metadata": {
  "colab": {
   "name": "LogisticRegression-ML_Project.ipynb",
   "provenance": [],
   "authorship_tag": "ABX9TyMtJ5xCp3rMn+bUpJPale4e"
  },
  "kernelspec": {
   "name": "python3",
   "language": "python",
   "display_name": "Python 3"
  }
 },
 "cells": [
  {
   "cell_type": "code",
   "metadata": {
    "colab": {
     "base_uri": "https://localhost:8080/"
    },
    "id": "HwkNHDbKskwj",
    "executionInfo": {
     "status": "ok",
     "timestamp": 1606358595683,
     "user_tz": 300,
     "elapsed": 21772,
     "user": {
      "displayName": "Harsha Musunuri",
      "photoUrl": "https://lh3.googleusercontent.com/a-/AOh14GjnSzYIYRgys-ZPyEwKAbDdD3Ke8b_McqyOTqXe_A=s64",
      "userId": "13920128544306220235"
     }
    },
    "outputId": "d87d12ff-e83a-423f-cd69-f29fb8577ad3"
   },
   "source": [
    "csv = 'D:\\\\Study\\\\ML\\\\Final_Project\\\\Sources\\\\Datasets\\\\Train_data.csv'\n",
    "test_csv = 'D:\\\\Study\\\\ML\\\\Final_Project\\\\Sources\\\\Datasets\\\\Test_data.csv'"
   ],
   "execution_count": 32,
   "outputs": []
  },
  {
   "cell_type": "code",
   "metadata": {
    "id": "hTHQi9tns1Mb"
   },
   "source": [
    "import pandas as pd\n",
    "import numpy as np\n",
    "from tqdm import tqdm"
   ],
   "execution_count": 4,
   "outputs": []
  },
  {
   "cell_type": "markdown",
   "metadata": {
    "id": "bfy45swSeN-R"
   },
   "source": [
    "## Read Data and get features X, targets y"
   ]
  },
  {
   "cell_type": "code",
   "metadata": {
    "id": "qp8olZzRtJ8t"
   },
   "source": [
    "train=pd.read_csv(csv)"
   ],
   "execution_count": 5,
   "outputs": []
  },
  {
   "cell_type": "code",
   "metadata": {
    "id": "L4s0BY7etM9t"
   },
   "source": [
    "# train=train.head(30)"
   ],
   "execution_count": 6,
   "outputs": []
  },
  {
   "cell_type": "code",
   "metadata": {
    "id": "KQWThag-c4bQ"
   },
   "source": [
    "features=train.drop(['class_sitting', 'class_sittingdown','class_standing','class_standingup','class_walking'], axis = 1) "
   ],
   "execution_count": 7,
   "outputs": []
  },
  {
   "cell_type": "code",
   "metadata": {
    "colab": {
     "base_uri": "https://localhost:8080/",
     "height": 224
    },
    "id": "n5l_iN40d0rB",
    "executionInfo": {
     "status": "ok",
     "timestamp": 1606367230878,
     "user_tz": 300,
     "elapsed": 756,
     "user": {
      "displayName": "Harsha Musunuri",
      "photoUrl": "https://lh3.googleusercontent.com/a-/AOh14GjnSzYIYRgys-ZPyEwKAbDdD3Ke8b_McqyOTqXe_A=s64",
      "userId": "13920128544306220235"
     }
    },
    "outputId": "b8f7afd1-da1d-4eeb-cad0-6a981cde6eb1"
   },
   "source": [
    "features.head(5)"
   ],
   "execution_count": 8,
   "outputs": [
    {
     "data": {
      "text/plain": "   age  how_tall_in_meters  weight  body_mass_index  x1   y1   z1   x2   y2  \\\n0   46                 162      75             28.6   7   91  -87   26   39   \n1   75                 167      67             24.0 -14   92 -156   -4   90   \n2   31                 171      83             28.4  -6   96 -131  -15   91   \n3   28                 158      55             22.0  21  131 -138 -350 -406   \n4   31                 171      83             28.4   9   99 -137  -30  -13   \n\n    z2  ...   z3   x4   y4   z4  user_debora  user_katia  user_wallace  \\\n0 -124  ...  -88 -179 -106 -173            1           0             0   \n1  -93  ... -107 -195  -79 -156            0           0             0   \n2 -129  ...  -78 -179  -78 -157            0           0             1   \n3 -515  ... -118 -171  -54 -173            0           1             0   \n4  -23  ...  -81 -110 -117 -174            0           0             1   \n\n   user_jose_carlos  gender_Woman  gender_Man  \n0                 0             1           0  \n1                 1             0           1  \n2                 0             0           1  \n3                 0             1           0  \n4                 0             0           1  \n\n[5 rows x 22 columns]",
      "text/html": "<div>\n<style scoped>\n    .dataframe tbody tr th:only-of-type {\n        vertical-align: middle;\n    }\n\n    .dataframe tbody tr th {\n        vertical-align: top;\n    }\n\n    .dataframe thead th {\n        text-align: right;\n    }\n</style>\n<table border=\"1\" class=\"dataframe\">\n  <thead>\n    <tr style=\"text-align: right;\">\n      <th></th>\n      <th>age</th>\n      <th>how_tall_in_meters</th>\n      <th>weight</th>\n      <th>body_mass_index</th>\n      <th>x1</th>\n      <th>y1</th>\n      <th>z1</th>\n      <th>x2</th>\n      <th>y2</th>\n      <th>z2</th>\n      <th>...</th>\n      <th>z3</th>\n      <th>x4</th>\n      <th>y4</th>\n      <th>z4</th>\n      <th>user_debora</th>\n      <th>user_katia</th>\n      <th>user_wallace</th>\n      <th>user_jose_carlos</th>\n      <th>gender_Woman</th>\n      <th>gender_Man</th>\n    </tr>\n  </thead>\n  <tbody>\n    <tr>\n      <th>0</th>\n      <td>46</td>\n      <td>162</td>\n      <td>75</td>\n      <td>28.6</td>\n      <td>7</td>\n      <td>91</td>\n      <td>-87</td>\n      <td>26</td>\n      <td>39</td>\n      <td>-124</td>\n      <td>...</td>\n      <td>-88</td>\n      <td>-179</td>\n      <td>-106</td>\n      <td>-173</td>\n      <td>1</td>\n      <td>0</td>\n      <td>0</td>\n      <td>0</td>\n      <td>1</td>\n      <td>0</td>\n    </tr>\n    <tr>\n      <th>1</th>\n      <td>75</td>\n      <td>167</td>\n      <td>67</td>\n      <td>24.0</td>\n      <td>-14</td>\n      <td>92</td>\n      <td>-156</td>\n      <td>-4</td>\n      <td>90</td>\n      <td>-93</td>\n      <td>...</td>\n      <td>-107</td>\n      <td>-195</td>\n      <td>-79</td>\n      <td>-156</td>\n      <td>0</td>\n      <td>0</td>\n      <td>0</td>\n      <td>1</td>\n      <td>0</td>\n      <td>1</td>\n    </tr>\n    <tr>\n      <th>2</th>\n      <td>31</td>\n      <td>171</td>\n      <td>83</td>\n      <td>28.4</td>\n      <td>-6</td>\n      <td>96</td>\n      <td>-131</td>\n      <td>-15</td>\n      <td>91</td>\n      <td>-129</td>\n      <td>...</td>\n      <td>-78</td>\n      <td>-179</td>\n      <td>-78</td>\n      <td>-157</td>\n      <td>0</td>\n      <td>0</td>\n      <td>1</td>\n      <td>0</td>\n      <td>0</td>\n      <td>1</td>\n    </tr>\n    <tr>\n      <th>3</th>\n      <td>28</td>\n      <td>158</td>\n      <td>55</td>\n      <td>22.0</td>\n      <td>21</td>\n      <td>131</td>\n      <td>-138</td>\n      <td>-350</td>\n      <td>-406</td>\n      <td>-515</td>\n      <td>...</td>\n      <td>-118</td>\n      <td>-171</td>\n      <td>-54</td>\n      <td>-173</td>\n      <td>0</td>\n      <td>1</td>\n      <td>0</td>\n      <td>0</td>\n      <td>1</td>\n      <td>0</td>\n    </tr>\n    <tr>\n      <th>4</th>\n      <td>31</td>\n      <td>171</td>\n      <td>83</td>\n      <td>28.4</td>\n      <td>9</td>\n      <td>99</td>\n      <td>-137</td>\n      <td>-30</td>\n      <td>-13</td>\n      <td>-23</td>\n      <td>...</td>\n      <td>-81</td>\n      <td>-110</td>\n      <td>-117</td>\n      <td>-174</td>\n      <td>0</td>\n      <td>0</td>\n      <td>1</td>\n      <td>0</td>\n      <td>0</td>\n      <td>1</td>\n    </tr>\n  </tbody>\n</table>\n<p>5 rows × 22 columns</p>\n</div>"
     },
     "execution_count": 8,
     "metadata": {},
     "output_type": "execute_result"
    }
   ]
  },
  {
   "cell_type": "code",
   "metadata": {
    "id": "AopTfSOgtc6H"
   },
   "source": [
    "targets=train[['class_sitting', 'class_sittingdown','class_standing','class_standingup','class_walking']]"
   ],
   "execution_count": 9,
   "outputs": []
  },
  {
   "cell_type": "code",
   "metadata": {
    "colab": {
     "base_uri": "https://localhost:8080/",
     "height": 204
    },
    "id": "OwKoGE9Xt2dw",
    "executionInfo": {
     "status": "ok",
     "timestamp": 1606367233982,
     "user_tz": 300,
     "elapsed": 817,
     "user": {
      "displayName": "Harsha Musunuri",
      "photoUrl": "https://lh3.googleusercontent.com/a-/AOh14GjnSzYIYRgys-ZPyEwKAbDdD3Ke8b_McqyOTqXe_A=s64",
      "userId": "13920128544306220235"
     }
    },
    "outputId": "9e3fa6c7-0ef4-4448-dfb0-209f727ae921"
   },
   "source": [
    "targets.head(5)"
   ],
   "execution_count": 10,
   "outputs": [
    {
     "data": {
      "text/plain": "   class_sitting  class_sittingdown  class_standing  class_standingup  \\\n0              0                  0               0                 0   \n1              0                  0               1                 0   \n2              0                  0               1                 0   \n3              0                  0               0                 0   \n4              0                  0               0                 1   \n\n   class_walking  \n0              1  \n1              0  \n2              0  \n3              1  \n4              0  ",
      "text/html": "<div>\n<style scoped>\n    .dataframe tbody tr th:only-of-type {\n        vertical-align: middle;\n    }\n\n    .dataframe tbody tr th {\n        vertical-align: top;\n    }\n\n    .dataframe thead th {\n        text-align: right;\n    }\n</style>\n<table border=\"1\" class=\"dataframe\">\n  <thead>\n    <tr style=\"text-align: right;\">\n      <th></th>\n      <th>class_sitting</th>\n      <th>class_sittingdown</th>\n      <th>class_standing</th>\n      <th>class_standingup</th>\n      <th>class_walking</th>\n    </tr>\n  </thead>\n  <tbody>\n    <tr>\n      <th>0</th>\n      <td>0</td>\n      <td>0</td>\n      <td>0</td>\n      <td>0</td>\n      <td>1</td>\n    </tr>\n    <tr>\n      <th>1</th>\n      <td>0</td>\n      <td>0</td>\n      <td>1</td>\n      <td>0</td>\n      <td>0</td>\n    </tr>\n    <tr>\n      <th>2</th>\n      <td>0</td>\n      <td>0</td>\n      <td>1</td>\n      <td>0</td>\n      <td>0</td>\n    </tr>\n    <tr>\n      <th>3</th>\n      <td>0</td>\n      <td>0</td>\n      <td>0</td>\n      <td>0</td>\n      <td>1</td>\n    </tr>\n    <tr>\n      <th>4</th>\n      <td>0</td>\n      <td>0</td>\n      <td>0</td>\n      <td>1</td>\n      <td>0</td>\n    </tr>\n  </tbody>\n</table>\n</div>"
     },
     "execution_count": 10,
     "metadata": {},
     "output_type": "execute_result"
    }
   ]
  },
  {
   "cell_type": "code",
   "metadata": {
    "colab": {
     "base_uri": "https://localhost:8080/",
     "height": 100
    },
    "id": "6ZuyKfSHkny4",
    "executionInfo": {
     "status": "ok",
     "timestamp": 1606367235825,
     "user_tz": 300,
     "elapsed": 577,
     "user": {
      "displayName": "Harsha Musunuri",
      "photoUrl": "https://lh3.googleusercontent.com/a-/AOh14GjnSzYIYRgys-ZPyEwKAbDdD3Ke8b_McqyOTqXe_A=s64",
      "userId": "13920128544306220235"
     }
    },
    "outputId": "5bdac100-c402-47a8-f94e-f95f8e611ce6"
   },
   "source": [
    "features.head(1)"
   ],
   "execution_count": 11,
   "outputs": [
    {
     "data": {
      "text/plain": "   age  how_tall_in_meters  weight  body_mass_index  x1  y1  z1  x2  y2   z2  \\\n0   46                 162      75             28.6   7  91 -87  26  39 -124   \n\n   ...  z3   x4   y4   z4  user_debora  user_katia  user_wallace  \\\n0  ... -88 -179 -106 -173            1           0             0   \n\n   user_jose_carlos  gender_Woman  gender_Man  \n0                 0             1           0  \n\n[1 rows x 22 columns]",
      "text/html": "<div>\n<style scoped>\n    .dataframe tbody tr th:only-of-type {\n        vertical-align: middle;\n    }\n\n    .dataframe tbody tr th {\n        vertical-align: top;\n    }\n\n    .dataframe thead th {\n        text-align: right;\n    }\n</style>\n<table border=\"1\" class=\"dataframe\">\n  <thead>\n    <tr style=\"text-align: right;\">\n      <th></th>\n      <th>age</th>\n      <th>how_tall_in_meters</th>\n      <th>weight</th>\n      <th>body_mass_index</th>\n      <th>x1</th>\n      <th>y1</th>\n      <th>z1</th>\n      <th>x2</th>\n      <th>y2</th>\n      <th>z2</th>\n      <th>...</th>\n      <th>z3</th>\n      <th>x4</th>\n      <th>y4</th>\n      <th>z4</th>\n      <th>user_debora</th>\n      <th>user_katia</th>\n      <th>user_wallace</th>\n      <th>user_jose_carlos</th>\n      <th>gender_Woman</th>\n      <th>gender_Man</th>\n    </tr>\n  </thead>\n  <tbody>\n    <tr>\n      <th>0</th>\n      <td>46</td>\n      <td>162</td>\n      <td>75</td>\n      <td>28.6</td>\n      <td>7</td>\n      <td>91</td>\n      <td>-87</td>\n      <td>26</td>\n      <td>39</td>\n      <td>-124</td>\n      <td>...</td>\n      <td>-88</td>\n      <td>-179</td>\n      <td>-106</td>\n      <td>-173</td>\n      <td>1</td>\n      <td>0</td>\n      <td>0</td>\n      <td>0</td>\n      <td>1</td>\n      <td>0</td>\n    </tr>\n  </tbody>\n</table>\n<p>1 rows × 22 columns</p>\n</div>"
     },
     "execution_count": 11,
     "metadata": {},
     "output_type": "execute_result"
    }
   ]
  },
  {
   "cell_type": "markdown",
   "metadata": {
    "id": "eFPYL4GA4SeN"
   },
   "source": [
    "## Mean Centering Method!"
   ]
  },
  {
   "cell_type": "code",
   "metadata": {
    "id": "PDL6Ri9TjyTo"
   },
   "source": [
    "features=features-features.mean()"
   ],
   "execution_count": 12,
   "outputs": []
  },
  {
   "cell_type": "code",
   "metadata": {
    "colab": {
     "base_uri": "https://localhost:8080/",
     "height": 224
    },
    "id": "CZfcBwO99OKY",
    "executionInfo": {
     "status": "ok",
     "timestamp": 1606367377394,
     "user_tz": 300,
     "elapsed": 924,
     "user": {
      "displayName": "Harsha Musunuri",
      "photoUrl": "https://lh3.googleusercontent.com/a-/AOh14GjnSzYIYRgys-ZPyEwKAbDdD3Ke8b_McqyOTqXe_A=s64",
      "userId": "13920128544306220235"
     }
    },
    "outputId": "4eb0624e-6c33-49bd-8d6f-38d7ce35ad1e"
   },
   "source": [
    "features.head(5)"
   ],
   "execution_count": 13,
   "outputs": [
    {
     "data": {
      "text/plain": "         age  how_tall_in_meters     weight  body_mass_index         x1  \\\n0   7.709123           -1.959949   4.196187          2.41334  13.632047   \n1  36.709123            3.040051  -3.803813         -2.18666  -7.367953   \n2  -7.290877            7.040051  12.196187          2.21334   0.632047   \n3 -10.290877           -5.959949 -15.803813         -4.18666  27.632047   \n4  -7.290877            7.040051  12.196187          2.21334  15.632047   \n\n          y1        z1         x2        y2          z2  ...         z3  \\\n0   2.681826   6.14699  113.57891   90.7019   50.701191  ...   5.908631   \n1   3.681826 -62.85301   83.57891  141.7019   81.701191  ... -13.091369   \n2   7.681826 -37.85301   72.57891  142.7019   45.701191  ...  15.908631   \n3  42.681826 -44.85301 -262.42109 -354.2981 -340.298809  ... -24.091369   \n4  10.681826 -43.85301   57.57891   38.7019  151.701191  ...  12.908631   \n\n          x4         y4         z4  user_debora  user_katia  user_wallace  \\\n0 -11.331562 -13.358255 -13.340709     0.687667   -0.300779     -0.307156   \n1 -27.331562  13.641745   3.659291    -0.312333   -0.300779     -0.307156   \n2 -11.331562  14.641745   2.659291    -0.312333   -0.300779      0.692844   \n3  -3.331562  38.641745 -13.340709    -0.312333    0.699221     -0.307156   \n4  57.668438 -24.358255 -14.340709    -0.312333   -0.300779      0.692844   \n\n   user_jose_carlos  gender_Woman  gender_Man  \n0         -0.079732      0.386888   -0.386888  \n1          0.920268     -0.613112    0.613112  \n2         -0.079732     -0.613112    0.613112  \n3         -0.079732      0.386888   -0.386888  \n4         -0.079732     -0.613112    0.613112  \n\n[5 rows x 22 columns]",
      "text/html": "<div>\n<style scoped>\n    .dataframe tbody tr th:only-of-type {\n        vertical-align: middle;\n    }\n\n    .dataframe tbody tr th {\n        vertical-align: top;\n    }\n\n    .dataframe thead th {\n        text-align: right;\n    }\n</style>\n<table border=\"1\" class=\"dataframe\">\n  <thead>\n    <tr style=\"text-align: right;\">\n      <th></th>\n      <th>age</th>\n      <th>how_tall_in_meters</th>\n      <th>weight</th>\n      <th>body_mass_index</th>\n      <th>x1</th>\n      <th>y1</th>\n      <th>z1</th>\n      <th>x2</th>\n      <th>y2</th>\n      <th>z2</th>\n      <th>...</th>\n      <th>z3</th>\n      <th>x4</th>\n      <th>y4</th>\n      <th>z4</th>\n      <th>user_debora</th>\n      <th>user_katia</th>\n      <th>user_wallace</th>\n      <th>user_jose_carlos</th>\n      <th>gender_Woman</th>\n      <th>gender_Man</th>\n    </tr>\n  </thead>\n  <tbody>\n    <tr>\n      <th>0</th>\n      <td>7.709123</td>\n      <td>-1.959949</td>\n      <td>4.196187</td>\n      <td>2.41334</td>\n      <td>13.632047</td>\n      <td>2.681826</td>\n      <td>6.14699</td>\n      <td>113.57891</td>\n      <td>90.7019</td>\n      <td>50.701191</td>\n      <td>...</td>\n      <td>5.908631</td>\n      <td>-11.331562</td>\n      <td>-13.358255</td>\n      <td>-13.340709</td>\n      <td>0.687667</td>\n      <td>-0.300779</td>\n      <td>-0.307156</td>\n      <td>-0.079732</td>\n      <td>0.386888</td>\n      <td>-0.386888</td>\n    </tr>\n    <tr>\n      <th>1</th>\n      <td>36.709123</td>\n      <td>3.040051</td>\n      <td>-3.803813</td>\n      <td>-2.18666</td>\n      <td>-7.367953</td>\n      <td>3.681826</td>\n      <td>-62.85301</td>\n      <td>83.57891</td>\n      <td>141.7019</td>\n      <td>81.701191</td>\n      <td>...</td>\n      <td>-13.091369</td>\n      <td>-27.331562</td>\n      <td>13.641745</td>\n      <td>3.659291</td>\n      <td>-0.312333</td>\n      <td>-0.300779</td>\n      <td>-0.307156</td>\n      <td>0.920268</td>\n      <td>-0.613112</td>\n      <td>0.613112</td>\n    </tr>\n    <tr>\n      <th>2</th>\n      <td>-7.290877</td>\n      <td>7.040051</td>\n      <td>12.196187</td>\n      <td>2.21334</td>\n      <td>0.632047</td>\n      <td>7.681826</td>\n      <td>-37.85301</td>\n      <td>72.57891</td>\n      <td>142.7019</td>\n      <td>45.701191</td>\n      <td>...</td>\n      <td>15.908631</td>\n      <td>-11.331562</td>\n      <td>14.641745</td>\n      <td>2.659291</td>\n      <td>-0.312333</td>\n      <td>-0.300779</td>\n      <td>0.692844</td>\n      <td>-0.079732</td>\n      <td>-0.613112</td>\n      <td>0.613112</td>\n    </tr>\n    <tr>\n      <th>3</th>\n      <td>-10.290877</td>\n      <td>-5.959949</td>\n      <td>-15.803813</td>\n      <td>-4.18666</td>\n      <td>27.632047</td>\n      <td>42.681826</td>\n      <td>-44.85301</td>\n      <td>-262.42109</td>\n      <td>-354.2981</td>\n      <td>-340.298809</td>\n      <td>...</td>\n      <td>-24.091369</td>\n      <td>-3.331562</td>\n      <td>38.641745</td>\n      <td>-13.340709</td>\n      <td>-0.312333</td>\n      <td>0.699221</td>\n      <td>-0.307156</td>\n      <td>-0.079732</td>\n      <td>0.386888</td>\n      <td>-0.386888</td>\n    </tr>\n    <tr>\n      <th>4</th>\n      <td>-7.290877</td>\n      <td>7.040051</td>\n      <td>12.196187</td>\n      <td>2.21334</td>\n      <td>15.632047</td>\n      <td>10.681826</td>\n      <td>-43.85301</td>\n      <td>57.57891</td>\n      <td>38.7019</td>\n      <td>151.701191</td>\n      <td>...</td>\n      <td>12.908631</td>\n      <td>57.668438</td>\n      <td>-24.358255</td>\n      <td>-14.340709</td>\n      <td>-0.312333</td>\n      <td>-0.300779</td>\n      <td>0.692844</td>\n      <td>-0.079732</td>\n      <td>-0.613112</td>\n      <td>0.613112</td>\n    </tr>\n  </tbody>\n</table>\n<p>5 rows × 22 columns</p>\n</div>"
     },
     "execution_count": 13,
     "metadata": {},
     "output_type": "execute_result"
    }
   ]
  },
  {
   "cell_type": "code",
   "metadata": {
    "id": "fPyLG11jj3Db"
   },
   "source": [
    "targets = targets.apply(pd.to_numeric)"
   ],
   "execution_count": 14,
   "outputs": []
  },
  {
   "cell_type": "code",
   "metadata": {
    "colab": {
     "base_uri": "https://localhost:8080/",
     "height": 80
    },
    "id": "kFZYIBNqj-U2",
    "executionInfo": {
     "status": "ok",
     "timestamp": 1606367396749,
     "user_tz": 300,
     "elapsed": 595,
     "user": {
      "displayName": "Harsha Musunuri",
      "photoUrl": "https://lh3.googleusercontent.com/a-/AOh14GjnSzYIYRgys-ZPyEwKAbDdD3Ke8b_McqyOTqXe_A=s64",
      "userId": "13920128544306220235"
     }
    },
    "outputId": "8db8d8d4-b807-4096-a192-03b2f0c0d9c2"
   },
   "source": [
    "targets.head(1)"
   ],
   "execution_count": 15,
   "outputs": [
    {
     "data": {
      "text/plain": "   class_sitting  class_sittingdown  class_standing  class_standingup  \\\n0              0                  0               0                 0   \n\n   class_walking  \n0              1  ",
      "text/html": "<div>\n<style scoped>\n    .dataframe tbody tr th:only-of-type {\n        vertical-align: middle;\n    }\n\n    .dataframe tbody tr th {\n        vertical-align: top;\n    }\n\n    .dataframe thead th {\n        text-align: right;\n    }\n</style>\n<table border=\"1\" class=\"dataframe\">\n  <thead>\n    <tr style=\"text-align: right;\">\n      <th></th>\n      <th>class_sitting</th>\n      <th>class_sittingdown</th>\n      <th>class_standing</th>\n      <th>class_standingup</th>\n      <th>class_walking</th>\n    </tr>\n  </thead>\n  <tbody>\n    <tr>\n      <th>0</th>\n      <td>0</td>\n      <td>0</td>\n      <td>0</td>\n      <td>0</td>\n      <td>1</td>\n    </tr>\n  </tbody>\n</table>\n</div>"
     },
     "execution_count": 15,
     "metadata": {},
     "output_type": "execute_result"
    }
   ]
  },
  {
   "cell_type": "markdown",
   "metadata": {
    "id": "NLJPk697eVSA"
   },
   "source": [
    "## Define functions to predict target, define cost, etc"
   ]
  },
  {
   "cell_type": "code",
   "metadata": {
    "id": "g-MI-XOnt5fq"
   },
   "source": [
    "def hypothesis(theta, X):\n",
    "    return 1 / (1 + np.exp(-(np.dot(theta, X.T)))) - 0.0000001 #1/(1+e^-z) where z is theta.X"
   ],
   "execution_count": 16,
   "outputs": []
  },
  {
   "cell_type": "code",
   "metadata": {
    "id": "4cVt0n9fvEUu"
   },
   "source": [
    "def cost(X, y, theta):\n",
    "    y1 = hypothesis(theta, X)\n",
    "    return -(1/len(X)) * np.sum(y*np.log(y1) + (1-y)*np.log(1-y1))"
   ],
   "execution_count": 17,
   "outputs": []
  },
  {
   "cell_type": "code",
   "metadata": {
    "id": "gZcP2CJsf9S2"
   },
   "source": [
    "def gradient_descent(X, y, theta, alpha, epochs):\n",
    "    m = len(X)\n",
    "    for i in tqdm(range(0, epochs)):\n",
    "        for j in range(0, 5):\n",
    "            theta = pd.DataFrame(theta)\n",
    "            h = hypothesis(theta.iloc[:,j], X)\n",
    "            for k in range(0, theta.shape[0]):\n",
    "                theta.iloc[k, j] -= (alpha/m) * np.sum((h-y.iloc[:, j])*X.iloc[:, k])\n",
    "            theta = pd.DataFrame(theta)\n",
    "    return theta, cost"
   ],
   "execution_count": 18,
   "outputs": []
  },
  {
   "cell_type": "markdown",
   "metadata": {
    "id": "P5S8-ATlfjlP"
   },
   "source": [
    "## Adding bias column to X"
   ]
  },
  {
   "cell_type": "code",
   "metadata": {
    "colab": {
     "base_uri": "https://localhost:8080/"
    },
    "id": "6C71r-l5vJ0i",
    "executionInfo": {
     "status": "ok",
     "timestamp": 1606367403528,
     "user_tz": 300,
     "elapsed": 561,
     "user": {
      "displayName": "Harsha Musunuri",
      "photoUrl": "https://lh3.googleusercontent.com/a-/AOh14GjnSzYIYRgys-ZPyEwKAbDdD3Ke8b_McqyOTqXe_A=s64",
      "userId": "13920128544306220235"
     }
    },
    "outputId": "3599343b-9251-4d67-eca4-644793a8ef19"
   },
   "source": [
    "print(len(features))\n",
    "print(len(targets))\n",
    "X = pd.concat([pd.Series(1, index=features.index, name='00'), features], axis=1) #bias column"
   ],
   "execution_count": 19,
   "outputs": [
    {
     "name": "stdout",
     "output_type": "stream",
     "text": [
      "132506\n",
      "132506\n"
     ]
    }
   ]
  },
  {
   "cell_type": "code",
   "metadata": {
    "colab": {
     "base_uri": "https://localhost:8080/",
     "height": 224
    },
    "id": "rWv68-LOvS2g",
    "executionInfo": {
     "status": "ok",
     "timestamp": 1606367405920,
     "user_tz": 300,
     "elapsed": 540,
     "user": {
      "displayName": "Harsha Musunuri",
      "photoUrl": "https://lh3.googleusercontent.com/a-/AOh14GjnSzYIYRgys-ZPyEwKAbDdD3Ke8b_McqyOTqXe_A=s64",
      "userId": "13920128544306220235"
     }
    },
    "outputId": "def62745-9bce-4d51-ce60-fab919e3159f"
   },
   "source": [
    "X.head(5)"
   ],
   "execution_count": 20,
   "outputs": [
    {
     "data": {
      "text/plain": "   00        age  how_tall_in_meters     weight  body_mass_index         x1  \\\n0   1   7.709123           -1.959949   4.196187          2.41334  13.632047   \n1   1  36.709123            3.040051  -3.803813         -2.18666  -7.367953   \n2   1  -7.290877            7.040051  12.196187          2.21334   0.632047   \n3   1 -10.290877           -5.959949 -15.803813         -4.18666  27.632047   \n4   1  -7.290877            7.040051  12.196187          2.21334  15.632047   \n\n          y1        z1         x2        y2  ...         z3         x4  \\\n0   2.681826   6.14699  113.57891   90.7019  ...   5.908631 -11.331562   \n1   3.681826 -62.85301   83.57891  141.7019  ... -13.091369 -27.331562   \n2   7.681826 -37.85301   72.57891  142.7019  ...  15.908631 -11.331562   \n3  42.681826 -44.85301 -262.42109 -354.2981  ... -24.091369  -3.331562   \n4  10.681826 -43.85301   57.57891   38.7019  ...  12.908631  57.668438   \n\n          y4         z4  user_debora  user_katia  user_wallace  \\\n0 -13.358255 -13.340709     0.687667   -0.300779     -0.307156   \n1  13.641745   3.659291    -0.312333   -0.300779     -0.307156   \n2  14.641745   2.659291    -0.312333   -0.300779      0.692844   \n3  38.641745 -13.340709    -0.312333    0.699221     -0.307156   \n4 -24.358255 -14.340709    -0.312333   -0.300779      0.692844   \n\n   user_jose_carlos  gender_Woman  gender_Man  \n0         -0.079732      0.386888   -0.386888  \n1          0.920268     -0.613112    0.613112  \n2         -0.079732     -0.613112    0.613112  \n3         -0.079732      0.386888   -0.386888  \n4         -0.079732     -0.613112    0.613112  \n\n[5 rows x 23 columns]",
      "text/html": "<div>\n<style scoped>\n    .dataframe tbody tr th:only-of-type {\n        vertical-align: middle;\n    }\n\n    .dataframe tbody tr th {\n        vertical-align: top;\n    }\n\n    .dataframe thead th {\n        text-align: right;\n    }\n</style>\n<table border=\"1\" class=\"dataframe\">\n  <thead>\n    <tr style=\"text-align: right;\">\n      <th></th>\n      <th>00</th>\n      <th>age</th>\n      <th>how_tall_in_meters</th>\n      <th>weight</th>\n      <th>body_mass_index</th>\n      <th>x1</th>\n      <th>y1</th>\n      <th>z1</th>\n      <th>x2</th>\n      <th>y2</th>\n      <th>...</th>\n      <th>z3</th>\n      <th>x4</th>\n      <th>y4</th>\n      <th>z4</th>\n      <th>user_debora</th>\n      <th>user_katia</th>\n      <th>user_wallace</th>\n      <th>user_jose_carlos</th>\n      <th>gender_Woman</th>\n      <th>gender_Man</th>\n    </tr>\n  </thead>\n  <tbody>\n    <tr>\n      <th>0</th>\n      <td>1</td>\n      <td>7.709123</td>\n      <td>-1.959949</td>\n      <td>4.196187</td>\n      <td>2.41334</td>\n      <td>13.632047</td>\n      <td>2.681826</td>\n      <td>6.14699</td>\n      <td>113.57891</td>\n      <td>90.7019</td>\n      <td>...</td>\n      <td>5.908631</td>\n      <td>-11.331562</td>\n      <td>-13.358255</td>\n      <td>-13.340709</td>\n      <td>0.687667</td>\n      <td>-0.300779</td>\n      <td>-0.307156</td>\n      <td>-0.079732</td>\n      <td>0.386888</td>\n      <td>-0.386888</td>\n    </tr>\n    <tr>\n      <th>1</th>\n      <td>1</td>\n      <td>36.709123</td>\n      <td>3.040051</td>\n      <td>-3.803813</td>\n      <td>-2.18666</td>\n      <td>-7.367953</td>\n      <td>3.681826</td>\n      <td>-62.85301</td>\n      <td>83.57891</td>\n      <td>141.7019</td>\n      <td>...</td>\n      <td>-13.091369</td>\n      <td>-27.331562</td>\n      <td>13.641745</td>\n      <td>3.659291</td>\n      <td>-0.312333</td>\n      <td>-0.300779</td>\n      <td>-0.307156</td>\n      <td>0.920268</td>\n      <td>-0.613112</td>\n      <td>0.613112</td>\n    </tr>\n    <tr>\n      <th>2</th>\n      <td>1</td>\n      <td>-7.290877</td>\n      <td>7.040051</td>\n      <td>12.196187</td>\n      <td>2.21334</td>\n      <td>0.632047</td>\n      <td>7.681826</td>\n      <td>-37.85301</td>\n      <td>72.57891</td>\n      <td>142.7019</td>\n      <td>...</td>\n      <td>15.908631</td>\n      <td>-11.331562</td>\n      <td>14.641745</td>\n      <td>2.659291</td>\n      <td>-0.312333</td>\n      <td>-0.300779</td>\n      <td>0.692844</td>\n      <td>-0.079732</td>\n      <td>-0.613112</td>\n      <td>0.613112</td>\n    </tr>\n    <tr>\n      <th>3</th>\n      <td>1</td>\n      <td>-10.290877</td>\n      <td>-5.959949</td>\n      <td>-15.803813</td>\n      <td>-4.18666</td>\n      <td>27.632047</td>\n      <td>42.681826</td>\n      <td>-44.85301</td>\n      <td>-262.42109</td>\n      <td>-354.2981</td>\n      <td>...</td>\n      <td>-24.091369</td>\n      <td>-3.331562</td>\n      <td>38.641745</td>\n      <td>-13.340709</td>\n      <td>-0.312333</td>\n      <td>0.699221</td>\n      <td>-0.307156</td>\n      <td>-0.079732</td>\n      <td>0.386888</td>\n      <td>-0.386888</td>\n    </tr>\n    <tr>\n      <th>4</th>\n      <td>1</td>\n      <td>-7.290877</td>\n      <td>7.040051</td>\n      <td>12.196187</td>\n      <td>2.21334</td>\n      <td>15.632047</td>\n      <td>10.681826</td>\n      <td>-43.85301</td>\n      <td>57.57891</td>\n      <td>38.7019</td>\n      <td>...</td>\n      <td>12.908631</td>\n      <td>57.668438</td>\n      <td>-24.358255</td>\n      <td>-14.340709</td>\n      <td>-0.312333</td>\n      <td>-0.300779</td>\n      <td>0.692844</td>\n      <td>-0.079732</td>\n      <td>-0.613112</td>\n      <td>0.613112</td>\n    </tr>\n  </tbody>\n</table>\n<p>5 rows × 23 columns</p>\n</div>"
     },
     "execution_count": 20,
     "metadata": {},
     "output_type": "execute_result"
    }
   ]
  },
  {
   "cell_type": "code",
   "metadata": {
    "id": "MZtKnKs8vWRG"
   },
   "source": [
    "y = targets"
   ],
   "execution_count": 21,
   "outputs": []
  },
  {
   "cell_type": "code",
   "metadata": {
    "colab": {
     "base_uri": "https://localhost:8080/",
     "height": 204
    },
    "id": "4cfAkrhwf4Hy",
    "executionInfo": {
     "status": "ok",
     "timestamp": 1606367415181,
     "user_tz": 300,
     "elapsed": 861,
     "user": {
      "displayName": "Harsha Musunuri",
      "photoUrl": "https://lh3.googleusercontent.com/a-/AOh14GjnSzYIYRgys-ZPyEwKAbDdD3Ke8b_McqyOTqXe_A=s64",
      "userId": "13920128544306220235"
     }
    },
    "outputId": "814a5ebd-f0fe-4722-91d3-3774bf5c8728"
   },
   "source": [
    "y.head(5)"
   ],
   "execution_count": 22,
   "outputs": [
    {
     "data": {
      "text/plain": "   class_sitting  class_sittingdown  class_standing  class_standingup  \\\n0              0                  0               0                 0   \n1              0                  0               1                 0   \n2              0                  0               1                 0   \n3              0                  0               0                 0   \n4              0                  0               0                 1   \n\n   class_walking  \n0              1  \n1              0  \n2              0  \n3              1  \n4              0  ",
      "text/html": "<div>\n<style scoped>\n    .dataframe tbody tr th:only-of-type {\n        vertical-align: middle;\n    }\n\n    .dataframe tbody tr th {\n        vertical-align: top;\n    }\n\n    .dataframe thead th {\n        text-align: right;\n    }\n</style>\n<table border=\"1\" class=\"dataframe\">\n  <thead>\n    <tr style=\"text-align: right;\">\n      <th></th>\n      <th>class_sitting</th>\n      <th>class_sittingdown</th>\n      <th>class_standing</th>\n      <th>class_standingup</th>\n      <th>class_walking</th>\n    </tr>\n  </thead>\n  <tbody>\n    <tr>\n      <th>0</th>\n      <td>0</td>\n      <td>0</td>\n      <td>0</td>\n      <td>0</td>\n      <td>1</td>\n    </tr>\n    <tr>\n      <th>1</th>\n      <td>0</td>\n      <td>0</td>\n      <td>1</td>\n      <td>0</td>\n      <td>0</td>\n    </tr>\n    <tr>\n      <th>2</th>\n      <td>0</td>\n      <td>0</td>\n      <td>1</td>\n      <td>0</td>\n      <td>0</td>\n    </tr>\n    <tr>\n      <th>3</th>\n      <td>0</td>\n      <td>0</td>\n      <td>0</td>\n      <td>0</td>\n      <td>1</td>\n    </tr>\n    <tr>\n      <th>4</th>\n      <td>0</td>\n      <td>0</td>\n      <td>0</td>\n      <td>1</td>\n      <td>0</td>\n    </tr>\n  </tbody>\n</table>\n</div>"
     },
     "execution_count": 22,
     "metadata": {},
     "output_type": "execute_result"
    }
   ]
  },
  {
   "cell_type": "markdown",
   "metadata": {
    "id": "9VOeIzZ0gGoC"
   },
   "source": [
    "## Training"
   ]
  },
  {
   "cell_type": "code",
   "metadata": {
    "colab": {
     "base_uri": "https://localhost:8080/"
    },
    "id": "aSZVvy-awjUg",
    "executionInfo": {
     "status": "ok",
     "timestamp": 1606367418161,
     "user_tz": 300,
     "elapsed": 734,
     "user": {
      "displayName": "Harsha Musunuri",
      "photoUrl": "https://lh3.googleusercontent.com/a-/AOh14GjnSzYIYRgys-ZPyEwKAbDdD3Ke8b_McqyOTqXe_A=s64",
      "userId": "13920128544306220235"
     }
    },
    "outputId": "57260ec9-06d6-4872-bd5f-d8a3d70a304a"
   },
   "source": [
    "#create theta from theta 0 to theta num_features for each column of y; size of the theta array is num_features X num_targets\n",
    "theta = np.zeros([features.shape[1]+1, y.shape[1]])\n",
    "theta.shape"
   ],
   "execution_count": 24,
   "outputs": [
    {
     "data": {
      "text/plain": "(23, 5)"
     },
     "execution_count": 24,
     "metadata": {},
     "output_type": "execute_result"
    }
   ]
  },
  {
   "cell_type": "code",
   "metadata": {
    "colab": {
     "base_uri": "https://localhost:8080/"
    },
    "id": "0S95Wyokggwc",
    "executionInfo": {
     "status": "ok",
     "timestamp": 1606370484969,
     "user_tz": 300,
     "elapsed": 1043612,
     "user": {
      "displayName": "Harsha Musunuri",
      "photoUrl": "https://lh3.googleusercontent.com/a-/AOh14GjnSzYIYRgys-ZPyEwKAbDdD3Ke8b_McqyOTqXe_A=s64",
      "userId": "13920128544306220235"
     }
    },
    "outputId": "d19fda44-f56a-4fc0-94d8-39ca2be82b31"
   },
   "source": [
    "# learning_rates = [0.001, 0.003, 0.005, 0.01]\n",
    "# thetaGlobal=[]\n",
    "# for rate in learning_rates:\n",
    "theta,cost = gradient_descent(X, y, theta, 0.002, 2500)\n",
    "  # thetaGlobal.append(theta)"
   ],
   "execution_count": 25,
   "outputs": [
    {
     "name": "stderr",
     "output_type": "stream",
     "text": [
      "100%|██████████| 2500/2500 [15:14<00:00,  2.73it/s]\n"
     ]
    }
   ]
  },
  {
   "cell_type": "code",
   "metadata": {
    "colab": {
     "base_uri": "https://localhost:8080/",
     "height": 762
    },
    "id": "s8bthjkwnren",
    "executionInfo": {
     "status": "ok",
     "timestamp": 1606370564837,
     "user_tz": 300,
     "elapsed": 943,
     "user": {
      "displayName": "Harsha Musunuri",
      "photoUrl": "https://lh3.googleusercontent.com/a-/AOh14GjnSzYIYRgys-ZPyEwKAbDdD3Ke8b_McqyOTqXe_A=s64",
      "userId": "13920128544306220235"
     }
    },
    "outputId": "ac718ec2-a771-4354-f76c-d1b55138f1a1"
   },
   "source": [
    "theta"
   ],
   "execution_count": 26,
   "outputs": [
    {
     "data": {
      "text/plain": "           0         1         2         3         4\n0  -0.285669 -2.123788 -1.666890 -2.104447 -0.632243\n1   0.071598 -0.618236 -0.071407 -0.279124  0.132914\n2   0.266471 -0.076791  0.416357 -0.042187 -0.273704\n3  -0.222024  0.264687 -0.647201  0.430992  0.225456\n4  -0.180258  0.124389 -0.401062  0.180734  0.186248\n5  -0.095262  0.461186  0.017641  0.050146 -0.048220\n6  -0.356014 -0.036713  0.090398 -0.076607  0.348073\n7   0.178566 -0.160229  0.011745 -0.265215 -0.047226\n8   0.007192  0.028482  0.160892 -0.031199 -0.087585\n9  -0.013067  0.004210  0.251567  0.001191  0.004942\n10  0.031248  0.172677 -0.108873  0.194601 -0.003677\n11 -0.003950 -0.010441  0.063953 -0.075709 -0.041340\n12  0.021558  0.045992 -0.121203 -0.384791  0.165354\n13 -0.013295  0.021700  0.096160  0.233397 -0.146106\n14  0.043360 -0.136127  0.096926 -0.323239 -0.020450\n15 -0.085515 -0.214460  0.021136 -0.139049  0.102460\n16 -0.083273  1.106326  0.162633  0.121278 -0.670517\n17 -0.055969  0.023349 -0.110733  0.033651  0.059697\n18  0.011634 -0.003414  0.032829 -0.014271 -0.014635\n19  0.022834  0.002308  0.039539 -0.000592 -0.026734\n20  0.021501 -0.022244  0.038365 -0.018789 -0.018328\n21 -0.044335  0.019936 -0.077904  0.019381  0.045062\n22  0.044335 -0.019936  0.077904 -0.019381 -0.045062",
      "text/html": "<div>\n<style scoped>\n    .dataframe tbody tr th:only-of-type {\n        vertical-align: middle;\n    }\n\n    .dataframe tbody tr th {\n        vertical-align: top;\n    }\n\n    .dataframe thead th {\n        text-align: right;\n    }\n</style>\n<table border=\"1\" class=\"dataframe\">\n  <thead>\n    <tr style=\"text-align: right;\">\n      <th></th>\n      <th>0</th>\n      <th>1</th>\n      <th>2</th>\n      <th>3</th>\n      <th>4</th>\n    </tr>\n  </thead>\n  <tbody>\n    <tr>\n      <th>0</th>\n      <td>-0.285669</td>\n      <td>-2.123788</td>\n      <td>-1.666890</td>\n      <td>-2.104447</td>\n      <td>-0.632243</td>\n    </tr>\n    <tr>\n      <th>1</th>\n      <td>0.071598</td>\n      <td>-0.618236</td>\n      <td>-0.071407</td>\n      <td>-0.279124</td>\n      <td>0.132914</td>\n    </tr>\n    <tr>\n      <th>2</th>\n      <td>0.266471</td>\n      <td>-0.076791</td>\n      <td>0.416357</td>\n      <td>-0.042187</td>\n      <td>-0.273704</td>\n    </tr>\n    <tr>\n      <th>3</th>\n      <td>-0.222024</td>\n      <td>0.264687</td>\n      <td>-0.647201</td>\n      <td>0.430992</td>\n      <td>0.225456</td>\n    </tr>\n    <tr>\n      <th>4</th>\n      <td>-0.180258</td>\n      <td>0.124389</td>\n      <td>-0.401062</td>\n      <td>0.180734</td>\n      <td>0.186248</td>\n    </tr>\n    <tr>\n      <th>5</th>\n      <td>-0.095262</td>\n      <td>0.461186</td>\n      <td>0.017641</td>\n      <td>0.050146</td>\n      <td>-0.048220</td>\n    </tr>\n    <tr>\n      <th>6</th>\n      <td>-0.356014</td>\n      <td>-0.036713</td>\n      <td>0.090398</td>\n      <td>-0.076607</td>\n      <td>0.348073</td>\n    </tr>\n    <tr>\n      <th>7</th>\n      <td>0.178566</td>\n      <td>-0.160229</td>\n      <td>0.011745</td>\n      <td>-0.265215</td>\n      <td>-0.047226</td>\n    </tr>\n    <tr>\n      <th>8</th>\n      <td>0.007192</td>\n      <td>0.028482</td>\n      <td>0.160892</td>\n      <td>-0.031199</td>\n      <td>-0.087585</td>\n    </tr>\n    <tr>\n      <th>9</th>\n      <td>-0.013067</td>\n      <td>0.004210</td>\n      <td>0.251567</td>\n      <td>0.001191</td>\n      <td>0.004942</td>\n    </tr>\n    <tr>\n      <th>10</th>\n      <td>0.031248</td>\n      <td>0.172677</td>\n      <td>-0.108873</td>\n      <td>0.194601</td>\n      <td>-0.003677</td>\n    </tr>\n    <tr>\n      <th>11</th>\n      <td>-0.003950</td>\n      <td>-0.010441</td>\n      <td>0.063953</td>\n      <td>-0.075709</td>\n      <td>-0.041340</td>\n    </tr>\n    <tr>\n      <th>12</th>\n      <td>0.021558</td>\n      <td>0.045992</td>\n      <td>-0.121203</td>\n      <td>-0.384791</td>\n      <td>0.165354</td>\n    </tr>\n    <tr>\n      <th>13</th>\n      <td>-0.013295</td>\n      <td>0.021700</td>\n      <td>0.096160</td>\n      <td>0.233397</td>\n      <td>-0.146106</td>\n    </tr>\n    <tr>\n      <th>14</th>\n      <td>0.043360</td>\n      <td>-0.136127</td>\n      <td>0.096926</td>\n      <td>-0.323239</td>\n      <td>-0.020450</td>\n    </tr>\n    <tr>\n      <th>15</th>\n      <td>-0.085515</td>\n      <td>-0.214460</td>\n      <td>0.021136</td>\n      <td>-0.139049</td>\n      <td>0.102460</td>\n    </tr>\n    <tr>\n      <th>16</th>\n      <td>-0.083273</td>\n      <td>1.106326</td>\n      <td>0.162633</td>\n      <td>0.121278</td>\n      <td>-0.670517</td>\n    </tr>\n    <tr>\n      <th>17</th>\n      <td>-0.055969</td>\n      <td>0.023349</td>\n      <td>-0.110733</td>\n      <td>0.033651</td>\n      <td>0.059697</td>\n    </tr>\n    <tr>\n      <th>18</th>\n      <td>0.011634</td>\n      <td>-0.003414</td>\n      <td>0.032829</td>\n      <td>-0.014271</td>\n      <td>-0.014635</td>\n    </tr>\n    <tr>\n      <th>19</th>\n      <td>0.022834</td>\n      <td>0.002308</td>\n      <td>0.039539</td>\n      <td>-0.000592</td>\n      <td>-0.026734</td>\n    </tr>\n    <tr>\n      <th>20</th>\n      <td>0.021501</td>\n      <td>-0.022244</td>\n      <td>0.038365</td>\n      <td>-0.018789</td>\n      <td>-0.018328</td>\n    </tr>\n    <tr>\n      <th>21</th>\n      <td>-0.044335</td>\n      <td>0.019936</td>\n      <td>-0.077904</td>\n      <td>0.019381</td>\n      <td>0.045062</td>\n    </tr>\n    <tr>\n      <th>22</th>\n      <td>0.044335</td>\n      <td>-0.019936</td>\n      <td>0.077904</td>\n      <td>-0.019381</td>\n      <td>-0.045062</td>\n    </tr>\n  </tbody>\n</table>\n</div>"
     },
     "execution_count": 26,
     "metadata": {},
     "output_type": "execute_result"
    }
   ]
  },
  {
   "cell_type": "code",
   "metadata": {
    "id": "TisSfTZaGprj"
   },
   "source": [
    "# theta = np.zeros([df.shape[1]+1, y1.shape[1]])\n",
    "# theta2 = pd.DataFrame(theta)\n",
    "# theta2"
   ],
   "execution_count": 27,
   "outputs": []
  },
  {
   "cell_type": "code",
   "metadata": {
    "colab": {
     "base_uri": "https://localhost:8080/"
    },
    "id": "XqtY0aAdn5A6",
    "executionInfo": {
     "status": "ok",
     "timestamp": 1606370567820,
     "user_tz": 300,
     "elapsed": 672,
     "user": {
      "displayName": "Harsha Musunuri",
      "photoUrl": "https://lh3.googleusercontent.com/a-/AOh14GjnSzYIYRgys-ZPyEwKAbDdD3Ke8b_McqyOTqXe_A=s64",
      "userId": "13920128544306220235"
     }
    },
    "outputId": "71e188c3-e098-4ece-d9ed-b6a5cad74b58"
   },
   "source": [
    "type(theta)"
   ],
   "execution_count": 28,
   "outputs": [
    {
     "data": {
      "text/plain": "pandas.core.frame.DataFrame"
     },
     "execution_count": 28,
     "metadata": {},
     "output_type": "execute_result"
    }
   ]
  },
  {
   "cell_type": "code",
   "metadata": {
    "id": "qTiyykk2HEyZ"
   },
   "source": [
    "theta3=theta"
   ],
   "execution_count": 29,
   "outputs": []
  },
  {
   "cell_type": "markdown",
   "metadata": {
    "id": "7VJHrushtZbP"
   },
   "source": [
    "## Testing"
   ]
  },
  {
   "cell_type": "code",
   "metadata": {
    "id": "7nI5FkgftcWT"
   },
   "source": [
    "test=pd.read_csv(test_csv)"
   ],
   "execution_count": 34,
   "outputs": []
  },
  {
   "cell_type": "code",
   "metadata": {
    "id": "lyOGW-CvuL3q"
   },
   "source": [
    "featuresTest=test.drop(['class_sitting', 'class_sittingdown','class_standing','class_standingup','class_walking'], axis = 1) "
   ],
   "execution_count": 35,
   "outputs": []
  },
  {
   "cell_type": "markdown",
   "metadata": {
    "id": "fYnBes-d4f5a"
   },
   "source": [
    "### Mean centering method!"
   ]
  },
  {
   "cell_type": "code",
   "metadata": {
    "id": "TDTF3m3-AoIy"
   },
   "source": [
    "featuresTest=featuresTest-featuresTest.mean()"
   ],
   "execution_count": 36,
   "outputs": []
  },
  {
   "cell_type": "code",
   "metadata": {
    "id": "txYfHwi7uPdK"
   },
   "source": [
    "targetsTest=test[['class_sitting', 'class_sittingdown','class_standing','class_standingup','class_walking']]"
   ],
   "execution_count": 37,
   "outputs": []
  },
  {
   "cell_type": "code",
   "metadata": {
    "colab": {
     "base_uri": "https://localhost:8080/"
    },
    "id": "YdRB05u_ueiY",
    "executionInfo": {
     "status": "ok",
     "timestamp": 1606370572315,
     "user_tz": 300,
     "elapsed": 747,
     "user": {
      "displayName": "Harsha Musunuri",
      "photoUrl": "https://lh3.googleusercontent.com/a-/AOh14GjnSzYIYRgys-ZPyEwKAbDdD3Ke8b_McqyOTqXe_A=s64",
      "userId": "13920128544306220235"
     }
    },
    "outputId": "a549b32d-25ef-4074-e873-a883c718aba1"
   },
   "source": [
    "print(len(featuresTest))\n",
    "print(len(targetsTest))\n",
    "Xtest = pd.concat([pd.Series(1, index=featuresTest.index, name='00'), featuresTest], axis=1) #bias column"
   ],
   "execution_count": 38,
   "outputs": [
    {
     "name": "stdout",
     "output_type": "stream",
     "text": [
      "33127\n",
      "33127\n"
     ]
    }
   ]
  },
  {
   "cell_type": "code",
   "metadata": {
    "id": "4AnNty4Zufk1"
   },
   "source": [
    "ytest=targetsTest"
   ],
   "execution_count": 39,
   "outputs": []
  },
  {
   "cell_type": "code",
   "metadata": {
    "id": "uADPHdBQyZ33"
   },
   "source": [
    "output = []\n",
    "for i in range(0, 5):\n",
    "    h = hypothesis(theta3.iloc[:,i], Xtest)\n",
    "    # theta4 = pd.DataFrame(theta)\n",
    "    # h = hypothesis(theta4.iloc[:,i], X)\n",
    "    output.append(h)\n",
    "output=pd.DataFrame(output)"
   ],
   "execution_count": 40,
   "outputs": []
  },
  {
   "cell_type": "code",
   "metadata": {
    "colab": {
     "base_uri": "https://localhost:8080/",
     "height": 338
    },
    "id": "HQa8omeGoh9f",
    "executionInfo": {
     "status": "ok",
     "timestamp": 1606370575961,
     "user_tz": 300,
     "elapsed": 839,
     "user": {
      "displayName": "Harsha Musunuri",
      "photoUrl": "https://lh3.googleusercontent.com/a-/AOh14GjnSzYIYRgys-ZPyEwKAbDdD3Ke8b_McqyOTqXe_A=s64",
      "userId": "13920128544306220235"
     }
    },
    "outputId": "8dde928e-075a-4d6f-e5e0-3843c3eb9c2c"
   },
   "source": [
    "output.head(5)"
   ],
   "execution_count": null,
   "outputs": [
    {
     "output_type": "execute_result",
     "data": {
      "text/html": [
       "<div>\n",
       "<style scoped>\n",
       "    .dataframe tbody tr th:only-of-type {\n",
       "        vertical-align: middle;\n",
       "    }\n",
       "\n",
       "    .dataframe tbody tr th {\n",
       "        vertical-align: top;\n",
       "    }\n",
       "\n",
       "    .dataframe thead th {\n",
       "        text-align: right;\n",
       "    }\n",
       "</style>\n",
       "<table border=\"1\" class=\"dataframe\">\n",
       "  <thead>\n",
       "    <tr style=\"text-align: right;\">\n",
       "      <th></th>\n",
       "      <th>0</th>\n",
       "      <th>1</th>\n",
       "      <th>2</th>\n",
       "      <th>3</th>\n",
       "      <th>4</th>\n",
       "      <th>5</th>\n",
       "      <th>6</th>\n",
       "      <th>7</th>\n",
       "      <th>8</th>\n",
       "      <th>9</th>\n",
       "      <th>10</th>\n",
       "      <th>11</th>\n",
       "      <th>12</th>\n",
       "      <th>13</th>\n",
       "      <th>14</th>\n",
       "      <th>15</th>\n",
       "      <th>16</th>\n",
       "      <th>17</th>\n",
       "      <th>18</th>\n",
       "      <th>19</th>\n",
       "      <th>20</th>\n",
       "      <th>21</th>\n",
       "      <th>22</th>\n",
       "      <th>23</th>\n",
       "      <th>24</th>\n",
       "      <th>25</th>\n",
       "      <th>26</th>\n",
       "      <th>27</th>\n",
       "      <th>28</th>\n",
       "      <th>29</th>\n",
       "      <th>30</th>\n",
       "      <th>31</th>\n",
       "      <th>32</th>\n",
       "      <th>33</th>\n",
       "      <th>34</th>\n",
       "      <th>35</th>\n",
       "      <th>36</th>\n",
       "      <th>37</th>\n",
       "      <th>38</th>\n",
       "      <th>39</th>\n",
       "      <th>...</th>\n",
       "      <th>33087</th>\n",
       "      <th>33088</th>\n",
       "      <th>33089</th>\n",
       "      <th>33090</th>\n",
       "      <th>33091</th>\n",
       "      <th>33092</th>\n",
       "      <th>33093</th>\n",
       "      <th>33094</th>\n",
       "      <th>33095</th>\n",
       "      <th>33096</th>\n",
       "      <th>33097</th>\n",
       "      <th>33098</th>\n",
       "      <th>33099</th>\n",
       "      <th>33100</th>\n",
       "      <th>33101</th>\n",
       "      <th>33102</th>\n",
       "      <th>33103</th>\n",
       "      <th>33104</th>\n",
       "      <th>33105</th>\n",
       "      <th>33106</th>\n",
       "      <th>33107</th>\n",
       "      <th>33108</th>\n",
       "      <th>33109</th>\n",
       "      <th>33110</th>\n",
       "      <th>33111</th>\n",
       "      <th>33112</th>\n",
       "      <th>33113</th>\n",
       "      <th>33114</th>\n",
       "      <th>33115</th>\n",
       "      <th>33116</th>\n",
       "      <th>33117</th>\n",
       "      <th>33118</th>\n",
       "      <th>33119</th>\n",
       "      <th>33120</th>\n",
       "      <th>33121</th>\n",
       "      <th>33122</th>\n",
       "      <th>33123</th>\n",
       "      <th>33124</th>\n",
       "      <th>33125</th>\n",
       "      <th>33126</th>\n",
       "    </tr>\n",
       "  </thead>\n",
       "  <tbody>\n",
       "    <tr>\n",
       "      <th>0</th>\n",
       "      <td>9.998697e-01</td>\n",
       "      <td>-1.000000e-07</td>\n",
       "      <td>9.999999e-01</td>\n",
       "      <td>9.999999e-01</td>\n",
       "      <td>4.866903e-08</td>\n",
       "      <td>9.999998e-01</td>\n",
       "      <td>-9.997900e-08</td>\n",
       "      <td>-1.000000e-07</td>\n",
       "      <td>-9.999992e-08</td>\n",
       "      <td>9.999999e-01</td>\n",
       "      <td>9.999999e-01</td>\n",
       "      <td>-7.411157e-08</td>\n",
       "      <td>-1.000000e-07</td>\n",
       "      <td>-9.892205e-08</td>\n",
       "      <td>-9.980495e-08</td>\n",
       "      <td>5.692693e-07</td>\n",
       "      <td>-1.000000e-07</td>\n",
       "      <td>-1.000000e-07</td>\n",
       "      <td>5.175378e-07</td>\n",
       "      <td>9.999999e-01</td>\n",
       "      <td>9.999999e-01</td>\n",
       "      <td>2.069839e-04</td>\n",
       "      <td>-8.201486e-08</td>\n",
       "      <td>-1.000000e-07</td>\n",
       "      <td>9.083272e-05</td>\n",
       "      <td>2.133141e-03</td>\n",
       "      <td>9.999999e-01</td>\n",
       "      <td>9.999999e-01</td>\n",
       "      <td>-1.000000e-07</td>\n",
       "      <td>-9.999938e-08</td>\n",
       "      <td>2.270012e-05</td>\n",
       "      <td>-9.996134e-08</td>\n",
       "      <td>5.717574e-01</td>\n",
       "      <td>9.999999e-01</td>\n",
       "      <td>9.999999e-01</td>\n",
       "      <td>3.129527e-05</td>\n",
       "      <td>7.682335e-07</td>\n",
       "      <td>-1.000000e-07</td>\n",
       "      <td>9.999999e-01</td>\n",
       "      <td>-1.000000e-07</td>\n",
       "      <td>...</td>\n",
       "      <td>-9.998615e-08</td>\n",
       "      <td>2.310614e-07</td>\n",
       "      <td>-9.999979e-08</td>\n",
       "      <td>-1.000000e-07</td>\n",
       "      <td>9.999999e-01</td>\n",
       "      <td>9.999999e-01</td>\n",
       "      <td>2.008378e-06</td>\n",
       "      <td>9.999999e-01</td>\n",
       "      <td>6.837235e-01</td>\n",
       "      <td>6.659905e-08</td>\n",
       "      <td>1.262862e-03</td>\n",
       "      <td>1.136468e-05</td>\n",
       "      <td>9.999999e-01</td>\n",
       "      <td>-9.999901e-08</td>\n",
       "      <td>-2.148882e-09</td>\n",
       "      <td>9.999998e-01</td>\n",
       "      <td>9.999999e-01</td>\n",
       "      <td>-2.857138e-08</td>\n",
       "      <td>9.999999e-01</td>\n",
       "      <td>1.128698e-06</td>\n",
       "      <td>9.674238e-01</td>\n",
       "      <td>-1.000000e-07</td>\n",
       "      <td>-9.999675e-08</td>\n",
       "      <td>-1.000000e-07</td>\n",
       "      <td>9.834505e-01</td>\n",
       "      <td>9.999999e-01</td>\n",
       "      <td>-9.210687e-08</td>\n",
       "      <td>8.727941e-04</td>\n",
       "      <td>9.999999e-01</td>\n",
       "      <td>9.999999e-01</td>\n",
       "      <td>1.224344e-03</td>\n",
       "      <td>-3.399764e-08</td>\n",
       "      <td>3.200798e-05</td>\n",
       "      <td>9.999999e-01</td>\n",
       "      <td>1.473871e-04</td>\n",
       "      <td>9.999999e-01</td>\n",
       "      <td>1.003536e-06</td>\n",
       "      <td>9.999999e-01</td>\n",
       "      <td>1.436477e-06</td>\n",
       "      <td>-9.999174e-08</td>\n",
       "    </tr>\n",
       "    <tr>\n",
       "      <th>1</th>\n",
       "      <td>-1.000000e-07</td>\n",
       "      <td>9.999999e-01</td>\n",
       "      <td>9.999996e-01</td>\n",
       "      <td>-5.617152e-08</td>\n",
       "      <td>9.999999e-01</td>\n",
       "      <td>7.988164e-05</td>\n",
       "      <td>9.999999e-01</td>\n",
       "      <td>3.000736e-07</td>\n",
       "      <td>9.999999e-01</td>\n",
       "      <td>4.825323e-01</td>\n",
       "      <td>1.924485e-02</td>\n",
       "      <td>9.999436e-01</td>\n",
       "      <td>-9.999684e-08</td>\n",
       "      <td>9.999999e-01</td>\n",
       "      <td>-9.999991e-08</td>\n",
       "      <td>9.999999e-01</td>\n",
       "      <td>-9.999999e-08</td>\n",
       "      <td>1.937750e-08</td>\n",
       "      <td>9.999999e-01</td>\n",
       "      <td>-1.000000e-07</td>\n",
       "      <td>4.781765e-01</td>\n",
       "      <td>9.999999e-01</td>\n",
       "      <td>-9.999997e-08</td>\n",
       "      <td>-1.000000e-07</td>\n",
       "      <td>-1.000000e-07</td>\n",
       "      <td>1.696880e-06</td>\n",
       "      <td>-9.967458e-08</td>\n",
       "      <td>-9.998031e-08</td>\n",
       "      <td>-1.000000e-07</td>\n",
       "      <td>3.696240e-06</td>\n",
       "      <td>9.999999e-01</td>\n",
       "      <td>-1.000000e-07</td>\n",
       "      <td>-1.000000e-07</td>\n",
       "      <td>-1.000000e-07</td>\n",
       "      <td>1.757585e-07</td>\n",
       "      <td>-9.993052e-08</td>\n",
       "      <td>-9.999998e-08</td>\n",
       "      <td>3.131767e-04</td>\n",
       "      <td>-9.999596e-08</td>\n",
       "      <td>-1.000000e-07</td>\n",
       "      <td>...</td>\n",
       "      <td>-9.999989e-08</td>\n",
       "      <td>-9.980311e-08</td>\n",
       "      <td>-1.000000e-07</td>\n",
       "      <td>4.370277e-04</td>\n",
       "      <td>1.536746e-04</td>\n",
       "      <td>4.010139e-06</td>\n",
       "      <td>-9.999977e-08</td>\n",
       "      <td>-9.616026e-08</td>\n",
       "      <td>5.555800e-06</td>\n",
       "      <td>-9.999999e-08</td>\n",
       "      <td>-9.999983e-08</td>\n",
       "      <td>-9.999549e-08</td>\n",
       "      <td>1.368936e-06</td>\n",
       "      <td>-1.000000e-07</td>\n",
       "      <td>-9.997495e-08</td>\n",
       "      <td>-6.949775e-09</td>\n",
       "      <td>3.891885e-05</td>\n",
       "      <td>9.999999e-01</td>\n",
       "      <td>-9.995475e-08</td>\n",
       "      <td>9.999999e-01</td>\n",
       "      <td>-7.359440e-08</td>\n",
       "      <td>-9.930716e-08</td>\n",
       "      <td>9.999999e-01</td>\n",
       "      <td>-9.999882e-08</td>\n",
       "      <td>9.999999e-01</td>\n",
       "      <td>9.464910e-04</td>\n",
       "      <td>-9.231024e-08</td>\n",
       "      <td>-9.954901e-08</td>\n",
       "      <td>-9.994311e-08</td>\n",
       "      <td>-9.999991e-08</td>\n",
       "      <td>-9.936899e-08</td>\n",
       "      <td>-9.992451e-08</td>\n",
       "      <td>9.999999e-01</td>\n",
       "      <td>-9.999995e-08</td>\n",
       "      <td>9.999999e-01</td>\n",
       "      <td>-9.999999e-08</td>\n",
       "      <td>-9.999924e-08</td>\n",
       "      <td>-9.999996e-08</td>\n",
       "      <td>-9.999743e-08</td>\n",
       "      <td>-9.999952e-08</td>\n",
       "    </tr>\n",
       "    <tr>\n",
       "      <th>2</th>\n",
       "      <td>7.212908e-02</td>\n",
       "      <td>-9.999921e-08</td>\n",
       "      <td>-9.740669e-08</td>\n",
       "      <td>-9.978030e-08</td>\n",
       "      <td>-9.999023e-08</td>\n",
       "      <td>-9.999928e-08</td>\n",
       "      <td>-9.999950e-08</td>\n",
       "      <td>9.999996e-01</td>\n",
       "      <td>-1.000000e-07</td>\n",
       "      <td>3.206748e-07</td>\n",
       "      <td>-1.199996e-08</td>\n",
       "      <td>-9.837800e-08</td>\n",
       "      <td>-1.000000e-07</td>\n",
       "      <td>-1.000000e-07</td>\n",
       "      <td>9.988068e-01</td>\n",
       "      <td>-9.816606e-08</td>\n",
       "      <td>9.976807e-01</td>\n",
       "      <td>9.999999e-01</td>\n",
       "      <td>-8.501577e-08</td>\n",
       "      <td>-9.997262e-08</td>\n",
       "      <td>-7.244140e-08</td>\n",
       "      <td>-9.990060e-08</td>\n",
       "      <td>9.994617e-01</td>\n",
       "      <td>9.989353e-01</td>\n",
       "      <td>1.714430e-01</td>\n",
       "      <td>7.392972e-04</td>\n",
       "      <td>-8.023894e-08</td>\n",
       "      <td>-8.942730e-08</td>\n",
       "      <td>9.999999e-01</td>\n",
       "      <td>9.999886e-01</td>\n",
       "      <td>-9.899970e-08</td>\n",
       "      <td>8.004682e-01</td>\n",
       "      <td>-9.994938e-08</td>\n",
       "      <td>-6.277576e-08</td>\n",
       "      <td>5.708209e-03</td>\n",
       "      <td>9.999999e-01</td>\n",
       "      <td>9.999999e-01</td>\n",
       "      <td>-9.999977e-08</td>\n",
       "      <td>-6.744333e-08</td>\n",
       "      <td>9.891909e-01</td>\n",
       "      <td>...</td>\n",
       "      <td>9.983962e-01</td>\n",
       "      <td>9.969990e-01</td>\n",
       "      <td>9.999999e-01</td>\n",
       "      <td>9.979114e-01</td>\n",
       "      <td>-8.607079e-08</td>\n",
       "      <td>-9.978503e-08</td>\n",
       "      <td>9.999999e-01</td>\n",
       "      <td>1.097135e-06</td>\n",
       "      <td>-1.000000e-07</td>\n",
       "      <td>9.999713e-01</td>\n",
       "      <td>9.938690e-01</td>\n",
       "      <td>9.999999e-01</td>\n",
       "      <td>4.574130e-01</td>\n",
       "      <td>9.997643e-01</td>\n",
       "      <td>-1.824794e-09</td>\n",
       "      <td>-9.999992e-08</td>\n",
       "      <td>-3.231190e-08</td>\n",
       "      <td>-9.998321e-08</td>\n",
       "      <td>-9.596822e-08</td>\n",
       "      <td>5.230210e-08</td>\n",
       "      <td>9.999862e-01</td>\n",
       "      <td>9.999998e-01</td>\n",
       "      <td>-9.999956e-08</td>\n",
       "      <td>9.967000e-01</td>\n",
       "      <td>-1.000000e-07</td>\n",
       "      <td>-9.932404e-08</td>\n",
       "      <td>9.979070e-01</td>\n",
       "      <td>9.903506e-01</td>\n",
       "      <td>-3.269959e-08</td>\n",
       "      <td>-9.952293e-08</td>\n",
       "      <td>9.999999e-01</td>\n",
       "      <td>9.999999e-01</td>\n",
       "      <td>-7.833014e-08</td>\n",
       "      <td>-9.999996e-08</td>\n",
       "      <td>-9.988899e-08</td>\n",
       "      <td>-7.969511e-08</td>\n",
       "      <td>9.999999e-01</td>\n",
       "      <td>-9.999978e-08</td>\n",
       "      <td>7.028407e-01</td>\n",
       "      <td>9.996780e-01</td>\n",
       "    </tr>\n",
       "    <tr>\n",
       "      <th>3</th>\n",
       "      <td>-9.999998e-08</td>\n",
       "      <td>9.999999e-01</td>\n",
       "      <td>-9.999960e-08</td>\n",
       "      <td>-9.994638e-08</td>\n",
       "      <td>9.999999e-01</td>\n",
       "      <td>-9.997512e-08</td>\n",
       "      <td>9.999999e-01</td>\n",
       "      <td>-9.999772e-08</td>\n",
       "      <td>9.999999e-01</td>\n",
       "      <td>9.857967e-01</td>\n",
       "      <td>-9.995821e-08</td>\n",
       "      <td>9.999997e-01</td>\n",
       "      <td>9.968790e-01</td>\n",
       "      <td>9.999999e-01</td>\n",
       "      <td>-9.999994e-08</td>\n",
       "      <td>9.999999e-01</td>\n",
       "      <td>-9.995491e-08</td>\n",
       "      <td>4.094004e-06</td>\n",
       "      <td>9.999999e-01</td>\n",
       "      <td>-1.000000e-07</td>\n",
       "      <td>9.999613e-01</td>\n",
       "      <td>2.780902e-04</td>\n",
       "      <td>-1.000000e-07</td>\n",
       "      <td>-9.999999e-08</td>\n",
       "      <td>-9.999989e-08</td>\n",
       "      <td>-9.999866e-08</td>\n",
       "      <td>-9.999999e-08</td>\n",
       "      <td>-1.000000e-07</td>\n",
       "      <td>-1.000000e-07</td>\n",
       "      <td>-9.999999e-08</td>\n",
       "      <td>9.999999e-01</td>\n",
       "      <td>-1.000000e-07</td>\n",
       "      <td>1.748733e-01</td>\n",
       "      <td>-9.999950e-08</td>\n",
       "      <td>-1.000000e-07</td>\n",
       "      <td>-9.939341e-08</td>\n",
       "      <td>-1.000000e-07</td>\n",
       "      <td>9.998200e-01</td>\n",
       "      <td>-1.000000e-07</td>\n",
       "      <td>-9.999995e-08</td>\n",
       "      <td>...</td>\n",
       "      <td>-9.999966e-08</td>\n",
       "      <td>9.846140e-01</td>\n",
       "      <td>9.999999e-01</td>\n",
       "      <td>-9.998647e-08</td>\n",
       "      <td>-9.999961e-08</td>\n",
       "      <td>1.022867e-07</td>\n",
       "      <td>1.468840e-04</td>\n",
       "      <td>-9.999998e-08</td>\n",
       "      <td>-3.268203e-08</td>\n",
       "      <td>-9.999999e-08</td>\n",
       "      <td>-9.999993e-08</td>\n",
       "      <td>-9.999999e-08</td>\n",
       "      <td>1.898250e-04</td>\n",
       "      <td>-9.999679e-08</td>\n",
       "      <td>1.241872e-03</td>\n",
       "      <td>-9.998185e-08</td>\n",
       "      <td>-9.999998e-08</td>\n",
       "      <td>9.999999e-01</td>\n",
       "      <td>-1.000000e-07</td>\n",
       "      <td>9.999999e-01</td>\n",
       "      <td>-9.720144e-08</td>\n",
       "      <td>-9.999029e-08</td>\n",
       "      <td>9.999999e-01</td>\n",
       "      <td>-1.000000e-07</td>\n",
       "      <td>9.999999e-01</td>\n",
       "      <td>-9.183156e-08</td>\n",
       "      <td>-9.998293e-08</td>\n",
       "      <td>-9.999836e-08</td>\n",
       "      <td>-1.000000e-07</td>\n",
       "      <td>-9.996749e-08</td>\n",
       "      <td>-9.943337e-08</td>\n",
       "      <td>-9.999999e-08</td>\n",
       "      <td>6.221248e-06</td>\n",
       "      <td>1.679311e-06</td>\n",
       "      <td>9.999999e-01</td>\n",
       "      <td>-9.999320e-08</td>\n",
       "      <td>-1.000000e-07</td>\n",
       "      <td>3.168447e-07</td>\n",
       "      <td>-9.973203e-08</td>\n",
       "      <td>-9.999999e-08</td>\n",
       "    </tr>\n",
       "    <tr>\n",
       "      <th>4</th>\n",
       "      <td>7.328210e-01</td>\n",
       "      <td>9.999999e-01</td>\n",
       "      <td>-1.000000e-07</td>\n",
       "      <td>-9.999999e-08</td>\n",
       "      <td>9.999999e-01</td>\n",
       "      <td>-9.987720e-08</td>\n",
       "      <td>9.999999e-01</td>\n",
       "      <td>-4.125277e-08</td>\n",
       "      <td>9.999999e-01</td>\n",
       "      <td>3.541471e-01</td>\n",
       "      <td>-1.000000e-07</td>\n",
       "      <td>-9.999988e-08</td>\n",
       "      <td>9.999999e-01</td>\n",
       "      <td>9.999999e-01</td>\n",
       "      <td>4.003891e-03</td>\n",
       "      <td>9.999999e-01</td>\n",
       "      <td>9.993749e-01</td>\n",
       "      <td>1.694655e-06</td>\n",
       "      <td>9.999999e-01</td>\n",
       "      <td>2.312525e-03</td>\n",
       "      <td>9.715715e-01</td>\n",
       "      <td>-1.000000e-07</td>\n",
       "      <td>2.391042e-01</td>\n",
       "      <td>9.826499e-01</td>\n",
       "      <td>5.031474e-03</td>\n",
       "      <td>-9.999812e-08</td>\n",
       "      <td>-1.000000e-07</td>\n",
       "      <td>-9.999799e-08</td>\n",
       "      <td>9.997884e-01</td>\n",
       "      <td>-9.961714e-08</td>\n",
       "      <td>9.999999e-01</td>\n",
       "      <td>7.233022e-01</td>\n",
       "      <td>8.790554e-01</td>\n",
       "      <td>-9.984619e-08</td>\n",
       "      <td>-1.000000e-07</td>\n",
       "      <td>-9.999997e-08</td>\n",
       "      <td>-9.052655e-08</td>\n",
       "      <td>2.019691e-02</td>\n",
       "      <td>-1.000000e-07</td>\n",
       "      <td>9.999999e-01</td>\n",
       "      <td>...</td>\n",
       "      <td>2.202406e-02</td>\n",
       "      <td>-9.999806e-08</td>\n",
       "      <td>-9.836033e-08</td>\n",
       "      <td>-7.263696e-08</td>\n",
       "      <td>-1.000000e-07</td>\n",
       "      <td>-1.000000e-07</td>\n",
       "      <td>-9.999970e-08</td>\n",
       "      <td>-1.000000e-07</td>\n",
       "      <td>1.886733e-07</td>\n",
       "      <td>1.379608e-05</td>\n",
       "      <td>1.479329e-05</td>\n",
       "      <td>-9.995498e-08</td>\n",
       "      <td>-1.000000e-07</td>\n",
       "      <td>9.074414e-02</td>\n",
       "      <td>2.653022e-05</td>\n",
       "      <td>-6.195275e-08</td>\n",
       "      <td>-1.000000e-07</td>\n",
       "      <td>9.999999e-01</td>\n",
       "      <td>-1.000000e-07</td>\n",
       "      <td>9.999999e-01</td>\n",
       "      <td>-9.999799e-08</td>\n",
       "      <td>1.683459e-07</td>\n",
       "      <td>9.999999e-01</td>\n",
       "      <td>1.980596e-04</td>\n",
       "      <td>9.999999e-01</td>\n",
       "      <td>-1.000000e-07</td>\n",
       "      <td>-9.581151e-08</td>\n",
       "      <td>3.531687e-08</td>\n",
       "      <td>-1.000000e-07</td>\n",
       "      <td>-1.000000e-07</td>\n",
       "      <td>-1.000000e-07</td>\n",
       "      <td>-9.999271e-08</td>\n",
       "      <td>-1.000000e-07</td>\n",
       "      <td>-9.249508e-08</td>\n",
       "      <td>6.550966e-01</td>\n",
       "      <td>-9.999336e-08</td>\n",
       "      <td>-9.857497e-08</td>\n",
       "      <td>-9.125971e-08</td>\n",
       "      <td>2.715936e-03</td>\n",
       "      <td>3.051358e-03</td>\n",
       "    </tr>\n",
       "  </tbody>\n",
       "</table>\n",
       "<p>5 rows × 33127 columns</p>\n",
       "</div>"
      ],
      "text/plain": [
       "          0             1      ...         33125         33126\n",
       "0  9.998697e-01 -1.000000e-07  ...  1.436477e-06 -9.999174e-08\n",
       "1 -1.000000e-07  9.999999e-01  ... -9.999743e-08 -9.999952e-08\n",
       "2  7.212908e-02 -9.999921e-08  ...  7.028407e-01  9.996780e-01\n",
       "3 -9.999998e-08  9.999999e-01  ... -9.973203e-08 -9.999999e-08\n",
       "4  7.328210e-01  9.999999e-01  ...  2.715936e-03  3.051358e-03\n",
       "\n",
       "[5 rows x 33127 columns]"
      ]
     },
     "metadata": {
      "tags": []
     },
     "execution_count": 339
    }
   ]
  },
  {
   "cell_type": "markdown",
   "metadata": {
    "id": "6PcS-05K4viq"
   },
   "source": [
    "## Argmax of y0,y1,y2,y3,y4 is marked as the class"
   ]
  },
  {
   "cell_type": "code",
   "metadata": {
    "id": "pqxErWz64XEp"
   },
   "source": [
    "for m in range(33127):\n",
    "  max=np.argmax(list(output.iloc[:, m]))\n",
    "  output.iloc[max, m]=1  "
   ],
   "execution_count": 41,
   "outputs": []
  },
  {
   "cell_type": "markdown",
   "metadata": {
    "id": "4PX0ujpS3ZyE"
   },
   "source": [
    "## Accuracy calculations"
   ]
  },
  {
   "cell_type": "code",
   "metadata": {
    "id": "eXEJZj2-yfaK"
   },
   "source": [
    "accuracy = 0\n",
    "for col in range(0, 5):\n",
    "    for row in range(len(ytest)):\n",
    "        if ytest.iloc[row, col] == 1 and output.iloc[col, row] == 1:\n",
    "            accuracy += 1\n",
    "accuracy = accuracy/len(Xtest)"
   ],
   "execution_count": 42,
   "outputs": []
  },
  {
   "cell_type": "code",
   "metadata": {
    "colab": {
     "base_uri": "https://localhost:8080/"
    },
    "id": "ddOFn4jxyi7P",
    "executionInfo": {
     "status": "ok",
     "timestamp": 1606370596606,
     "user_tz": 300,
     "elapsed": 18467,
     "user": {
      "displayName": "Harsha Musunuri",
      "photoUrl": "https://lh3.googleusercontent.com/a-/AOh14GjnSzYIYRgys-ZPyEwKAbDdD3Ke8b_McqyOTqXe_A=s64",
      "userId": "13920128544306220235"
     }
    },
    "outputId": "7a542350-97f5-4c44-8988-aa0799ae47fc"
   },
   "source": [
    "accuracy"
   ],
   "execution_count": 43,
   "outputs": [
    {
     "data": {
      "text/plain": "0.6110725390165123"
     },
     "execution_count": 43,
     "metadata": {},
     "output_type": "execute_result"
    }
   ]
  },
  {
   "cell_type": "code",
   "metadata": {
    "id": "MWz2eDvHZqLG"
   },
   "source": [
    ""
   ],
   "execution_count": null,
   "outputs": []
  },
  {
   "cell_type": "code",
   "metadata": {
    "id": "GjVp8Cw5jz7-"
   },
   "source": [
    ""
   ],
   "execution_count": null,
   "outputs": []
  }
 ]
}